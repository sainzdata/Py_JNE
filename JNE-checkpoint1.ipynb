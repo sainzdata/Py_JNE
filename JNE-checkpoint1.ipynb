{
 "cells": [
  {
   "cell_type": "code",
   "execution_count": 1,
   "id": "a294b41f",
   "metadata": {},
   "outputs": [
    {
     "name": "stdin",
     "output_type": "stream",
     "text": [
      "Masukkan nilai berat  130\n"
     ]
    },
    {
     "name": "stdout",
     "output_type": "stream",
     "text": [
      "Paket tidak dapat dikirim dikarenakan melebihi standard 120kg\n"
     ]
    }
   ],
   "source": [
    "# buat variable menggunakan function inpit berat paket\n",
    "# tipe data menggunakan float karena bersifat continuous\n",
    "\n",
    "berat_paket = float(input('Masukkan nilai berat '))\n",
    "\n",
    "# Rules\n",
    "if berat_paket > 120:\n",
    "    print('Paket tidak dapat dikirim dikarenakan melebihi standard 120kg')\n",
    "    \n",
    "elif berat_paket >= 50:\n",
    "    price = 13\n",
    "    charge = 500\n",
    "    print('Paket melebihi standard,', str(berat_paket) + 'kg >= 50kg, dan dikenai charge 500ribu')\n",
    "    print('Total biaya:', str(price*berat_paket+charge) +'ribu')\n",
    "    \n",
    "else:\n",
    "    price = 13\n",
    "    print('Paket diterima dengan berat', str(berat_paket) + 'kg dan biaya yang dikenakan sebesar ' + str(price*berat_paket) + 'ribu')\n",
    "    \n",
    "    "
   ]
  },
  {
   "cell_type": "code",
   "execution_count": null,
   "id": "503aaf2f-2561-49dc-bcf9-dcc664fae9b0",
   "metadata": {},
   "outputs": [],
   "source": []
  }
 ],
 "metadata": {
  "kernelspec": {
   "display_name": "Python 3 (ipykernel)",
   "language": "python",
   "name": "python3"
  },
  "language_info": {
   "codemirror_mode": {
    "name": "ipython",
    "version": 3
   },
   "file_extension": ".py",
   "mimetype": "text/x-python",
   "name": "python",
   "nbconvert_exporter": "python",
   "pygments_lexer": "ipython3",
   "version": "3.8.13"
  }
 },
 "nbformat": 4,
 "nbformat_minor": 5
}
