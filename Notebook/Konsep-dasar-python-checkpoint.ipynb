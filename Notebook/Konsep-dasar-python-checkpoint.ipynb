{
 "cells": [
  {
   "cell_type": "markdown",
   "id": "4f5ccb3d",
   "metadata": {},
   "source": [
    "# Konsep dasar Python"
   ]
  },
  {
   "cell_type": "markdown",
   "id": "9ada29ef",
   "metadata": {},
   "source": [
    "## Atribut Peralatan "
   ]
  },
  {
   "cell_type": "markdown",
   "id": "b4d69f10",
   "metadata": {
    "tags": []
   },
   "source": [
    "### Objek"
   ]
  },
  {
   "cell_type": "code",
   "execution_count": 3,
   "id": "56dec3ca-d7fa-4c3c-b3cb-385fdb2a7b5e",
   "metadata": {},
   "outputs": [
    {
     "name": "stdout",
     "output_type": "stream",
     "text": [
      "10\n"
     ]
    }
   ],
   "source": [
    "a=10\n",
    "print(a)"
   ]
  },
  {
   "cell_type": "code",
   "execution_count": null,
   "id": "9b6b21c3-1876-4c3f-a5e0-b7f9651b6db3",
   "metadata": {},
   "outputs": [],
   "source": []
  },
  {
   "cell_type": "markdown",
   "id": "952dafbc",
   "metadata": {},
   "source": [
    "### Statement\n"
   ]
  },
  {
   "cell_type": "code",
   "execution_count": 6,
   "id": "81b38f6e-fbd1-40db-b971-cefc970983a1",
   "metadata": {},
   "outputs": [
    {
     "name": "stdout",
     "output_type": "stream",
     "text": [
      "10 12 22\n"
     ]
    }
   ],
   "source": [
    "a = 10\n",
    "b = 12\n",
    "c = a+b \n",
    "print(a,b,c)"
   ]
  },
  {
   "cell_type": "markdown",
   "id": "a3f56f61",
   "metadata": {},
   "source": [
    "### Komentar"
   ]
  },
  {
   "cell_type": "code",
   "execution_count": 55,
   "id": "58cf3899-a13d-4e61-a1a2-25b0550e7249",
   "metadata": {},
   "outputs": [
    {
     "name": "stdin",
     "output_type": "stream",
     "text": [
      "Total biaya pengiriman: Rp  120000\n"
     ]
    },
    {
     "name": "stdout",
     "output_type": "stream",
     "text": [
      "dan diskon 5%\n",
      "Kamu mendapatkan bonus minuman dingin\n",
      "Total yang harus dibayar: Rp 114000.0\n",
      "Terima kasih sudah mengirim paket dengan JNE\n",
      "Selamat Datang Kembali...\n"
     ]
    }
   ],
   "source": [
    "# program untuk mengecek bonus dan diskon\n",
    "\n",
    "biaya_pengiriman = int(input(\"Total biaya pengiriman: Rp \"))\n",
    "\n",
    "# jumlah yang harus dibayar adalah berapa total pengirimannya\n",
    "# tapi kalau dapat diskon akan berkurang biaya pengiriamannya\n",
    "\n",
    "bayar = biaya_pengiriman\n",
    "\n",
    "# jika dia biaya pengiriman di atas 100rb maka berikan bonus dan diskon\n",
    "\n",
    "if biaya_pengiriman > 100000:\n",
    "    print(\"dan diskon 5%\")\n",
    "    print(\"Kamu mendapatkan bonus minuman dingin\")\n",
    "\n",
    "    # hitung diskonnya\n",
    "    diskon = biaya_pengiriman * 5/100   # 5%\n",
    "    bayar = biaya_pengiriman - diskon\n",
    "\n",
    "    # cetak struk\n",
    "    print(\"Total yang harus dibayar: %s\" % bayar)\n",
    "    print(\"Terima kasih sudah mengirim paket dengan JNE\")\n",
    "    print(\"Selamat Datang Kembali...\")"
   ]
  },
  {
   "cell_type": "markdown",
   "id": "98864ac2",
   "metadata": {},
   "source": [
    "## Persiapan"
   ]
  },
  {
   "cell_type": "markdown",
   "id": "47dd09c7",
   "metadata": {},
   "source": [
    "### Tipe Data"
   ]
  },
  {
   "cell_type": "code",
   "execution_count": 54,
   "id": "0268cbac",
   "metadata": {},
   "outputs": [
    {
     "name": "stdin",
     "output_type": "stream",
     "text": [
      "Inputkan nilaimu:  69\n"
     ]
    },
    {
     "name": "stdout",
     "output_type": "stream",
     "text": [
      "Grade: C+\n"
     ]
    }
   ],
   "source": [
    "nilai = int(input(\"Inputkan nilaimu: \"))\n",
    "\n",
    "if nilai >= 90:\n",
    "   grade = \"A\"\n",
    "elif nilai >= 80:\n",
    "   grade = \"B+\"\n",
    "elif nilai >= 70:\n",
    "   grade = \"B\"\n",
    "elif nilai >= 60:\n",
    "   grade = \"C+\"\n",
    "elif nilai >= 50:\n",
    "   grade = \"C\"\n",
    "elif nilai >= 40:\n",
    "   grade = \"D\"\n",
    "else:\n",
    "   grade = \"E\"\n",
    "\n",
    "print(\"Grade: %s\" % grade)"
   ]
  },
  {
   "cell_type": "code",
   "execution_count": 40,
   "id": "85ae7d4f-a029-45b5-ba4d-79d0dc712c4f",
   "metadata": {},
   "outputs": [
    {
     "data": {
      "text/plain": [
       "tuple"
      ]
     },
     "execution_count": 40,
     "metadata": {},
     "output_type": "execute_result"
    }
   ],
   "source": [
    "type(Strings)"
   ]
  },
  {
   "cell_type": "markdown",
   "id": "09633856",
   "metadata": {},
   "source": [
    "### Operator\n"
   ]
  },
  {
   "cell_type": "code",
   "execution_count": 53,
   "id": "838e048f-5c8b-42c5-be63-dc9fefbfdfa3",
   "metadata": {},
   "outputs": [
    {
     "name": "stdin",
     "output_type": "stream",
     "text": [
      "Berapa Nilai Anda?:  75\n"
     ]
    },
    {
     "name": "stdout",
     "output_type": "stream",
     "text": [
      "Anda berhak mendapatkan Sertifikat\n"
     ]
    }
   ],
   "source": [
    "nilai = input(\"Berapa Nilai Anda?: \")\n",
    "\n",
    "if int(nilai) >= 75:\n",
    "    print(\"Anda berhak mendapatkan Sertifikat\")\n",
    "else:\n",
    "    print(\"Diwajibkan untuk ikut remidi\")"
   ]
  },
  {
   "cell_type": "markdown",
   "id": "732ab2ed",
   "metadata": {},
   "source": [
    "## Proses Algoritma"
   ]
  },
  {
   "cell_type": "markdown",
   "id": "7bf0a1b8",
   "metadata": {},
   "source": [
    "### Percabangan If"
   ]
  },
  {
   "cell_type": "markdown",
   "id": "cbee9d6e",
   "metadata": {},
   "source": [
    "### Percabangan If/Else"
   ]
  },
  {
   "cell_type": "markdown",
   "id": "9f1affa3",
   "metadata": {},
   "source": [
    "### Percabangan if/Elif/Else"
   ]
  },
  {
   "cell_type": "markdown",
   "id": "49495f53",
   "metadata": {},
   "source": [
    "### Perulangan for"
   ]
  },
  {
   "cell_type": "markdown",
   "id": "fa970d41",
   "metadata": {},
   "source": [
    "### Perulangan while"
   ]
  },
  {
   "cell_type": "code",
   "execution_count": null,
   "id": "0f24c19f",
   "metadata": {},
   "outputs": [],
   "source": []
  }
 ],
 "metadata": {
  "kernelspec": {
   "display_name": "Python 3 (ipykernel)",
   "language": "python",
   "name": "python3"
  },
  "language_info": {
   "codemirror_mode": {
    "name": "ipython",
    "version": 3
   },
   "file_extension": ".py",
   "mimetype": "text/x-python",
   "name": "python",
   "nbconvert_exporter": "python",
   "pygments_lexer": "ipython3",
   "version": "3.8.13"
  }
 },
 "nbformat": 4,
 "nbformat_minor": 5
}
