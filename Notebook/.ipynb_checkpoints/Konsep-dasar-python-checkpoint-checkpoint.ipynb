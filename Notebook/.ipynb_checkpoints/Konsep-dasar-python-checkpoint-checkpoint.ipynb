{
 "cells": [
  {
   "cell_type": "markdown",
   "id": "4f5ccb3d",
   "metadata": {},
   "source": [
    "# Konsep dasar Python"
   ]
  },
  {
   "cell_type": "markdown",
   "id": "9ada29ef",
   "metadata": {},
   "source": [
    "## Atribut Peralatan "
   ]
  },
  {
   "cell_type": "markdown",
   "id": "b4d69f10",
   "metadata": {},
   "source": [
    "### Objek"
   ]
  },
  {
   "cell_type": "markdown",
   "id": "ce81e18b",
   "metadata": {},
   "source": [
    "### Variabel"
   ]
  },
  {
   "cell_type": "markdown",
   "id": "952dafbc",
   "metadata": {},
   "source": [
    "### Statement\n"
   ]
  },
  {
   "cell_type": "markdown",
   "id": "a3f56f61",
   "metadata": {},
   "source": [
    "### Komentar"
   ]
  },
  {
   "cell_type": "markdown",
   "id": "98864ac2",
   "metadata": {},
   "source": [
    "## Persiapan"
   ]
  },
  {
   "cell_type": "markdown",
   "id": "47dd09c7",
   "metadata": {},
   "source": [
    "### Tipe Data"
   ]
  },
  {
   "cell_type": "code",
   "execution_count": 8,
   "id": "0268cbac",
   "metadata": {},
   "outputs": [
    {
     "data": {
      "text/plain": [
       "(0, 1, True, False)"
      ]
     },
     "execution_count": 8,
     "metadata": {},
     "output_type": "execute_result"
    }
   ],
   "source": [
    "Strings = 'python',\"python\"\n",
    "Numbers = 10\n",
    "Lists = ['python','website']\n",
    "Tuples = ('python','website')\n",
    "Dictionary = {'name':'python','number':1}\n",
    "Sets = {1,2,3}\n",
    "Boolean = 0,1,True,False\n"
   ]
  },
  {
   "cell_type": "markdown",
   "id": "09633856",
   "metadata": {},
   "source": [
    "### Operator\n"
   ]
  },
  {
   "cell_type": "markdown",
   "id": "732ab2ed",
   "metadata": {},
   "source": [
    "## Proses Algoritma"
   ]
  },
  {
   "cell_type": "markdown",
   "id": "7bf0a1b8",
   "metadata": {},
   "source": [
    "### Percabangan If"
   ]
  },
  {
   "cell_type": "markdown",
   "id": "cbee9d6e",
   "metadata": {},
   "source": [
    "### Percabangan If/Else"
   ]
  },
  {
   "cell_type": "markdown",
   "id": "9f1affa3",
   "metadata": {},
   "source": [
    "### Percabangan if/Elif/Else"
   ]
  },
  {
   "cell_type": "markdown",
   "id": "49495f53",
   "metadata": {},
   "source": [
    "### Perulangan for"
   ]
  },
  {
   "cell_type": "markdown",
   "id": "fa970d41",
   "metadata": {},
   "source": [
    "### Perulangan while"
   ]
  },
  {
   "cell_type": "code",
   "execution_count": null,
   "id": "0f24c19f",
   "metadata": {},
   "outputs": [],
   "source": []
  }
 ],
 "metadata": {
  "kernelspec": {
   "display_name": "Python 3 (ipykernel)",
   "language": "python",
   "name": "python3"
  },
  "language_info": {
   "codemirror_mode": {
    "name": "ipython",
    "version": 3
   },
   "file_extension": ".py",
   "mimetype": "text/x-python",
   "name": "python",
   "nbconvert_exporter": "python",
   "pygments_lexer": "ipython3",
   "version": "3.9.12"
  }
 },
 "nbformat": 4,
 "nbformat_minor": 5
}
