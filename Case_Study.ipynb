{
 "cells": [
  {
   "cell_type": "markdown",
   "id": "28f5fbb3-fddb-4994-92ea-c710e5287922",
   "metadata": {},
   "source": [
    "# Case Study\n",
    "\n",
    "Adapun hal2 yang akan dipelajari dalam pertemuan ini adalah sebagai berikut:\n",
    "\n",
    "1. Import Data\n",
    "2. Data Cleaning\n",
    "3. Pivot Tabel\n",
    "4. Visualisasi Data\n",
    "5. Dashboard"
   ]
  },
  {
   "cell_type": "markdown",
   "id": "247c49bb-6d4f-43cc-be06-c8dece8e2450",
   "metadata": {},
   "source": [
    "## Kasus Satu\n",
    "\n"
   ]
  },
  {
   "cell_type": "code",
   "execution_count": null,
   "id": "537ae34a-446b-4bf5-ad08-09e6b9c005c9",
   "metadata": {},
   "outputs": [],
   "source": []
  }
 ],
 "metadata": {
  "kernelspec": {
   "display_name": "Python 3 (ipykernel)",
   "language": "python",
   "name": "python3"
  },
  "language_info": {
   "codemirror_mode": {
    "name": "ipython",
    "version": 3
   },
   "file_extension": ".py",
   "mimetype": "text/x-python",
   "name": "python",
   "nbconvert_exporter": "python",
   "pygments_lexer": "ipython3",
   "version": "3.9.12"
  }
 },
 "nbformat": 4,
 "nbformat_minor": 5
}
