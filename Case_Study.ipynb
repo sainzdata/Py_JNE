{
 "cells": [
  {
   "cell_type": "markdown",
   "id": "28f5fbb3-fddb-4994-92ea-c710e5287922",
   "metadata": {},
   "source": [
    "# Case Study\n",
    "\n",
    "Adapun hal2 yang akan dipelajari dalam pertemuan ini adalah sebagai berikut:\n",
    "\n",
    "1. Import Data\n",
    "2. Data Cleaning\n",
    "3. Pivot Tabel\n",
    "4. Visualisasi Data\n",
    "5. Dashboard"
   ]
  },
  {
   "cell_type": "markdown",
   "id": "247c49bb-6d4f-43cc-be06-c8dece8e2450",
   "metadata": {},
   "source": [
    "## Risk Map\n",
    "\n",
    "### Import Data\n",
    "\n",
    "**Langkah 1:** Periksa direktori kerja Anda saat ini"
   ]
  },
  {
   "cell_type": "code",
   "execution_count": 1,
   "id": "537ae34a-446b-4bf5-ad08-09e6b9c005c9",
   "metadata": {},
   "outputs": [
    {
     "data": {
      "text/plain": [
       "'C:\\\\Users\\\\user\\\\Desktop\\\\Py_JNE'"
      ]
     },
     "execution_count": 1,
     "metadata": {},
     "output_type": "execute_result"
    }
   ],
   "source": [
    "import os                                   # Import library OS \n",
    "os.getcwd()                                 # Get the current working directory"
   ]
  },
  {
   "cell_type": "markdown",
   "id": "1ec816a0-e04b-477d-8e66-f418ce4f3432",
   "metadata": {},
   "source": [
    "**Langkah 2:** Salin direktori (jalur) file diatas untuk digunakan atau di-ubah sesuai direktori kerjanya yang diinginkan. Berikut diperlihatkan contohnya:"
   ]
  },
  {
   "cell_type": "code",
   "execution_count": 2,
   "id": "f50fd33a-f5fd-4460-9c1f-e7073737dd7f",
   "metadata": {},
   "outputs": [],
   "source": [
    "# Cara 1:Change the current working directory\n",
    "os.chdir('C:\\\\Users\\\\user\\\\Desktop\\\\Py_JNE\\\\data\\\\CS')  \n",
    "\n",
    "# Cara 2:Change the current working directory\n",
    "os.chdir('C:/Users/user/Desktop/Py_JNE/data/CS')  "
   ]
  },
  {
   "cell_type": "markdown",
   "id": "a0bd4ede-bc56-4d86-814b-8db50c1e7dfe",
   "metadata": {},
   "source": [
    "**Langkah 3:** Read (baca) data dari Excel ke Python (JupyterLab)"
   ]
  },
  {
   "cell_type": "code",
   "execution_count": 84,
   "id": "a3870f4a-1035-484a-9851-e6537677b434",
   "metadata": {},
   "outputs": [],
   "source": [
    "# library pandas untuk impor data\n",
    "import pandas as pd                                   \n",
    "Inherent = pd.read_excel('RiskRegister.xlsx',sheet_name=\"Risk Register\", header=1, usecols='Q:U') \n",
    "Residual = pd.read_excel('RiskRegister.xlsx',sheet_name=\"Risk Register\", header=1, usecols='V:Z')"
   ]
  },
  {
   "cell_type": "code",
   "execution_count": 73,
   "id": "4a15ae90-35a2-4c07-913e-57f52e2f1f39",
   "metadata": {},
   "outputs": [
    {
     "name": "stdout",
     "output_type": "stream",
     "text": [
      "           Impact   Impact Value          Likelihood  Likelihood Value  \\\n",
      "0     Catastrophic             5  Kemungkinan Kecil                  2   \n",
      "1         Moderate             3  Kemungkinan Sedang                 3   \n",
      "2            Major             4   Kemungkinan Besar                 4   \n",
      "3            Minor             2  Kemungkinan Kecil                  2   \n",
      "4         Moderate             3  Kemungkinan Sedang                 3   \n",
      "..             ...           ...                 ...               ...   \n",
      "561       Moderate             3  Kemungkinan Sedang                 3   \n",
      "562       Moderate             3  Kemungkinan Sedang                 3   \n",
      "563          Minor             2  Kemungkinan Kecil                  2   \n",
      "564  Insignificant             1              Jarang                 1   \n",
      "565          Major             4   Kemungkinan Besar                 4   \n",
      "\n",
      "     Risk Level  \n",
      "0            10  \n",
      "1             9  \n",
      "2            16  \n",
      "3             4  \n",
      "4             9  \n",
      "..          ...  \n",
      "561           9  \n",
      "562           9  \n",
      "563           4  \n",
      "564           1  \n",
      "565          16  \n",
      "\n",
      "[566 rows x 5 columns]\n"
     ]
    }
   ],
   "source": [
    "print(Inherent)        # Print data Inherent"
   ]
  },
  {
   "cell_type": "code",
   "execution_count": 74,
   "id": "a5ec5733-7bd1-4412-a17e-2538ec74834b",
   "metadata": {},
   "outputs": [
    {
     "name": "stdout",
     "output_type": "stream",
     "text": [
      "          Impact .1  Impact Value.1        Likelihood.1  Likelihood Value.1  \\\n",
      "0             Minor               2              Jarang                   1   \n",
      "1             Minor               2              Jarang                   1   \n",
      "2             Major               4  Kemungkinan Sedang                   3   \n",
      "3             Minor               2              Jarang                   1   \n",
      "4          Moderate               3   Kemungkinan Kecil                   2   \n",
      "..              ...             ...                 ...                 ...   \n",
      "561        Moderate               3   Kemungkinan Kecil                   2   \n",
      "562        Moderate               3   Kemungkinan Kecil                   2   \n",
      "563           Minor               2   Kemungkinan Kecil                   2   \n",
      "564  Insignificant                1              Jarang                   1   \n",
      "565           Major               4  Kemungkinan Sedang                   3   \n",
      "\n",
      "     Risk Level.1  \n",
      "0               2  \n",
      "1               2  \n",
      "2              12  \n",
      "3               2  \n",
      "4               6  \n",
      "..            ...  \n",
      "561             6  \n",
      "562             6  \n",
      "563             4  \n",
      "564             1  \n",
      "565            12  \n",
      "\n",
      "[566 rows x 5 columns]\n"
     ]
    }
   ],
   "source": [
    "print(Residual)        # Print data Residual "
   ]
  },
  {
   "cell_type": "markdown",
   "id": "77f0943c-353d-4a5c-bfa0-5dcd520daab8",
   "metadata": {},
   "source": [
    "**Catatan:** Karena nama varibel pada data Inherent dan Residual adalah sama, maka Python secara automatis melakukan penambahan indeks menggunakan nomor.Dalam hal ini ada baiknya jika nama varibel tersebut dibedakan pada saat pengumpulan data (atau bisa juga direname pada proses pengolahan data di Python)."
   ]
  },
  {
   "cell_type": "markdown",
   "id": "5757397f-9599-49de-961c-9a536d0fcf57",
   "metadata": {},
   "source": [
    "### Tabulasi Silang\n",
    "\n",
    "Metode ini digunakan untuk menghitung *cross-tabulation* (tabulasi silang) dari dua atau lebih variabel kategori. Dalam hal ini, digunakan untuk menghitung frekuensi dari "
   ]
  },
  {
   "cell_type": "code",
   "execution_count": null,
   "id": "9c136d4a-d1a2-4a6d-a400-4a77677d1892",
   "metadata": {},
   "outputs": [],
   "source": [
    "Inherent=pd.crosstab(Inherent[\"Impact Value\"], Inherent[\"Impact Value\"])\n",
    "Inherent"
   ]
  },
  {
   "cell_type": "code",
   "execution_count": 92,
   "id": "b7e4a581-298a-4a6d-ba71-3b873c30c5ab",
   "metadata": {},
   "outputs": [
    {
     "data": {
      "text/plain": [
       "array([[[0, 1],\n",
       "        [2, 3]],\n",
       "\n",
       "       [[4, 5],\n",
       "        [6, 7]]])"
      ]
     },
     "execution_count": 92,
     "metadata": {},
     "output_type": "execute_result"
    }
   ],
   "source": [
    "import numpy as np\n",
    "A = np.arange(8).reshape((2,2,2))\n",
    "A\n",
    "https://numpy.org/doc/stable/reference/generated/numpy.flip.html"
   ]
  },
  {
   "cell_type": "code",
   "execution_count": 93,
   "id": "7ee4ac99-1efb-443e-a67c-5f740f52e7de",
   "metadata": {},
   "outputs": [
    {
     "data": {
      "text/plain": [
       "array([[[7, 6],\n",
       "        [5, 4]],\n",
       "\n",
       "       [[3, 2],\n",
       "        [1, 0]]])"
      ]
     },
     "execution_count": 93,
     "metadata": {},
     "output_type": "execute_result"
    }
   ],
   "source": [
    "np.flip(A)"
   ]
  },
  {
   "cell_type": "code",
   "execution_count": null,
   "id": "7091d53a-cb66-46ba-a72a-9bb6b6a5d512",
   "metadata": {},
   "outputs": [],
   "source": [
    "Residual=pd.crosstab(Inherent[\"Likelihood Value.1\"], Inherent[\"Impact Value.1\"])\n",
    "Residual"
   ]
  },
  {
   "cell_type": "code",
   "execution_count": null,
   "id": "483d209d-8271-463b-a08b-0b6eec3fd6ed",
   "metadata": {},
   "outputs": [],
   "source": []
  },
  {
   "cell_type": "markdown",
   "id": "8622508a-726f-403a-a030-1df2ef77dc80",
   "metadata": {},
   "source": [
    "**Keterangan:** Link Penjelasan di [Youtube](https://www.youtube.com/watch?v=S_0GWsLyQaM)\n",
    "\n",
    "* **Impact** dibagi menjadi 5 kategori penilaian berikut:\n",
    "    * **Insignificant (1)**, yang artinya tidak signifikan (tidak berdampak)\n",
    "    * **Minor (2)**, berdampak minor\n",
    "    * **Moderate (3)**, \n",
    "    * **Major (4)**\n",
    "    * Catastrophic \n",
    "    \n",
    "* **Likelihood** dibagi menjadi 5 kategori penilaian berikut:\n",
    "    * Rare = \n",
    "    * Unlikely = \n",
    "    * Possible = \n",
    "    * Likely = \n",
    "    * Certain = \n",
    "    "
   ]
  },
  {
   "cell_type": "code",
   "execution_count": null,
   "id": "bc7011f6-9ef5-4d3c-99b9-879be5136f46",
   "metadata": {},
   "outputs": [],
   "source": []
  },
  {
   "cell_type": "markdown",
   "id": "0d02ef4b-b0ef-4012-9fe1-0673e0849663",
   "metadata": {},
   "source": []
  }
 ],
 "metadata": {
  "kernelspec": {
   "display_name": "Python 3 (ipykernel)",
   "language": "python",
   "name": "python3"
  },
  "language_info": {
   "codemirror_mode": {
    "name": "ipython",
    "version": 3
   },
   "file_extension": ".py",
   "mimetype": "text/x-python",
   "name": "python",
   "nbconvert_exporter": "python",
   "pygments_lexer": "ipython3",
   "version": "3.8.13"
  }
 },
 "nbformat": 4,
 "nbformat_minor": 5
}
