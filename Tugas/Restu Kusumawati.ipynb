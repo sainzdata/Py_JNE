{
 "cells": [
  {
   "cell_type": "markdown",
   "id": "9ec84770",
   "metadata": {},
   "source": [
    "# Latihan 1"
   ]
  },
  {
   "cell_type": "code",
   "execution_count": 4,
   "id": "1d213b54",
   "metadata": {},
   "outputs": [
    {
     "name": "stdout",
     "output_type": "stream",
     "text": [
      "Menghitung Total Biaya Kiriman\n",
      "Masukan Berat Kiriman satuan kilo:66\n",
      "Akan dikenai charge Rp 500000\n",
      "ongkos_kirim: Rp 10000\n",
      "Total Biaya yang Harus Dibayar adalah: Rp 7100000\n"
     ]
    }
   ],
   "source": [
    "# Ketentuan Pengiriman\n",
    "print(\"Menghitung Total Biaya Kiriman\")\n",
    "\n",
    "berat = int(input(\"Masukan Berat Kiriman satuan kilo:\"))\n",
    "ongkos_kirim =100000\n",
    "jumlah = berat*ongkos_kirim\n",
    "\n",
    "if berat <50:\n",
    "    print(\"Pengantaran Paket Dapat Dilakukan\")\n",
    "    print(\"ongkos_kirim: Rp 10000\")\n",
    "    print(\"Total Biaya yang Harus Dibayar adalah: Rp\",jumlah)\n",
    "elif berat <= 120:\n",
    "    print(\"Akan dikenai charge Rp 500000\")\n",
    "    print(\"ongkos_kirim: Rp 10000\")\n",
    "    print(\"Total Biaya yang Harus Dibayar adalah: Rp\",(jumlah+500000))\n",
    "else:\n",
    "    print(\"Maaf, Pengantaran Paket Tidak Dapat Dilakukan\")"
   ]
  },
  {
   "cell_type": "markdown",
   "id": "50421629",
   "metadata": {},
   "source": [
    "# Latihan 2"
   ]
  },
  {
   "cell_type": "code",
   "execution_count": 7,
   "id": "e57bcc92",
   "metadata": {},
   "outputs": [
    {
     "name": "stdout",
     "output_type": "stream",
     "text": [
      "Informasi Penggajian\n",
      "Inputkan grademu: 3\n",
      "Inputkan masa kerjamu dalam tahun: 5\n",
      "Dept head\n",
      "Anda Mendapatkan Gaji: 10000000\n"
     ]
    }
   ],
   "source": [
    "#Menentukan Gaji Sesuai Grade\n",
    "print(\"Informasi Penggajian\")\n",
    "\n",
    "Grade = int(input(\"Inputkan grademu: \"))\n",
    "Masa_Kerja = int(input(\"Inputkan masa kerjamu dalam tahun: \"))\n",
    "\n",
    "\n",
    "if Grade==1 and Masa_Kerja<=2:\n",
    "    print(\"Staff\")\n",
    "    print(\"Anda Mendapatkan Gaji: 3500000\")\n",
    "\n",
    "elif Grade==1 and Masa_Kerja>2:\n",
    "    print(\"Staff\")\n",
    "    print(\"Anda Mendapatkan Gaji: 4000000\")\n",
    "    \n",
    "elif Grade==2 and Masa_Kerja<=3:\n",
    "    print(\"Head\")\n",
    "    print(\"Anda Mendapatkan Gaji: 4500000\")\n",
    "\n",
    "elif Grade==2 and Masa_Kerja>3:\n",
    "    print(\"Head\")\n",
    "    print(\"Anda Mendapatkan Gaji: 5000000\")\n",
    "\n",
    "elif Grade==3 and Masa_Kerja<=5:\n",
    "    print(\"Dept head\")\n",
    "    print(\"Anda Mendapatkan Gaji: 10000000\")\n",
    "\n",
    "elif Grade==3 and Masa_Kerja>5:\n",
    "    print(\"Dept head\")\n",
    "    print(\"Anda Mendapatkan Gaji: 15000000\")\n",
    "\n",
    "else:\n",
    "    print(\"Periksa Kembali Penulisan Grade dan Masa Kerja Anda\")\n"
   ]
  },
  {
   "cell_type": "code",
   "execution_count": null,
   "id": "d60a49d1",
   "metadata": {},
   "outputs": [],
   "source": []
  }
 ],
 "metadata": {
  "kernelspec": {
   "display_name": "Python 3 (ipykernel)",
   "language": "python",
   "name": "python3"
  },
  "language_info": {
   "codemirror_mode": {
    "name": "ipython",
    "version": 3
   },
   "file_extension": ".py",
   "mimetype": "text/x-python",
   "name": "python",
   "nbconvert_exporter": "python",
   "pygments_lexer": "ipython3",
   "version": "3.9.12"
  }
 },
 "nbformat": 4,
 "nbformat_minor": 5
}
