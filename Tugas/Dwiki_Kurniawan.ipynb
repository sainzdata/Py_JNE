{
 "cells": [
  {
   "cell_type": "markdown",
   "id": "15776935-93fb-432a-a747-f163a5091154",
   "metadata": {},
   "source": [
    "# Pertemuan Ke-1"
   ]
  },
  {
   "cell_type": "markdown",
   "id": "34c811e6-ec55-4a23-aba3-4d241accd4a1",
   "metadata": {},
   "source": [
    "## Tugas 1"
   ]
  },
  {
   "cell_type": "code",
   "execution_count": 15,
   "id": "97496390-5cd9-4e1b-9bab-40fbb6a500de",
   "metadata": {},
   "outputs": [
    {
     "name": "stdin",
     "output_type": "stream",
     "text": [
      "Masukan Berat Kiriman 122\n"
     ]
    },
    {
     "name": "stdout",
     "output_type": "stream",
     "text": [
      "Pengantaran Tidak Dapat Dilakukan Dikarenakan Melebihi Kapasitas Maksimum\n",
      "Terima Kasih Sudah Menggunakan Jasa Pengiriman Kami\n"
     ]
    }
   ],
   "source": [
    "berat_kiriman = int(input(\"Masukan Berat Kiriman\"))\n",
    "\n",
    "# hitung total biaya kiriman\n",
    "bayar = int(berat_kiriman)*10000\n",
    "charge = int(bayar)+500000\n",
    "\n",
    "if berat_kiriman < 50:\n",
    "    print(\"Pengantaran dapat Dilakukan dengan Biaya Rp\",bayar)\n",
    "    print(\"Terima Kasih Sudah Menggunakan Jasa Pengiriman Kami\")\n",
    "elif berat_kiriman > 120:\n",
    "    print(\"Pengantaran Tidak Dapat Dilakukan Dikarenakan Melebihi Kapasitas Maksimum\")\n",
    "    print(\"Terima Kasih Sudah Menggunakan Jasa Pengiriman Kami\")\n",
    "elif berat_kiriman >= 50:\n",
    "    print(\"Pengantaran dapat Dilakukan dengan Biaya Rp\",charge)\n",
    "    print(\"Terima Kasih Sudah Menggunakan Jasa Pengiriman Kami\")\n",
    "\n",
    "    "
   ]
  },
  {
   "cell_type": "markdown",
   "id": "54f4f621-99eb-48d5-9ef4-4d41afbf1087",
   "metadata": {},
   "source": [
    "## Tugas 2"
   ]
  },
  {
   "cell_type": "code",
   "execution_count": 27,
   "id": "1dbd24b3-f80e-42d5-b569-3595d9c06c1c",
   "metadata": {},
   "outputs": [
    {
     "name": "stdin",
     "output_type": "stream",
     "text": [
      "grade : 3\n",
      "years : 8\n"
     ]
    },
    {
     "name": "stdout",
     "output_type": "stream",
     "text": [
      "Mendapatkan gaji Rp 15000000\n"
     ]
    }
   ],
   "source": [
    "grade = int(input(\"grade :\"))\n",
    "masa_kerja = int(input(\"years :\"))\n",
    "                 \n",
    "if grade == 1 :\n",
    "    if masa_kerja <= 2 :\n",
    "        print (\"Mendapatkan gaji Rp 3500000\")\n",
    "    elif masa_kerja > 2 :\n",
    "        print(\"Mendapatkan gaji Rp 4000000\")\n",
    "if grade == 2 :\n",
    "    if masa_kerja <= 3 :\n",
    "        print(\"Mendapatkan gaji Rp 4500000\")\n",
    "    elif masa_kerja > 3 :\n",
    "        print(\"Mendapatkan gaji Rp 5000000\")\n",
    "if grade == 3 :\n",
    "    if masa_kerja <= 5 :\n",
    "        print(\"Mendapatkan gaji Rp 10000000\")\n",
    "    elif masa_kerja > 5 :\n",
    "        print(\"Mendapatkan gaji Rp 15000000\")      \n",
    "                 "
   ]
  },
  {
   "cell_type": "code",
   "execution_count": null,
   "id": "c3b54014-47f1-4271-b9f5-9d6f10787113",
   "metadata": {},
   "outputs": [],
   "source": []
  }
 ],
 "metadata": {
  "kernelspec": {
   "display_name": "Python 3 (ipykernel)",
   "language": "python",
   "name": "python3"
  },
  "language_info": {
   "codemirror_mode": {
    "name": "ipython",
    "version": 3
   },
   "file_extension": ".py",
   "mimetype": "text/x-python",
   "name": "python",
   "nbconvert_exporter": "python",
   "pygments_lexer": "ipython3",
   "version": "3.9.12"
  }
 },
 "nbformat": 4,
 "nbformat_minor": 5
}
