{
 "cells": [
  {
   "cell_type": "code",
   "execution_count": 1,
   "id": "51755e11-e024-4638-bc07-9b5a2b5ab426",
   "metadata": {},
   "outputs": [],
   "source": [
    "#LATIHAN 1"
   ]
  }
 ],
 "metadata": {
  "kernelspec": {
   "display_name": "Python 3 (ipykernel)",
   "language": "python",
   "name": "python3"
  },
  "language_info": {
   "codemirror_mode": {
    "name": "ipython",
    "version": 3
   },
   "file_extension": ".py",
   "mimetype": "text/x-python",
   "name": "python",
   "nbconvert_exporter": "python",
   "pygments_lexer": "ipython3",
   "version": "3.8.13"
  }
 },
 "nbformat": 4,
 "nbformat_minor": 5
}
