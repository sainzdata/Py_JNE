{
 "cells": [
  {
   "cell_type": "markdown",
   "id": "81d9ea47",
   "metadata": {},
   "source": [
    "### LATIHAN SOAL 1"
   ]
  },
  {
   "cell_type": "code",
   "execution_count": 1,
   "id": "2815b24c",
   "metadata": {},
   "outputs": [
    {
     "name": "stdout",
     "output_type": "stream",
     "text": [
      "Berat Kiriman=3\n",
      "Pengiriman Dapat Dilakukan\n",
      "Charge= 0\n",
      "Total Biaya= 60000\n"
     ]
    },
    {
     "data": {
      "text/plain": [
       "2"
      ]
     },
     "execution_count": 1,
     "metadata": {},
     "output_type": "execute_result"
    }
   ],
   "source": [
    "Berat=int(input(\"Berat Kiriman=\"))\n",
    "Biaya_Per_Kg=20000\n",
    "\n",
    "if Berat>120:\n",
    "    print(\"Maaf Pengantaran Tidak Dapat Dilakukan\")\n",
    "    Charge=0\n",
    "    Perhitungan=0\n",
    "elif Berat>=50:\n",
    "    print(\"Pengiriman Dapat Dilakukan\")\n",
    "    Charge=500000\n",
    "    Perhitungan=int(Berat)*Biaya_Per_Kg+Charge\n",
    "else:\n",
    "    print(\"Pengiriman Dapat Dilakukan\")\n",
    "    Charge=0\n",
    "    Perhitungan=int(Berat)*Biaya_Per_Kg+Charge\n",
    "    \n",
    "print(\"Charge=\",Charge)\n",
    "print(\"Total Biaya=\", Perhitungan)\n",
    "2"
   ]
  },
  {
   "cell_type": "markdown",
   "id": "db022802",
   "metadata": {},
   "source": [
    "### LATIHAN SOAL 2"
   ]
  },
  {
   "cell_type": "code",
   "execution_count": 3,
   "id": "e21e4804",
   "metadata": {},
   "outputs": [
    {
     "name": "stdout",
     "output_type": "stream",
     "text": [
      "Masa kerja=2\n",
      "Grade=2\n",
      "Head\n",
      "Mendapatkan Gaji RP.4.500.000\n"
     ]
    }
   ],
   "source": [
    "masa_kerja=int(input(\"Masa kerja=\"))\n",
    "grade=int(input(\"Grade=\"))\n",
    "\n",
    "if grade==1 and masa_kerja<=2:\n",
    "    print(\"Staff\")\n",
    "    print(\"Mendapatkan Gaji RP 3.500.000\")\n",
    "elif grade==1 and masa_kerja>2:\n",
    "    print(\"Staff\")\n",
    "    print(\"Mendapatkan Gaji RP.4.000.000\")\n",
    "elif grade==2 and masa_kerja<=3:\n",
    "    print(\"Head\")\n",
    "    print(\"Mendapatkan Gaji RP.4.500.000\")\n",
    "elif grade==2 and masa_kerja>3:\n",
    "    print(\"Head\")\n",
    "    print(\"Mendapatkan Gaji RP.5.000.000\")\n",
    "elif grade==3 and masa_kerja<=5:\n",
    "    print(\"Dept Head\")\n",
    "    print(\"Mendapatkan Gaji RP.10.000.000\")\n",
    "elif grade==3 and masa_kerja>5:\n",
    "    print(\"Dept Head\")\n",
    "    print(\"Mendapatkan Gaji Rp. 15.000.000\")\n",
    "else:\n",
    "    print(\"grade tidak ditemukan\")"
   ]
  }
 ],
 "metadata": {
  "kernelspec": {
   "display_name": "Python 3 (ipykernel)",
   "language": "python",
   "name": "python3"
  },
  "language_info": {
   "codemirror_mode": {
    "name": "ipython",
    "version": 3
   },
   "file_extension": ".py",
   "mimetype": "text/x-python",
   "name": "python",
   "nbconvert_exporter": "python",
   "pygments_lexer": "ipython3",
   "version": "3.9.12"
  }
 },
 "nbformat": 4,
 "nbformat_minor": 5
}
