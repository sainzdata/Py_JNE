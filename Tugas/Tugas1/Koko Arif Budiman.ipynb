{
 "cells": [
  {
   "cell_type": "markdown",
   "id": "fa821d99-9621-45dd-9952-99f7ec880ca8",
   "metadata": {},
   "source": [
    "# soal 1"
   ]
  },
  {
   "cell_type": "code",
   "execution_count": null,
   "id": "052ac5bf-d4cd-43e0-b123-fb61a7d4784e",
   "metadata": {},
   "outputs": [],
   "source": [
    "berat_kiriman = int(input(\"Input berat :\"))\n",
    "tarif = int(berat_kiriman) * 9000\n",
    "charge = int(tarif) + 500000\n",
    "\n",
    "if berat_kiriman < 50 :\n",
    "    print(\"Berat kiriman\" , berat_kiriman , \"kg\")\n",
    "    print(\"Nominal yang dibayar sebesar Rp\" , tarif)\n",
    "    print(\"Terima kasih sudah menggunakan layanan kami\")\n",
    "elif berat_kiriman >= 120 :\n",
    "    print (\"Mohon maaf kiriman anda tidak dapat dilakukan pengantaran\")\n",
    "    print(\"Terima kasih sudah menggunakan layanan kami\")\n",
    "elif berat_kiriman > 50 :\n",
    "    print(\"berat kiriman\" , berat_kiriman , \"kg\")\n",
    "    print(\"Nominal yang dibayar sebesar Rp\" , tarif)\n",
    "    print (\"kiriman anda dikenai charge kelebihan berat senilai Rp 500000\")\n",
    "    print (\"Total Tarif Rp\" , charge)\n",
    "    print(\"Terima kasih\")\n",
    "       \n"
   ]
  },
  {
   "cell_type": "markdown",
   "id": "1b641cb2-50a1-48de-aef4-a9104084aafc",
   "metadata": {},
   "source": [
    "# soal 2"
   ]
  },
  {
   "cell_type": "code",
   "execution_count": 3,
   "id": "351f7aa0-4f58-42f1-b07b-3ac0e85bb79d",
   "metadata": {},
   "outputs": [
    {
     "name": "stdin",
     "output_type": "stream",
     "text": [
      "Grade : 4\n",
      "Masa kerja : 23\n"
     ]
    },
    {
     "name": "stdout",
     "output_type": "stream",
     "text": [
      "grade invalid\n"
     ]
    }
   ],
   "source": [
    "grade = int(input(\"Grade :\"))\n",
    "masa_kerja = int(input(\"Masa kerja :\"))\n",
    "\n",
    "if grade == 1:\n",
    "    if masa_kerja <=2 :\n",
    "        print (\"level jabatan : staf\")\n",
    "        print (\"Gaji Rp 3.500.000\")\n",
    "    elif masa_kerja >=2 :\n",
    "        print (\"level jabatan : staf\")\n",
    "        print (\"Gaji Rp 4.000.000\")        \n",
    "elif grade == 2:\n",
    "    if masa_kerja <=3 :\n",
    "        print (\"level jabatan : head\")\n",
    "        print (\"Gaji Rp 4.500.000\")\n",
    "    elif masa_kerja >=3 :\n",
    "        print (\"level jabatan : head\")\n",
    "        print (\"Gaji Rp 5.000.000\")\n",
    "elif grade == 3:\n",
    "    if masa_kerja <=5 :\n",
    "        print (\"level jabatan : dept.head\")\n",
    "        print (\"Gaji Rp 10.000.000\")\n",
    "    elif masa_kerja >=5 :\n",
    "        print (\"level jabatan : dept.head\")\n",
    "        print (\"Gaji Rp 15.000.000\")\n",
    "else :\n",
    "    print (\"grade invalid\")"
   ]
  },
  {
   "cell_type": "code",
   "execution_count": null,
   "id": "6e5166da-e9ec-4b83-ada8-124b1ea1e64e",
   "metadata": {},
   "outputs": [],
   "source": []
  }
 ],
 "metadata": {
  "kernelspec": {
   "display_name": "Python 3 (ipykernel)",
   "language": "python",
   "name": "python3"
  },
  "language_info": {
   "codemirror_mode": {
    "name": "ipython",
    "version": 3
   },
   "file_extension": ".py",
   "mimetype": "text/x-python",
   "name": "python",
   "nbconvert_exporter": "python",
   "pygments_lexer": "ipython3",
   "version": "3.8.13"
  }
 },
 "nbformat": 4,
 "nbformat_minor": 5
}
