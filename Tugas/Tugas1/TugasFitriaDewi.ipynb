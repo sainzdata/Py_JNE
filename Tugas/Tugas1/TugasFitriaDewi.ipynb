{
 "cells": [
  {
   "cell_type": "markdown",
   "id": "674e6213-32b8-45b1-932c-f4c696621a13",
   "metadata": {},
   "source": [
    "## Nama: Fitria Dewi"
   ]
  },
  {
   "cell_type": "markdown",
   "id": "cda412bd-a4c1-4740-ae76-d70605b74b53",
   "metadata": {},
   "source": [
    "## Dept: Risk Management"
   ]
  },
  {
   "cell_type": "markdown",
   "id": "a64b699e-e829-4de4-ae83-8b11aaad1ef3",
   "metadata": {},
   "source": [
    "### Latihan 1 dengan input biaya kirim per kg"
   ]
  },
  {
   "cell_type": "code",
   "execution_count": 1,
   "id": "1bf1af0d-fcd8-4711-8694-84d9b9dc4800",
   "metadata": {},
   "outputs": [
    {
     "name": "stdin",
     "output_type": "stream",
     "text": [
      "Berat Kiriman= 10\n",
      "Biaya Kirim Per Kg= Rp. 10000\n"
     ]
    },
    {
     "name": "stdout",
     "output_type": "stream",
     "text": [
      "Bisa Dikirim\n",
      "Charge= 0\n",
      "Total Biaya Rp. 100000\n"
     ]
    }
   ],
   "source": [
    "berat=int(input(\"Berat Kiriman=\"))\n",
    "perhitungan= berat\n",
    "biaya=int(input(\"Biaya Kirim Per Kg= Rp.\"))\n",
    "if berat>120:\n",
    "    print(\"Tidak Bisa Dikirim\")\n",
    "    charge=0\n",
    "    perhitungan=0\n",
    "elif berat>=50:\n",
    "    print (\"Dikirim Dengan Charge\")\n",
    "    charge=500000\n",
    "    perhitungan=int(berat)*biaya+charge\n",
    "else:\n",
    "    print(\"Bisa Dikirim\")\n",
    "    charge=0\n",
    "    perhitungan=int(berat)*biaya+charge\n",
    "    \n",
    "print(\"Charge=\",charge)\n",
    "print (\"Total Biaya Rp.\", perhitungan)"
   ]
  },
  {
   "cell_type": "markdown",
   "id": "1d38b26e-ef9e-4431-a6ad-a8e496c56af9",
   "metadata": {},
   "source": [
    "## Latihan 1 dengan asumsi biaya kirim 10.000"
   ]
  },
  {
   "cell_type": "code",
   "execution_count": 4,
   "id": "d7fee8fb-d406-457c-bf13-c99cbb8e0628",
   "metadata": {},
   "outputs": [
    {
     "name": "stdin",
     "output_type": "stream",
     "text": [
      "Berat Kiriman= 10\n"
     ]
    },
    {
     "name": "stdout",
     "output_type": "stream",
     "text": [
      "Bisa Dikirim\n",
      "Charge= 0\n",
      "Total Biaya Rp.  100000\n"
     ]
    }
   ],
   "source": [
    "berat=int(input(\"Berat Kiriman=\"))\n",
    "perhitungan= berat\n",
    "biaya=10000\n",
    "if berat>120:\n",
    "    print (\"Tidak Bisa Dikirim\")\n",
    "    charge=0\n",
    "    perhitungan=0\n",
    "elif berat>=50:\n",
    "    print (\"Dikirim Dengan Charge\")\n",
    "    charge=500000\n",
    "    perhitungan=int(berat)*biaya+charge\n",
    "else:\n",
    "    print(\"Bisa Dikirim\")\n",
    "    charge=0\n",
    "    perhitungan=int(berat)*biaya+charge\n",
    "    \n",
    "print(\"Charge=\", charge)\n",
    "print (\"Total Biaya Rp. \", perhitungan)"
   ]
  },
  {
   "cell_type": "markdown",
   "id": "5b9a2a30-fe6d-4111-af00-c33563cb8a68",
   "metadata": {},
   "source": [
    "### Latihan 2"
   ]
  },
  {
   "cell_type": "code",
   "execution_count": 5,
   "id": "5a911ea1-f007-47d9-824b-1fd1f5dc9bbb",
   "metadata": {},
   "outputs": [
    {
     "name": "stdin",
     "output_type": "stream",
     "text": [
      "grade: 1\n",
      "Masukkan Masa Kerja: 1\n"
     ]
    },
    {
     "name": "stdout",
     "output_type": "stream",
     "text": [
      "Jab= Staff\n",
      "Gaji= Rp 3500000\n"
     ]
    }
   ],
   "source": [
    "grade= int(input(\"grade:\"))\n",
    "masa_kerja= int(input(\"Masukkan Masa Kerja:\"))\n",
    "\n",
    "if grade == 1 and masa_kerja <= 2:\n",
    "    print (\"Jab= Staff\")\n",
    "    print (\"Gaji= Rp 3500000\")\n",
    "elif grade == 1 and masa_kerja >2:\n",
    "    print (\"Jab= Staff\")\n",
    "    print (\"Gaji= Rp 4000000\")    \n",
    "elif grade == 2 and masa_kerja <= 3:\n",
    "    print (\"Jab= Head\")\n",
    "    print (\"Gaji= Rp 4500000\")\n",
    "elif grade == 2 and masa_kerja >3:\n",
    "    print (\"Jab= Head\")\n",
    "    print (\"Gaji= Rp 5000000\")    \n",
    "elif grade == 3 and masa_kerja <= 5:\n",
    "    print (\"Jab= Dept Head\")\n",
    "    print (\"Gaji= Rp 10000000\")\n",
    "elif grade == 3 and masa_kerja >5:\n",
    "    print (\"Jab= Dept Head\")\n",
    "    print (\"Gaji= Rp 15000000\")\n",
    "else:\n",
    "    print (\"Data Tidak Ditemukan\")"
   ]
  },
  {
   "cell_type": "code",
   "execution_count": null,
   "id": "e22c8fc9-9a9b-4bdd-b8f4-012de088a398",
   "metadata": {},
   "outputs": [],
   "source": []
  },
  {
   "cell_type": "code",
   "execution_count": null,
   "id": "ff4c70ed-b433-4aff-96b4-9ae80769029f",
   "metadata": {},
   "outputs": [],
   "source": []
  }
 ],
 "metadata": {
  "kernelspec": {
   "display_name": "Python 3 (ipykernel)",
   "language": "python",
   "name": "python3"
  },
  "language_info": {
   "codemirror_mode": {
    "name": "ipython",
    "version": 3
   },
   "file_extension": ".py",
   "mimetype": "text/x-python",
   "name": "python",
   "nbconvert_exporter": "python",
   "pygments_lexer": "ipython3",
   "version": "3.8.13"
  }
 },
 "nbformat": 4,
 "nbformat_minor": 5
}
