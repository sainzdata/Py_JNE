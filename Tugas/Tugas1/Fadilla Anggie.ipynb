{
 "cells": [
  {
   "cell_type": "code",
   "execution_count": 1,
   "id": "9ae43e94-2e8b-4dfd-ad1f-8781f00e2331",
   "metadata": {},
   "outputs": [
    {
     "name": "stdout",
     "output_type": "stream",
     "text": [
      "LATIHAN SOAL 1\n"
     ]
    },
    {
     "name": "stdin",
     "output_type": "stream",
     "text": [
      "Masukkan Berat Kiriman Anda (Kg): 50\n"
     ]
    },
    {
     "name": "stdout",
     "output_type": "stream",
     "text": [
      "Biaya kirim per Kg : Rp. 10000\n"
     ]
    }
   ],
   "source": [
    "y=10000 #harga per kilo\n",
    "z=500000 #charge apabila lebih dari 50 Kg\n",
    "\n",
    "print (\"LATIHAN SOAL 1\")\n",
    "berat=input (\"Masukkan Berat Kiriman Anda (Kg):\")\n",
    "print (\"Biaya kirim per Kg : Rp. %s\" % y)\n",
    "\n",
    "# Hitungan Rumus\n",
    "bayar1=int (berat)*y\n",
    "bayar2=int (berat)*y+z"
   ]
  },
  {
   "cell_type": "code",
   "execution_count": 2,
   "id": "0cc2b33f-de0d-4390-9f7c-9f2fe9324738",
   "metadata": {},
   "outputs": [
    {
     "name": "stdout",
     "output_type": "stream",
     "text": [
      "LATIHAN SOAL 2\n"
     ]
    },
    {
     "name": "stdin",
     "output_type": "stream",
     "text": [
      "Masukkan Nilai Grade Anda (1 s.d 3):  2\n",
      "Masukkan Masa Kerja Anda (tahun):  3\n"
     ]
    },
    {
     "name": "stdout",
     "output_type": "stream",
     "text": [
      "Gaji Anda Sebesar: 4,5 Juta\n"
     ]
    }
   ],
   "source": [
    "print (\"LATIHAN SOAL 2\")\n",
    "\n",
    "grade = int(input(\"Masukkan Nilai Grade Anda (1 s.d 3): \"))\n",
    "masakerja = int(input(\"Masukkan Masa Kerja Anda (tahun): \"))\n",
    "\n",
    "\n",
    "if int(grade) == 1 and int(masakerja) <=2:\n",
    "        print (\"Gaji Anda Sebesar: 3,5 Juta\")\n",
    "elif int(grade) ==  1 and int(masakerja) >=2:\n",
    "    print (\"Gaji Anda Sebesar: 4 Juta\")\n",
    "elif int(grade) == 2 and int(masakerja) <=3:\n",
    "    print (\"Gaji Anda Sebesar: 4,5 Juta\")\n",
    "elif int(grade) == 2 and int(masakerja) >3:\n",
    "    print (\"Gaji Anda Sebesar: 5 Juta\")\n",
    "elif int(grade) == 3 and int(masakerja) <=5:\n",
    "    print (\"Gaji Anda Sebesar: 10 Juta\")\n",
    "elif int(grade) == 3 and int(masakerja) >5:\n",
    "    print (\"Gaji Anda Sebesar: 15 Juta\")\n",
    "else:\n",
    "    print (\"NILAI & MASA KERJA YANG ANDA MASUKKAN SALAH\")"
   ]
  },
  {
   "cell_type": "code",
   "execution_count": null,
   "id": "39efb6c5-9a62-4f55-bbd0-cbeb42432f89",
   "metadata": {},
   "outputs": [],
   "source": []
  }
 ],
 "metadata": {
  "kernelspec": {
   "display_name": "Python 3 (ipykernel)",
   "language": "python",
   "name": "python3"
  },
  "language_info": {
   "codemirror_mode": {
    "name": "ipython",
    "version": 3
   },
   "file_extension": ".py",
   "mimetype": "text/x-python",
   "name": "python",
   "nbconvert_exporter": "python",
   "pygments_lexer": "ipython3",
   "version": "3.8.13"
  }
 },
 "nbformat": 4,
 "nbformat_minor": 5
}
