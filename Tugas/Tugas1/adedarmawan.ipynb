{
 "cells": [
  {
   "cell_type": "code",
   "execution_count": 1,
   "id": "abb9a551-acae-4a00-960e-56249e993ae7",
   "metadata": {},
   "outputs": [
    {
     "name": "stdin",
     "output_type": "stream",
     "text": [
      "grade: 3\n",
      "Masukkan masa kerja: 2\n"
     ]
    },
    {
     "name": "stdout",
     "output_type": "stream",
     "text": [
      "Dept head\n",
      "Gaji anda Rp 10000000\n"
     ]
    }
   ],
   "source": [
    "grade= int(input(\"grade:\"))\n",
    "masakerja= int(input(\"Masukkan masa kerja:\"))\n",
    "\n",
    "if grade == 1 and masakerja <= 2:\n",
    "    print (\"Staff\")\n",
    "    print (\"Gaji anda Rp 3500000\")\n",
    "elif grade == 1 and masakerja >=3:\n",
    "    print (\"Staff\")\n",
    "    print (\"Gaji anda Rp 4000000\")    \n",
    "elif grade == 2 and masakerja <= 2:\n",
    "    print (\"head\")\n",
    "    print (\"Gaji anda Rp 4500000\")\n",
    "elif grade == 2 and masakerja >3:\n",
    "    print (\"head\")\n",
    "    print (\"Gaji anda Rp 5000000\")    \n",
    "elif grade == 3 and masakerja <= 5:\n",
    "    print (\"Dept head\")\n",
    "    print (\"Gaji anda Rp 10000000\")\n",
    "elif grade == 3 and masakerja >5:\n",
    "    print (\"Dept head\")\n",
    "    print (\"Gaji anda Rp 15000000\")\n",
    "else:\n",
    "    print (\"data anda tidak ditemukan\")"
   ]
  },
  {
   "cell_type": "code",
   "execution_count": null,
   "id": "896edb96-df1f-4000-aae4-5d3b2095ea6c",
   "metadata": {},
   "outputs": [],
   "source": []
  }
 ],
 "metadata": {
  "kernelspec": {
   "display_name": "Python 3 (ipykernel)",
   "language": "python",
   "name": "python3"
  },
  "language_info": {
   "codemirror_mode": {
    "name": "ipython",
    "version": 3
   },
   "file_extension": ".py",
   "mimetype": "text/x-python",
   "name": "python",
   "nbconvert_exporter": "python",
   "pygments_lexer": "ipython3",
   "version": "3.8.13"
  }
 },
 "nbformat": 4,
 "nbformat_minor": 5
}
