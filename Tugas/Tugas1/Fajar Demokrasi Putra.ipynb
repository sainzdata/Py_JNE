{
 "cells": [
  {
   "cell_type": "markdown",
   "id": "28a55555-646b-40a0-9a87-ff97b0244b98",
   "metadata": {
    "tags": []
   },
   "source": [
    "## Latihan 1"
   ]
  },
  {
   "cell_type": "code",
   "execution_count": null,
   "id": "6dd58018-1d26-4f05-b0f8-ecde07f82f1b",
   "metadata": {},
   "outputs": [],
   "source": [
    "berat_kiriman=input(\"Total Kilogram Berat Kiriman:\")\n",
    "biaya_kirim=10000\n",
    "charge_kiriman=500000\n",
    "\n",
    "if int(berat_kiriman)>120:\n",
    "    bayar=\"Tidak Dapat Kirimkan\"\n",
    "          \n",
    "elif int(berat_kiriman)>=50:\n",
    "    print(\"Biaya Kirim Rp 10,000 per Kilogram\")\n",
    "    print(\"Dikenakan Charge Rp 500,000\")\n",
    "    bayar=int(berat_kiriman)*biaya_kirim+charge_kiriman\n",
    "else:\n",
    "    print(\"Biaya Kirim Rp 10,000 per Kilogram\")\n",
    "    print(\"Dapat Dikirimkan\")\n",
    "    bayar=int(berat_kiriman)*biaya_kirim\n",
    "\n",
    "\n",
    "print(\"Total yang harus dibayarkan: Rp\", bayar)"
   ]
  },
  {
   "cell_type": "markdown",
   "id": "3bc5e4d4-59c9-4c1d-92e3-2e79581c5b1f",
   "metadata": {},
   "source": [
    "## Latihan 2"
   ]
  },
  {
   "cell_type": "code",
   "execution_count": 4,
   "id": "58f0c39b-3d81-4414-bedc-2130ce347fbe",
   "metadata": {},
   "outputs": [
    {
     "name": "stdin",
     "output_type": "stream",
     "text": [
      "grade: 1\n",
      "Masukkan Masa Kerja: 2\n"
     ]
    },
    {
     "name": "stdout",
     "output_type": "stream",
     "text": [
      "Staff\n",
      "Gaji Rp 3,500,000\n"
     ]
    }
   ],
   "source": [
    "grade= int(input(\"grade:\"))\n",
    "MasaKerja= int(input(\"Masukkan Masa Kerja:\"))\n",
    "\n",
    "if grade == 1 and MasaKerja <=2:\n",
    "    print (\"Staff\")\n",
    "    print (\"Gaji Rp 3,500,000\")\n",
    "    \n",
    "elif grade == 1 and MasaKerja >2:\n",
    "    print (\"Staff\")\n",
    "    print (\"Gaji Rp 4,000,000\")\n",
    "\n",
    "elif grade == 2 and MasaKerja <=3:\n",
    "    print (\"Head\")\n",
    "    print (\"Gaji Rp 4,500,000\")\n",
    "    \n",
    "elif grade == 2 and MasaKerja >3:\n",
    "    print (\"Head\")\n",
    "    print (\"Gaji Rp 5,000,000\")\n",
    "\n",
    "elif grade == 3 and MasaKerja <=5:\n",
    "    print (\"Dept Head\")\n",
    "    print (\"Gaji Rp 10,000,000\")\n",
    "    \n",
    "elif grade == 3 and MasaKerja >5:\n",
    "    print (\"Dept Head\")\n",
    "    print (\"Gaji Rp 15,000,000\")\n",
    "else:\n",
    "    print (\"data anda tidak ditemukan\")"
   ]
  },
  {
   "cell_type": "code",
   "execution_count": null,
   "id": "fb8905fa-9a21-4485-a0fa-e09ddc5064ef",
   "metadata": {},
   "outputs": [],
   "source": []
  }
 ],
 "metadata": {
  "kernelspec": {
   "display_name": "Python 3 (ipykernel)",
   "language": "python",
   "name": "python3"
  },
  "language_info": {
   "codemirror_mode": {
    "name": "ipython",
    "version": 3
   },
   "file_extension": ".py",
   "mimetype": "text/x-python",
   "name": "python",
   "nbconvert_exporter": "python",
   "pygments_lexer": "ipython3",
   "version": "3.8.13"
  }
 },
 "nbformat": 4,
 "nbformat_minor": 5
}
