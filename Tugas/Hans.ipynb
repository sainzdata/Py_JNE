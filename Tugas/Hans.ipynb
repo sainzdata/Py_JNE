{
 "cells": [
  {
   "cell_type": "markdown",
   "id": "b3ecb4e8-bbdd-420e-a585-170e98d66b3e",
   "metadata": {},
   "source": [
    "# Soal Latihan 1"
   ]
  },
  {
   "cell_type": "code",
   "execution_count": 93,
   "id": "8e3e188a-152a-494a-90c6-28a76d5947a5",
   "metadata": {
    "tags": []
   },
   "outputs": [
    {
     "name": "stdin",
     "output_type": "stream",
     "text": [
      "Berat kiriman (dalam Kg):  1\n"
     ]
    },
    {
     "name": "stdout",
     "output_type": "stream",
     "text": [
      "Pengantaran dapat dilakukan\n",
      "Total bayar: Rp 9000\n",
      "Terima kasih sudah mengunjungi JNE\n",
      "Selamat Datang Kembali...\n"
     ]
    }
   ],
   "source": [
    "# Asumsi biaya ongkir per-kg = 9000\n",
    "# Jika berat kurang dari 50 kg maka pengantaran dapat dilakukan\n",
    "# Jika berat lebih besar sama dengan 50 kg maka harga paket akan dikenai charge 500 (dalam ribu)\n",
    "# Jika berat lebih besar dari 120 kg maka pengantaran paket tidak bisa dilakukan.\n",
    "\n",
    "berat_kiriman = int(input(\"Berat kiriman (dalam Kg): \"))\n",
    "biaya_perkilo = 9000\n",
    "bayar = int(berat_kiriman*biaya_perkilo+charge)\n",
    "\n",
    "if (berat_kiriman)>120:\n",
    "    charge = 0\n",
    "    print(\"Maaf pengantaran tidak dapat dilakukan\")\n",
    "    print(\"Terima kasih sudah mengunjungi JNE\")\n",
    "    print(\"Selamat Datang Kembali...\")\n",
    "\n",
    "elif (berat_kiriman)>=50:\n",
    "    charge = 500000\n",
    "    print(\"Pengantaran dapat dilakukan\")\n",
    "    print(\"Total bayar: Rp %s\" % bayar)\n",
    "    print(\"Terima kasih sudah mengunjungi JNE\")\n",
    "    print(\"Selamat Datang Kembali...\")\n",
    "\n",
    "else:\n",
    "    charge=0\n",
    "    print(\"Pengantaran dapat dilakukan\")\n",
    "    print(\"Total bayar: Rp %s\" % bayar)\n",
    "    print(\"Terima kasih sudah mengunjungi JNE\")\n",
    "    print(\"Selamat Datang Kembali...\")"
   ]
  },
  {
   "cell_type": "markdown",
   "id": "57ac6069-4fc5-4de8-8038-f911ab82652f",
   "metadata": {},
   "source": [
    "# Soal Latihan 2"
   ]
  },
  {
   "cell_type": "code",
   "execution_count": 74,
   "id": "59853445-a85e-40a5-94b4-a6a2f4273e2d",
   "metadata": {},
   "outputs": [
    {
     "name": "stdin",
     "output_type": "stream",
     "text": [
      "Grade 2\n",
      "Masa Kerja 7\n"
     ]
    },
    {
     "name": "stdout",
     "output_type": "stream",
     "text": [
      "Level Head\n",
      "Gaji Rp. 5.000.000,-\n"
     ]
    }
   ],
   "source": [
    "# Jika grade 1 (staf) dengan masa kerja kurang dari sama dengan 2 tahun, maka mendapatkan gaji 3.5 (jt)\n",
    "# Jika grade 1 (staf) dengan masa kerja lebih dari 2 tahun, maka mendapatkan gaji 4 (jt)\n",
    "# Jika grade 2 (head) dengan masa kerja kurang dari sama dengan 3 tahun, maka mendapatkan gaji 4.5 (jt)\n",
    "# Jika grade 2 (head) dengan masa kerja lebih dari 3 tahun, maka mendapatkan gaji 5 (jt)\n",
    "# Jika grade 3 (dept. head) dengan masa kerja kurang dari sama dengan 5 tahun, maka mendapatkan gaji 10 (jt)\n",
    "# Jika grade 3 (dept. head) dengan masa kerja lebih dari 5 tahun, maka mendapatkan gaji 15 (jt)\n",
    "\n",
    "Grade = input (\"Grade\")\n",
    "Masa_Kerja = input (\"Masa Kerja\")\n",
    "\n",
    "if int(Grade) == 1 and int(Masa_Kerja) <= 2:\n",
    "    print (\"Level Staff\")\n",
    "    print (\"Gaji Rp. 3.500.000,-\")\n",
    "\n",
    "elif int(Grade) == 1 and int(Masa_Kerja) > 2:\n",
    "    print (\"Level Staff\")\n",
    "    print (\"Gaji Rp. 4.000.000,-\")\n",
    "    \n",
    "elif int(Grade) == 2 and int(Masa_Kerja) <= 3:\n",
    "    print (\"Level Head\")\n",
    "    print (\"Gaji Rp. 4.500.000,-\")\n",
    "\n",
    "elif int(Grade) == 2 and int(Masa_Kerja) > 3:\n",
    "    print (\"Level Head\")\n",
    "    print (\"Gaji Rp. 5.000.000,-\")\n",
    "\n",
    "elif int(Grade) == 3 and int(Masa_Kerja) <= 5:\n",
    "    print (\"Level Dept. Head\")\n",
    "    print (\"Gaji Rp. 10.000.000,-\")\n",
    "\n",
    "elif int(Grade) == 3 and int(Masa_Kerja) > 5:\n",
    "    print (\"Level Dept. Head\")\n",
    "    print (\"Gaji Rp. 15.000.000,-\")\n",
    "\n",
    "else:\n",
    "    print (\"Mohon cek pilihan terinput\")\n",
    "\n"
   ]
  },
  {
   "cell_type": "code",
   "execution_count": null,
   "id": "a0d03f11-544c-44f9-bd7a-c05651b33d4e",
   "metadata": {},
   "outputs": [],
   "source": []
  }
 ],
 "metadata": {
  "kernelspec": {
   "display_name": "Python 3 (ipykernel)",
   "language": "python",
   "name": "python3"
  },
  "language_info": {
   "codemirror_mode": {
    "name": "ipython",
    "version": 3
   },
   "file_extension": ".py",
   "mimetype": "text/x-python",
   "name": "python",
   "nbconvert_exporter": "python",
   "pygments_lexer": "ipython3",
   "version": "3.8.13"
  }
 },
 "nbformat": 4,
 "nbformat_minor": 5
}
