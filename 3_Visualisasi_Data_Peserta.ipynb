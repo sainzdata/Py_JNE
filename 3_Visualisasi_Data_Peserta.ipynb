{
 "cells": [
  {
   "cell_type": "markdown",
   "id": "9a619e10-4fe3-40de-aebc-7b4ac85d087d",
   "metadata": {},
   "source": [
    "# Visualisasi Data\n",
    "\n",
    "Visualisasi data adalah proses mempresentasikan data terstruktur maupun tidak terstruktur melalui grafik untuk mengkomunikasikan informasi secara lebih efisien dan mudah dimengerti. Ada banyak library visualisasi data di Python, seperti; [pandas](https://pandas.pydata.org/pandas-docs/stable/user_guide/visualization.html#visualization-barplot), [matplotlib](https://matplotlib.org/stable/gallery/index.html), dan [seaborn](https://seaborn.pydata.org/examples/index.html). Dalam pelatihan ini, menggunakan library visualisasi terbaik dan interaktif yang juga dapat diterapkan diberbagai bahasa pemrograman termasuk Python yaitu: [Plotly](https://plotly.com/graphing-libraries/). Pada bagian ini, diasumsikan anda sudah melakukan persiapan data dan impor data sebelum divisualisasikan. Langkah selanjutnya, adalah mengetahui informasi dasar mengenai dataset:"
   ]
  },
  {
   "cell_type": "code",
   "execution_count": 1,
   "id": "21575c39-0ce1-4b2b-906e-a7c0209dc21f",
   "metadata": {},
   "outputs": [],
   "source": [
    "# Tuliskan Script (Koding) anda disini"
   ]
  },
  {
   "cell_type": "markdown",
   "id": "e8fa18be-8431-4f59-b069-f245ad733b77",
   "metadata": {},
   "source": [
    "Berikut ini adalah deskripsi dataset yang sedang digunakan:\n",
    "    \n",
    "* PERIODE = Transaksi Bulanan\n",
    "* REGION = Regional\n",
    "* BRANCH_ID = Nomor ID Cabang\n",
    "* BRANCH_NAME = Nama Cabang\n",
    "* SERVICES_CODE = Code Produk       \n",
    "* ZONE_DESTINATION = Tujuan Pengiriman \n",
    "* JUMLAH_AWB = Jumlah Resi Pengiriman        \n",
    "* JUMLAH_WEIGHT = Berat Barang yang dikirimkan\n",
    "* JUMLAH_CASH = Pembayaran Tunai     \n",
    "* JUMLAH_CREDIT = Pembayaran Kredit\n",
    "* JUMLAH_COD = Pembayaran di tempat\n",
    "* JUMLAH_EPAY = Pembayaran Online\n",
    "* TOTAL_OMZET = Total Omset"
   ]
  },
  {
   "cell_type": "markdown",
   "id": "784c0c75-3906-4327-84ec-6b2674259198",
   "metadata": {},
   "source": [
    "## Verifikasi Kelengkapan Data\n",
    "\n",
    "Dataset terkadang memuat data yang hilang, bisa saja karena tidak dikumpulkan atau tidak pernah ada. Sehingga, untuk melakukan analisa perlu dilakukan pemeriksaan kelengkapan data terlebih dahulu. Berikut ini diperlihatkan cara untuk mengekstrak baris yang berisi setidaknya satu nilai yang hilang:"
   ]
  },
  {
   "cell_type": "code",
   "execution_count": 2,
   "id": "94f9051a-2810-4ced-83be-587276288e1c",
   "metadata": {},
   "outputs": [],
   "source": [
    "# Tuliskan Script (Koding) anda disini"
   ]
  },
  {
   "cell_type": "markdown",
   "id": "3a5bdd3c-966d-4dec-81f3-3ea7c6ac8a5c",
   "metadata": {},
   "source": [
    "## Perbaharui Data\n",
    "\n",
    "Ada banyak langkah yang dapat dilakukan untuk mengisi data yang hilang denga Python, berikut ini adalah cara yang paling sering digunakan:"
   ]
  },
  {
   "cell_type": "code",
   "execution_count": 3,
   "id": "28934dad-3eaf-4d25-a772-4dbdcf45e86a",
   "metadata": {},
   "outputs": [],
   "source": [
    "# Tuliskan Script (Koding) anda disini"
   ]
  },
  {
   "cell_type": "markdown",
   "id": "f4c0d628-257b-4f5d-8a21-55476c04aa1b",
   "metadata": {},
   "source": [
    "Selain cara diatas, berikut ini juga dapat digunakan untuk mengisi maupun memperbaharui data yang hilang:"
   ]
  },
  {
   "cell_type": "code",
   "execution_count": 4,
   "id": "63c02c2d-8d91-489c-8ddf-8fbab4741889",
   "metadata": {},
   "outputs": [],
   "source": [
    "# Tuliskan Script (Koding) anda disini"
   ]
  },
  {
   "cell_type": "markdown",
   "id": "493fefab-2808-4101-923f-7e20f0fa8937",
   "metadata": {},
   "source": [
    "### Quiz 1 \n",
    "\n",
    "Apa yang terjadi jika anda mengisi data yang hilang tersebut dengan dengan median() dan mean()? jelaskan!\n"
   ]
  },
  {
   "cell_type": "code",
   "execution_count": 5,
   "id": "d3dbf02a-c8e3-4437-a605-99761aa7cb7f",
   "metadata": {},
   "outputs": [],
   "source": [
    "# Tuliskan Script (Koding) anda disini"
   ]
  },
  {
   "cell_type": "markdown",
   "id": "1a145f00-86ab-4136-b4fd-c74241da70c0",
   "metadata": {},
   "source": [
    "### Quiz 2 \n",
    "Bagaimana cara untuk memastikan apakah masih ada data yang hilang (data tidak lengkap) di `edh6` ?"
   ]
  },
  {
   "cell_type": "code",
   "execution_count": 6,
   "id": "321ea4ce-e64b-43a6-b5c0-a9abdda23cf2",
   "metadata": {},
   "outputs": [],
   "source": [
    "# Tuliskan Script (Koding) anda disini"
   ]
  },
  {
   "cell_type": "markdown",
   "id": "52ee00a6-dc6e-450d-aa4e-6a424f179e51",
   "metadata": {
    "tags": []
   },
   "source": [
    "## Statistik Dasar\n",
    "\n",
    "Selanjutnya, mengetahui informasi statistik dasar mengenai data tersebut. Dapat dilakukan dengan script berikut:"
   ]
  },
  {
   "cell_type": "code",
   "execution_count": 7,
   "id": "f37ebc07-8f57-4f39-84ca-0f3817e26e08",
   "metadata": {},
   "outputs": [],
   "source": [
    "# Tuliskan Script (Koding) anda disini"
   ]
  },
  {
   "cell_type": "markdown",
   "id": "2df2e30a-72d7-43c1-b077-7618ebe5d33d",
   "metadata": {},
   "source": [
    "### Quiz 3\n",
    "\n",
    "Berdasarkan deskripsi statistik dasar di atas, apakah anda dapat menemukan informasi yang ganjil (janggal)? Jika iya, berikan penjelasan anda?"
   ]
  },
  {
   "cell_type": "markdown",
   "id": "3911a708-18eb-426d-92aa-d40b6d9d4d39",
   "metadata": {},
   "source": [
    "Hasil statistik dasar diatas, hanya memperlihatkan data numerik saja. Lalu bagaimana dengan data kategori yang ada pada dataset tersebut? Gunakan script sebagai berikut:"
   ]
  },
  {
   "cell_type": "code",
   "execution_count": 8,
   "id": "7646cd6f-e4c1-4a83-87f1-5c4cbf47d20e",
   "metadata": {},
   "outputs": [],
   "source": [
    "# Tuliskan Script (Koding) anda disini"
   ]
  },
  {
   "cell_type": "markdown",
   "id": "6de64014-976e-47f2-ae01-54414d549846",
   "metadata": {},
   "source": [
    "### Quiz 4\n",
    "\n",
    "Perhatikan deskriptif statistik data kategorikal diatas Anda apakah informasi penting yang di temukan? "
   ]
  },
  {
   "cell_type": "markdown",
   "id": "9d7a6fde-598a-4fb2-b66f-3c774116305b",
   "metadata": {},
   "source": [
    "## Tabel Pivot\n",
    "\n",
    "Saat melakukan analisis dengan menggunakan fungsi `describe()`seperti yang kita lakukan diatas, terkadang tidak menjawab informasi yang kita inginkan. Karena semua deskripsi tersebut diperhitungkan berdasarkan kolom dari masing-masing variabel pada dataset. Olehkarena itu, jika anda ingin mengetahui deskriptif statistik berdasarkan indeks tertentu makan anda perlu menggunakan Tabel Pivot. Analisis statistik deskriptif tersebut akan diperlihatkan dengan fungsi agregasi `aggfunc` yang ada di Python, yaitu:\n",
    "\n",
    "* `sum` : yang digunakan untuk pejumlahan nilai pada indeks variabel yang sama.\n",
    "* `mean` : ~ nilai rata-rata ~\n",
    "* `min` :  ~ nilai minumum ~\n",
    "* `max` :  ~ nilai maksimum ~\n",
    "* `count` : frekuensi\n",
    "\n",
    "\n",
    "Untuk mengetahui jumlah total pengiriman dan total omset yang diperoleh JNE berdasarkan regionalnya, dapat diperlihatkan dengan script berikut:"
   ]
  },
  {
   "cell_type": "code",
   "execution_count": 9,
   "id": "968c7753-0d42-4f85-a8cd-e195d5caf8b9",
   "metadata": {},
   "outputs": [],
   "source": [
    "# Tuliskan Script (Koding) anda disini"
   ]
  },
  {
   "cell_type": "markdown",
   "id": "ebb3abf6-05d9-46d6-8ce5-1e79c37a4d6d",
   "metadata": {},
   "source": [
    "### Quiz 5 \n",
    "\n",
    "Buatlah script menggunakan Python untuk menyimpan data dari hasil tabel pivot di atas!"
   ]
  },
  {
   "cell_type": "code",
   "execution_count": 10,
   "id": "6bde91ce-6429-4a73-acbe-07ae977ebc46",
   "metadata": {},
   "outputs": [],
   "source": [
    "# Tuliskan Script (Koding) anda disini"
   ]
  },
  {
   "cell_type": "markdown",
   "id": "644061d9-cf79-4b13-a885-d46357bb131d",
   "metadata": {},
   "source": [
    "Hasil dari Tabel Pivot diatas dapat diperlihatkan secara visual, perhatikan tabel berikut:"
   ]
  },
  {
   "cell_type": "code",
   "execution_count": 11,
   "id": "484c2a7f-e9bd-42fe-8b16-55bc67b1959f",
   "metadata": {},
   "outputs": [],
   "source": [
    "# Tuliskan Script (Koding) anda disini"
   ]
  },
  {
   "cell_type": "markdown",
   "id": "108f159d-962b-4d0a-b54e-f69a4877385d",
   "metadata": {},
   "source": [
    "### Quiz 6\n",
    "\n",
    "Andaikan Anda sebagai tim Audit melakukan ananlisa terhadap Total  pengiriman dan Total Omset yang diperoleh JNE berdasarkan Produknya. Dengan menggukanan tabel pivot dan visual seperti contoh diatas, apa yang anda temukan? "
   ]
  },
  {
   "cell_type": "code",
   "execution_count": 12,
   "id": "fe9aa841-4020-47ee-90c8-d41d6450941a",
   "metadata": {},
   "outputs": [],
   "source": [
    "# Tuliskan Script (Koding) anda disini"
   ]
  },
  {
   "cell_type": "markdown",
   "id": "9af37d40-da63-4e56-8417-e382dd2de424",
   "metadata": {},
   "source": [
    "**Catatan:** Tabel Pivot dan visualisasi tabel diatas memang sangat membantu untuk menganalisis data. Tetapi dalam banyak kondisi, terdapat berbagai jenis visual (grafik) lainnya yang lebih efektif dan lebih interaktif untuk menjelaskan suatu informasi yang kita butuhkan. "
   ]
  },
  {
   "cell_type": "markdown",
   "id": "494e1993-77f6-4464-8c51-f608a22bbc19",
   "metadata": {},
   "source": [
    "## Pie-Chart\n",
    "\n",
    "Diagram lingkaran (Pie-Chart) adalah jenis grafik yang menyajikan sebuah nilai atau data dalam bentuk lingkaran. Diagram lingkaran memudahkan kita untuk mengetahui perbandingan suatu data terhadap keseluruhan data. Untuk membandingkan data satu dengan yang lainnya, maka sebuah lingkaran akan dibagi menjadi beberapa ruas lingkaran. \n",
    "\n",
    "Pada umunya, penyajian data pada diagram lingkaran disajikan dalam bentuk derajat (°) dan persen (%). Jika data yang disajikan dalam bentuk derajat, maka ukuran satu lingkaran penuh besarnya adalah 360°. Sedangkan jika suatu data disajikan dalam persen, maka satu lingkaran penuh nilainya adalah 100%. Rumus yang digunakan adalah sebagai berikut:\n",
    "\n",
    "* Nilai yang ditanyakan (°) = (Besar sudut / 360°) x Total data\n",
    "* Nilai yang ditanyakan (%) = (Nilai persen yang ditanyakan / 100%) x Total nilai\n",
    "\n",
    "Berikut ini deperlihatkan grafik lingkaran untuk memperlihatkan Total Omset yang diperoleh JNE berdasarkan regionalnya."
   ]
  },
  {
   "cell_type": "code",
   "execution_count": 13,
   "id": "5111e1f9-a220-4ff5-ae45-5615af109bf4",
   "metadata": {},
   "outputs": [],
   "source": [
    "# Tuliskan Script (Koding) anda disini"
   ]
  },
  {
   "cell_type": "markdown",
   "id": "2b723b16-ad68-42ba-be94-572f1c070245",
   "metadata": {},
   "source": [
    "Grafik tersebut diatas juga dapat dilengkapi dengan informasi lain, seperti halnya varibel jumlah total resi pengiriman atau  Airway Bill (AWB). Berikut ini script yang digunakan dalam Python:"
   ]
  },
  {
   "cell_type": "code",
   "execution_count": 14,
   "id": "8f9b3208-0037-4d6c-95da-254acea92c62",
   "metadata": {},
   "outputs": [],
   "source": [
    "# Tuliskan Script (Koding) anda disini"
   ]
  },
  {
   "cell_type": "markdown",
   "id": "9578c679-2f41-4acc-a7c1-a2d34ef991ff",
   "metadata": {},
   "source": [
    "### Quiz 7\n",
    "Setelah memperlajari visualisasi Pie-Chart diatas, bagamana jika anda sebagai tim audit ingin total (persentase) resi pengiriman barang berdasarkan regionalnya?"
   ]
  },
  {
   "cell_type": "code",
   "execution_count": 15,
   "id": "872073c2-6c79-422c-8f9c-6a210c968cb0",
   "metadata": {},
   "outputs": [],
   "source": [
    "# Tuliskan Script (Koding) anda disini"
   ]
  },
  {
   "cell_type": "markdown",
   "id": "e806bbf8-1286-4464-a8e9-908e323b0f37",
   "metadata": {},
   "source": [
    "## Bar-Chart\n",
    "\n",
    "Bar chart (Diagram batang) merupakan salah satu bentuk grafik yang digunakan untuk membandingkan data antar variabel dan melihat frekuensi atau besaran dari variabel tersebut. Berikut ini diperlihatkan contoh grafik untuk memperlihatkan **total pendapatan (omset) berdasarkan regional pelayanan JNE**."
   ]
  },
  {
   "cell_type": "code",
   "execution_count": 16,
   "id": "6247313f-2aa8-47a0-88e3-31cf2f238754",
   "metadata": {},
   "outputs": [],
   "source": [
    "# Tuliskan Script (Koding) anda disini"
   ]
  },
  {
   "cell_type": "markdown",
   "id": "06497d6b-9f8b-4094-ac88-117991a96b3b",
   "metadata": {},
   "source": [
    "### Quiz 8\n",
    "\n",
    "Kalau seandainya anda ingin mengatur ukuran grafik Bar-Chart diatas, bagaimana caranya?"
   ]
  },
  {
   "cell_type": "code",
   "execution_count": 17,
   "id": "483135a7-8de7-4bae-9ac0-87c873ace1e5",
   "metadata": {},
   "outputs": [],
   "source": [
    "# Tuliskan Script (Koding) anda disini"
   ]
  },
  {
   "cell_type": "markdown",
   "id": "448551d0-bf62-440a-96bb-97df7a8d84ed",
   "metadata": {},
   "source": [
    "Dengan konsep yang sama, berikut ini diperlihatkan contoh grafik untuk memperlihatkan **total pendapatan (omset) berdasarkan produk pelayanan JNE**."
   ]
  },
  {
   "cell_type": "code",
   "execution_count": 18,
   "id": "1b032a86-8a48-400d-8dc5-154b6df3d9fb",
   "metadata": {},
   "outputs": [],
   "source": [
    "# Tuliskan Script (Koding) anda disini"
   ]
  },
  {
   "cell_type": "markdown",
   "id": "06c26c5f-dd4a-4179-9879-982c664a5d19",
   "metadata": {},
   "source": [
    "## Box-plot \n",
    "\n",
    "Penyajian grafik lainnya yang bisa merangkum informasi lebih detail mengenai distribusi nilai-nilai data pengamatan adalah Box and Whisker Plots atau lebih sering disebut dengan BoxPlot atau lebih sering dikenal sebagai chart candle stick di analisa pasar saham. Lihat contoh dibawah ini untuk dapat membaca box plot\n",
    "\n",
    "<center>\n",
    "<img src=\"https://github.com/sainzdata/Py_JNE/blob/main/images/box-plot.png?raw=true\" width=470\" height=\"350\">\n",
    "</center>\n"
   ]
  },
  {
   "cell_type": "markdown",
   "id": "e1658450-5b98-4f68-b804-a731e26b8910",
   "metadata": {},
   "source": [
    "Berikut ini diperlihatkan contoh analisis total omset berdasarkan asal dan tujuan pengiriman barang menggunakan Boxplot."
   ]
  },
  {
   "cell_type": "code",
   "execution_count": 19,
   "id": "ecd42efa-07cf-406f-8e27-886b8bf0d4b0",
   "metadata": {},
   "outputs": [],
   "source": [
    "# Tuliskan Script (Koding) anda disini"
   ]
  },
  {
   "cell_type": "code",
   "execution_count": null,
   "id": "50c97afa-9497-4faa-a7b1-8d36251753f5",
   "metadata": {},
   "outputs": [],
   "source": []
  }
 ],
 "metadata": {
  "kernelspec": {
   "display_name": "Python 3 (ipykernel)",
   "language": "python",
   "name": "python3"
  },
  "language_info": {
   "codemirror_mode": {
    "name": "ipython",
    "version": 3
   },
   "file_extension": ".py",
   "mimetype": "text/x-python",
   "name": "python",
   "nbconvert_exporter": "python",
   "pygments_lexer": "ipython3",
   "version": "3.8.13"
  }
 },
 "nbformat": 4,
 "nbformat_minor": 5
}
