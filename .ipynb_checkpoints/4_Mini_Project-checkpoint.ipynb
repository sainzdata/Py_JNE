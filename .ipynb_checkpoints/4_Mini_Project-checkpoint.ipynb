{
 "cells": [
  {
   "cell_type": "markdown",
   "id": "ac10b090-93dd-42eb-86db-521a441d9d93",
   "metadata": {},
   "source": [
    "# Mini Project\n",
    "\n",
    "Adapun beberapa hal yang dipelajari pada program pelatihan Data Analitics With Python pertemuan ke-4 ini adalah sebagai berikut:\n",
    "\n",
    "* Penggabungan data menggunakan 3 file dibawah ini: [(download data disini)](https://jne2-my.sharepoint.com/personal/ibnu_falah_jne_co_id/_layouts/15/onedrive.aspx?id=%2Fpersonal%2Fibnu%5Ffalah%5Fjne%5Fco%5Fid%2FDocuments%2FData%20for%20P%27%20Bakti&ga=1). \n",
    "    1. OTS ARAP UPDATE 30092022.XLSX; \n",
    "    2. OTS CURRENT 2022 UPDATE 30092022.XLSX; \n",
    "    3. OTS CURRENT 2022 UPDATE 30092022 PART 2.XLSX)\n",
    "* Pemerikasaan Data Duplikat (Nomor connote apakah ada yang double)\n",
    "* Pemerikasaan Anomaly.\n",
    "* Memeriksa Data ots yang nilai nya minus\n",
    "* Analisa nilai outstanding yang tinggi berdasarkan Regional – Cabang – Kurir.\n",
    "* Data outstanding diurutkan berdasarkan nama customer – Dest Runsheet\n",
    "* Outstanding berdasarkan Kurir / ID Kurir (data kurir dapat dilihat di file ID Kurir.XLSX)\n",
    "\n"
   ]
  },
  {
   "cell_type": "markdown",
   "id": "4458b8cb-c020-43a4-b7b0-6682d9d501cf",
   "metadata": {},
   "source": [
    "## Impor Data\n",
    "\n",
    "Dalam proses impor (baca) data dari Excel ke Python, beberapa hal yang harus diperhatikan adalah:\n",
    "\n",
    "1. Pastikan Notebook Python (Koding) anda berada dalam satu folder\n",
    "2. Buatlah folder baru untuk meyimpan data tersebut (opsional) \n",
    "3. Nama file excel tidak memuat spasi (gunakan underline `_` jika diperlukan)\n",
    "4. impor packages/Library/Module yang diperlukan (dalam hal ini digunakan 'pandas')\n",
    "5. Pastikan nama variabel (kolom) ada baris pertama"
   ]
  },
  {
   "cell_type": "code",
   "execution_count": 1,
   "id": "a4f338e9-70f2-44ff-b8f8-fd8039d1e2ab",
   "metadata": {},
   "outputs": [],
   "source": [
    "import pandas as pd                                          # library untuk impor data\n",
    "f1 = pd.read_excel('data/Mini_Project/OTS1.xlsx',skiprows=1) # impor file excel OTS1\n",
    "f2 = pd.read_excel('data/Mini_Project/OTS2.xlsx',skiprows=1) # ~~~~~~~~~~~~~~~~ OTS2\n",
    "f3 = pd.read_excel('data/Mini_Project/OTS3.xlsx',skiprows=1) # ~~~~~~~~~~~~~~~~ OTS3  "
   ]
  },
  {
   "cell_type": "markdown",
   "id": "e8c6808d-4c07-4798-ba02-18cb60854aad",
   "metadata": {},
   "source": [
    "**Catatan:** \n",
    "\n",
    "1. Data pada OTS 1 tidak dapat terbaca dengan baik di Python. Langkah penyelesaian permasalahan ini adalah dengan cara `Copy-Paste` file tersebut ke file excel yang baru dan replace (Menimpa) file yang lama.\n",
    "2. Misalnya jika anda ingin melewati baris pada indeks 0, 2 dan 5. Gunakan `skiprows=[0,2,5]`.\n",
    "3. Pada proses diatas, anda juga dapat menghapus terlebih dahulu data baris pertama pada file Excel tersebut, jika tidak ingin menggunakan `skiprows=1`\n",
    "4. Proses loading data diatas membutuhkan sekitar 3 menitan lebih (ukuran file 64 Mb)"
   ]
  },
  {
   "cell_type": "markdown",
   "id": "40d1b587-f6da-435e-9d85-d371c0ccbc2b",
   "metadata": {},
   "source": [
    "## Konversi Format File\n",
    "\n",
    "Saat mengerjakan proyek analitik data dengan jumlah pengamatan yang banyak, proses menyimpan dan memuat kembali data ke dalam memori menjadi lebih lambat, dan setiap kali anda melakukan restart pada kernel akan membutuhkan waktu tunggu yang cukup lama. Sehingga, sangat disarankan untuk menyimpan data dengan format terbaik. Menurut **Ilia Zaitsev** di dalam artikelnya pada laman [Towards Data Science](https://towardsdatascience.com/the-best-format-to-save-pandas-data-414dca023e0d) file EXCEL atau CSV atau format teks biasa lainnya bukanlah pilihan yang baik. Berikut ini deperlihatkan proses penyimpanan data dengan format `feather`:"
   ]
  },
  {
   "cell_type": "code",
   "execution_count": 16,
   "id": "34c67eb4-feac-4013-a6a0-3dee791c7c64",
   "metadata": {},
   "outputs": [],
   "source": [
    "# jangan lupa `pip isntall pyarrow`\n",
    "\n",
    "f1.to_feather('data/Mini_Project/OTS1.ftr')                  # data frame f1 ke `OTS1.ftr`\n",
    "f2.to_feather('data/Mini_Project/OTS2.ftr')                  # data frame f2 ke `OTS2.ftr`\n",
    "f3.to_feather('data/Mini_Project/OTS2.ftr')                  # data frame f1 ke `OTS1.ftr`"
   ]
  },
  {
   "cell_type": "markdown",
   "id": "3773162e-6fa8-4cc3-9c47-2da8acbb8d6d",
   "metadata": {},
   "source": [
    "## Gabungkan Data"
   ]
  },
  {
   "cell_type": "code",
   "execution_count": 21,
   "id": "0e3c7fc4-a593-4d75-a945-21e2c24fcc31",
   "metadata": {},
   "outputs": [
    {
     "name": "stdout",
     "output_type": "stream",
     "text": [
      "<class 'pandas.core.frame.DataFrame'>\n",
      "RangeIndex: 874441 entries, 0 to 874440\n",
      "Data columns (total 12 columns):\n",
      " #   Column              Non-Null Count   Dtype  \n",
      "---  ------              --------------   -----  \n",
      " 0   Connote No          874441 non-null  object \n",
      " 1   Order Id            773836 non-null  object \n",
      " 2   Origin              874441 non-null  object \n",
      " 3   Dest Runsheet       874441 non-null  object \n",
      " 4   Amount              874441 non-null  int64  \n",
      " 5   Project             874441 non-null  object \n",
      " 6   POD Status          874441 non-null  object \n",
      " 7   Customer Name       874441 non-null  object \n",
      " 8   Regional            874441 non-null  object \n",
      " 9   Kategori            218191 non-null  object \n",
      " 10  OUTSTANDING UPDATE  218659 non-null  float64\n",
      " 11  OUTSTANDING         655782 non-null  float64\n",
      "dtypes: float64(2), int64(1), object(9)\n",
      "memory usage: 80.1+ MB\n"
     ]
    }
   ],
   "source": [
    "ftr1=pd.read_feather('data/Mini_Project/OTS1.ftr')           # impor data \n",
    "ftr2=pd.read_feather('data/Mini_Project/OTS2.ftr')           # impor data \n",
    "ftr3=pd.read_feather('data/Mini_Project/OTS2.ftr')           # impor data \n",
    "\n",
    "all_data = pd.concat([ftr1,ftr2,ftr3],ignore_index=True)     # gabungkan semua data\n",
    "all_data.info()                                              # informasi dasar "
   ]
  },
  {
   "cell_type": "markdown",
   "id": "1cf56af4-177e-4b99-b676-bf9f5ab92920",
   "metadata": {},
   "source": [
    "**Catatan** Data hasil penggabungan diatas juga dapat disimpan dalam format `feather` sehingga untuk selanjutnya data ini yang akan di impor pada saat melakukan analisis."
   ]
  },
  {
   "cell_type": "code",
   "execution_count": 22,
   "id": "df103783-90ee-4dd8-bc9b-dc4724b28fd4",
   "metadata": {},
   "outputs": [],
   "source": [
    "all_data.to_feather('data/Mini_Project/all_data.ftr')        # data frame f1 ke `OTS1.ftr`"
   ]
  },
  {
   "cell_type": "code",
   "execution_count": 29,
   "id": "8155da76-4ccc-4b91-84db-16ab719fe04b",
   "metadata": {},
   "outputs": [
    {
     "name": "stdout",
     "output_type": "stream",
     "text": [
      "<class 'pandas.core.frame.DataFrame'>\n",
      "RangeIndex: 874441 entries, 0 to 874440\n",
      "Data columns (total 12 columns):\n",
      " #   Column              Non-Null Count   Dtype  \n",
      "---  ------              --------------   -----  \n",
      " 0   Connote No          874441 non-null  object \n",
      " 1   Order Id            773836 non-null  object \n",
      " 2   Origin              874441 non-null  object \n",
      " 3   Dest Runsheet       874441 non-null  object \n",
      " 4   Amount              874441 non-null  int64  \n",
      " 5   Project             874441 non-null  object \n",
      " 6   POD Status          874441 non-null  object \n",
      " 7   Customer Name       874441 non-null  object \n",
      " 8   Regional            874441 non-null  object \n",
      " 9   Kategori            218191 non-null  object \n",
      " 10  OUTSTANDING UPDATE  218659 non-null  float64\n",
      " 11  OUTSTANDING         655782 non-null  float64\n",
      "dtypes: float64(2), int64(1), object(9)\n",
      "memory usage: 80.1+ MB\n"
     ]
    }
   ],
   "source": [
    "test = pd.read_feather('data/Mini_Project/all_data.ftr')     # impor data\n",
    "all_data.info()                                              # informasi dasar "
   ]
  },
  {
   "cell_type": "markdown",
   "id": "12e17e8e-363c-4f9b-a556-cb33421460b1",
   "metadata": {},
   "source": [
    "## Deskripsi Data  \n",
    "\n",
    "Berikut ini adalah deskripsi dataset yang sedang digunakan:\n",
    "\n",
    "* `Connote` : No Nomor yang diberikan oleh Seller/Penjual berguna untuk melacak sejauh mana proses pengiriman\n",
    "* `Order Id` : No Resi Pengiriman          \n",
    "* `Origin` :  Asal barang yang akan dikirimkan           \n",
    "* `Dest Runsheet` : Tujuan pengiriman      \n",
    "* `Amount` : Biaya Pengiriman           \n",
    "* `Project` : Jenis Project          \n",
    "* `POD Status` :  Process On delivery Detail adalah Paket atau barang sedang atau baru saja dikirimkan oleh kurir.   \n",
    "* `Customer Name`: Nama Pelanggan       \n",
    "* `Regional` : Regional          \n",
    "* `Kategori` :  Kategori           \n",
    "* `OUTSTANDING` : Biaya pengiriman yang terverifikasi       "
   ]
  },
  {
   "cell_type": "code",
   "execution_count": null,
   "id": "11c364c9-37d5-4164-a384-f9a25ec7a33b",
   "metadata": {},
   "outputs": [],
   "source": []
  }
 ],
 "metadata": {
  "kernelspec": {
   "display_name": "Python 3 (ipykernel)",
   "language": "python",
   "name": "python3"
  },
  "language_info": {
   "codemirror_mode": {
    "name": "ipython",
    "version": 3
   },
   "file_extension": ".py",
   "mimetype": "text/x-python",
   "name": "python",
   "nbconvert_exporter": "python",
   "pygments_lexer": "ipython3",
   "version": "3.8.13"
  }
 },
 "nbformat": 4,
 "nbformat_minor": 5
}
