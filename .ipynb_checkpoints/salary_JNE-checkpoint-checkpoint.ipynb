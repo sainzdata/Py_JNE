{
 "cells": [
  {
   "cell_type": "code",
   "execution_count": 2,
   "id": "3a60a7b6",
   "metadata": {},
   "outputs": [
    {
     "name": "stdout",
     "output_type": "stream",
     "text": [
      "Grade: 3\n",
      "Masa Kerja: 10\n",
      "Salary yang diberikan untuk grade 3 dengan masa kerja selama 10.0  th adalah  15 juta\n"
     ]
    }
   ],
   "source": [
    "# Membuat variable grade\n",
    "staf = 1\n",
    "head = 2\n",
    "dept_head = 3\n",
    "\n",
    "# Membuat variable dengan metode input()\n",
    "grade_input = int (input('Grade: '))\n",
    "masa_kerja_input = float (input('Masa Kerja: '))\n",
    "\n",
    "# Buat rulesnya\n",
    "if grade_input == staf:\n",
    "    if masa_kerja_input <=2:\n",
    "        salary = 3.5\n",
    "        print('Salary yang diberikan untuk grade', grade_input, 'dengan masa kerja selama', str(masa_kerja_input), ' th adalah ', str(salary) + ' juta')\n",
    "    else:\n",
    "        salary = 4\n",
    "        print('Salary yang diberikan untuk grade', grade_input, 'dengan masa kerja selama', str(masa_kerja_input), ' th adalah ', str(salary) + ' juta')\n",
    "        \n",
    "elif grade_input == head:\n",
    "    if masa_kerja_input <=3:\n",
    "        salary = 4.5\n",
    "        print('Salary yang diberikan untuk grade', grade_input, 'dengan masa kerja selama', str(masa_kerja_input), ' th adalah ', str(salary) + ' juta')\n",
    "    else:\n",
    "        salary = 5\n",
    "        print('Salary yang diberikan untuk grade', grade_input, 'dengan masa kerja selama', str(masa_kerja_input), ' th adalah ', str(salary) + ' juta')\n",
    "        \n",
    "else:\n",
    "    if masa_kerja_input <=5:\n",
    "        salary = 10\n",
    "        print('Salary yang diberikan untuk grade', grade_input, 'dengan masa kerja selama', str(masa_kerja_input), ' th adalah ', str(salary) + ' juta')\n",
    "    else:\n",
    "        salary = 15\n",
    "        print('Salary yang diberikan untuk grade', grade_input, 'dengan masa kerja selama', str(masa_kerja_input), ' th adalah ', str(salary) + ' juta')"
   ]
  },
  {
   "cell_type": "code",
   "execution_count": null,
   "id": "7658c6f0",
   "metadata": {},
   "outputs": [],
   "source": []
  }
 ],
 "metadata": {
  "kernelspec": {
   "display_name": "Python 3 (ipykernel)",
   "language": "python",
   "name": "python3"
  },
  "language_info": {
   "codemirror_mode": {
    "name": "ipython",
    "version": 3
   },
   "file_extension": ".py",
   "mimetype": "text/x-python",
   "name": "python",
   "nbconvert_exporter": "python",
   "pygments_lexer": "ipython3",
   "version": "3.9.12"
  }
 },
 "nbformat": 4,
 "nbformat_minor": 5
}
