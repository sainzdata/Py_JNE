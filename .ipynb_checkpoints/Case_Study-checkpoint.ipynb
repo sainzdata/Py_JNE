{
 "cells": [
  {
   "cell_type": "markdown",
   "id": "28f5fbb3-fddb-4994-92ea-c710e5287922",
   "metadata": {},
   "source": [
    "# Case Study\n",
    "\n",
    "Adapun hal2 yang akan dipelajari dalam pertemuan ini adalah sebagai berikut:\n",
    "\n",
    "1. Import Data\n",
    "2. Ubah Nama Kolom\n",
    "3. Tabulasi Silang\n",
    "4. Pivot Tabel\n",
    "5. Visualisasi Data\n",
    "6. Dashboard"
   ]
  },
  {
   "cell_type": "markdown",
   "id": "247c49bb-6d4f-43cc-be06-c8dece8e2450",
   "metadata": {},
   "source": [
    "## Risk Map\n",
    "\n",
    "### Import Data\n",
    "\n",
    "**Langkah 1:** Periksa direktori kerja Anda saat ini"
   ]
  },
  {
   "cell_type": "code",
   "execution_count": 1,
   "id": "537ae34a-446b-4bf5-ad08-09e6b9c005c9",
   "metadata": {},
   "outputs": [
    {
     "data": {
      "text/plain": [
       "'C:\\\\Users\\\\user\\\\Desktop\\\\Py_JNE'"
      ]
     },
     "execution_count": 1,
     "metadata": {},
     "output_type": "execute_result"
    }
   ],
   "source": [
    "import os                                   # Import library OS \n",
    "os.getcwd()                                 # Get the current working directory"
   ]
  },
  {
   "cell_type": "markdown",
   "id": "1ec816a0-e04b-477d-8e66-f418ce4f3432",
   "metadata": {},
   "source": [
    "**Langkah 2:** Salin direktori (jalur) file diatas untuk digunakan atau di-ubah sesuai direktori kerjanya yang diinginkan. Berikut diperlihatkan contohnya:"
   ]
  },
  {
   "cell_type": "code",
   "execution_count": 2,
   "id": "f50fd33a-f5fd-4460-9c1f-e7073737dd7f",
   "metadata": {},
   "outputs": [],
   "source": [
    "# Cara 1:Change the current working directory\n",
    "os.chdir('C:\\\\Users\\\\user\\\\Desktop\\\\Py_JNE\\\\data\\\\CS')  \n",
    "\n",
    "# Cara 2:Change the current working directory\n",
    "os.chdir('C:/Users/user/Desktop/Py_JNE/data/CS')  "
   ]
  },
  {
   "cell_type": "markdown",
   "id": "a0bd4ede-bc56-4d86-814b-8db50c1e7dfe",
   "metadata": {},
   "source": [
    "**Langkah 3:** Read (baca) data dari Excel ke Python (JupyterLab)"
   ]
  },
  {
   "cell_type": "code",
   "execution_count": 17,
   "id": "a3870f4a-1035-484a-9851-e6537677b434",
   "metadata": {},
   "outputs": [],
   "source": [
    "# library pandas untuk impor data\n",
    "import pandas as pd                                   \n",
    "Inherent = pd.read_excel('RiskRegister.xlsx',sheet_name=\"Risk Register\", header=1, usecols='Q:U') \n",
    "Residual = pd.read_excel('RiskRegister.xlsx',sheet_name=\"Risk Register\", header=1, usecols='V:Z')"
   ]
  },
  {
   "cell_type": "markdown",
   "id": "b68183fa-27ac-437d-8d0f-cf6ae5ace6a8",
   "metadata": {},
   "source": [
    "**Langkah 4:** Periksa informasi dasar dan struktur data"
   ]
  },
  {
   "cell_type": "code",
   "execution_count": 4,
   "id": "4a15ae90-35a2-4c07-913e-57f52e2f1f39",
   "metadata": {},
   "outputs": [
    {
     "name": "stdout",
     "output_type": "stream",
     "text": [
      "<class 'pandas.core.frame.DataFrame'>\n",
      "RangeIndex: 566 entries, 0 to 565\n",
      "Data columns (total 5 columns):\n",
      " #   Column            Non-Null Count  Dtype \n",
      "---  ------            --------------  ----- \n",
      " 0   Impact            566 non-null    object\n",
      " 1   Impact Value      566 non-null    int64 \n",
      " 2   Likelihood        566 non-null    object\n",
      " 3   Likelihood Value  566 non-null    int64 \n",
      " 4   Risk Level        566 non-null    int64 \n",
      "dtypes: int64(3), object(2)\n",
      "memory usage: 22.2+ KB\n"
     ]
    }
   ],
   "source": [
    "Inherent.info()"
   ]
  },
  {
   "cell_type": "code",
   "execution_count": 5,
   "id": "a5ec5733-7bd1-4412-a17e-2538ec74834b",
   "metadata": {},
   "outputs": [
    {
     "name": "stdout",
     "output_type": "stream",
     "text": [
      "<class 'pandas.core.frame.DataFrame'>\n",
      "RangeIndex: 566 entries, 0 to 565\n",
      "Data columns (total 5 columns):\n",
      " #   Column              Non-Null Count  Dtype \n",
      "---  ------              --------------  ----- \n",
      " 0   Impact .1           566 non-null    object\n",
      " 1   Impact Value.1      566 non-null    int64 \n",
      " 2   Likelihood.1        566 non-null    object\n",
      " 3   Likelihood Value.1  566 non-null    int64 \n",
      " 4   Risk Level.1        566 non-null    int64 \n",
      "dtypes: int64(3), object(2)\n",
      "memory usage: 22.2+ KB\n"
     ]
    }
   ],
   "source": [
    "Residual.info()       "
   ]
  },
  {
   "cell_type": "markdown",
   "id": "77f0943c-353d-4a5c-bfa0-5dcd520daab8",
   "metadata": {},
   "source": [
    "**Catatan:** Karena nama varibel pada data Inherent dan Residual adalah sama, maka Python secara automatis melakukan penambahan indeks menggunakan nomor. Dalam hal ini ada baiknya jika nama varibel tersebut dibedakan pada saat pengumpulan data (atau bisa juga **rename**).\n",
    "\n",
    "Berikut ini diperlihatkan **contoh error** akibat pemberian pada nama kolom dataset ada yang sama."
   ]
  },
  {
   "cell_type": "code",
   "execution_count": null,
   "id": "67560f61-4293-421c-85d0-6e2ec1126bf0",
   "metadata": {},
   "outputs": [],
   "source": [
    "Inherent['Impact']    # error karena tidak ada spasi di akhir nama variabel"
   ]
  },
  {
   "cell_type": "markdown",
   "id": "5e749e6a-b76e-4cf3-8f10-10448100d475",
   "metadata": {},
   "source": [
    "### Ubah Nama Kolom\n",
    "\n",
    "Untuk menghindari kesalahan atau error tersebut diatas maka perlu dilakukan ubah nama kolom pada data **Inherent** dan **Residual**."
   ]
  },
  {
   "cell_type": "code",
   "execution_count": 18,
   "id": "405bb7a5-5bfb-4f08-a703-01da86501e41",
   "metadata": {},
   "outputs": [
    {
     "name": "stdout",
     "output_type": "stream",
     "text": [
      "<class 'pandas.core.frame.DataFrame'>\n",
      "RangeIndex: 566 entries, 0 to 565\n",
      "Data columns (total 5 columns):\n",
      " #   Column                Non-Null Count  Dtype \n",
      "---  ------                --------------  ----- \n",
      " 0   Inh-Impact            566 non-null    object\n",
      " 1   Inh-Impact Value      566 non-null    int64 \n",
      " 2   Inh-Likelihood        566 non-null    object\n",
      " 3   Inh-Likelihood Value  566 non-null    int64 \n",
      " 4   Inh-Risk Level        566 non-null    int64 \n",
      "dtypes: int64(3), object(2)\n",
      "memory usage: 22.2+ KB\n"
     ]
    }
   ],
   "source": [
    "Inherent.columns = ['Inh-Impact', 'Inh-Impact Value', 'Inh-Likelihood',\n",
    "                    'Inh-Likelihood Value','Inh-Risk Level']\n",
    "Inherent.info()"
   ]
  },
  {
   "cell_type": "code",
   "execution_count": 19,
   "id": "c224d23e-30db-4472-ac83-b8574511bbf5",
   "metadata": {},
   "outputs": [
    {
     "name": "stdout",
     "output_type": "stream",
     "text": [
      "<class 'pandas.core.frame.DataFrame'>\n",
      "RangeIndex: 566 entries, 0 to 565\n",
      "Data columns (total 5 columns):\n",
      " #   Column                Non-Null Count  Dtype \n",
      "---  ------                --------------  ----- \n",
      " 0   Res-Impact            566 non-null    object\n",
      " 1   Res-Impact Value      566 non-null    int64 \n",
      " 2   Res-Likelihood        566 non-null    object\n",
      " 3   Res-Likelihood Value  566 non-null    int64 \n",
      " 4   Res-Risk Level        566 non-null    int64 \n",
      "dtypes: int64(3), object(2)\n",
      "memory usage: 22.2+ KB\n"
     ]
    }
   ],
   "source": [
    "Residual.columns = ['Res-Impact', 'Res-Impact Value', 'Res-Likelihood',\n",
    "                    'Res-Likelihood Value','Res-Risk Level']\n",
    "Residual.info()"
   ]
  },
  {
   "cell_type": "markdown",
   "id": "5757397f-9599-49de-961c-9a536d0fcf57",
   "metadata": {},
   "source": [
    "### Tabulasi Silang\n",
    "\n",
    "Metode ini digunakan untuk menghitung *cross-tabulation* (tabulasi silang) dari dua atau lebih variabel kategori. Dalam hal ini, digunakan untuk menghitung frekuensi dari "
   ]
  },
  {
   "cell_type": "code",
   "execution_count": 22,
   "id": "9c136d4a-d1a2-4a6d-a400-4a77677d1892",
   "metadata": {},
   "outputs": [
    {
     "data": {
      "text/html": [
       "<div>\n",
       "<style scoped>\n",
       "    .dataframe tbody tr th:only-of-type {\n",
       "        vertical-align: middle;\n",
       "    }\n",
       "\n",
       "    .dataframe tbody tr th {\n",
       "        vertical-align: top;\n",
       "    }\n",
       "\n",
       "    .dataframe thead th {\n",
       "        text-align: right;\n",
       "    }\n",
       "</style>\n",
       "<table border=\"1\" class=\"dataframe\">\n",
       "  <thead>\n",
       "    <tr style=\"text-align: right;\">\n",
       "      <th>Inh-Impact Value</th>\n",
       "      <th>1</th>\n",
       "      <th>2</th>\n",
       "      <th>3</th>\n",
       "      <th>4</th>\n",
       "      <th>5</th>\n",
       "    </tr>\n",
       "    <tr>\n",
       "      <th>Inh-Likelihood Value</th>\n",
       "      <th></th>\n",
       "      <th></th>\n",
       "      <th></th>\n",
       "      <th></th>\n",
       "      <th></th>\n",
       "    </tr>\n",
       "  </thead>\n",
       "  <tbody>\n",
       "    <tr>\n",
       "      <th>1</th>\n",
       "      <td>8</td>\n",
       "      <td>3</td>\n",
       "      <td>3</td>\n",
       "      <td>3</td>\n",
       "      <td>11</td>\n",
       "    </tr>\n",
       "    <tr>\n",
       "      <th>2</th>\n",
       "      <td>1</td>\n",
       "      <td>10</td>\n",
       "      <td>5</td>\n",
       "      <td>21</td>\n",
       "      <td>3</td>\n",
       "    </tr>\n",
       "    <tr>\n",
       "      <th>3</th>\n",
       "      <td>0</td>\n",
       "      <td>3</td>\n",
       "      <td>61</td>\n",
       "      <td>46</td>\n",
       "      <td>30</td>\n",
       "    </tr>\n",
       "    <tr>\n",
       "      <th>4</th>\n",
       "      <td>0</td>\n",
       "      <td>0</td>\n",
       "      <td>22</td>\n",
       "      <td>219</td>\n",
       "      <td>37</td>\n",
       "    </tr>\n",
       "    <tr>\n",
       "      <th>5</th>\n",
       "      <td>1</td>\n",
       "      <td>1</td>\n",
       "      <td>2</td>\n",
       "      <td>37</td>\n",
       "      <td>39</td>\n",
       "    </tr>\n",
       "  </tbody>\n",
       "</table>\n",
       "</div>"
      ],
      "text/plain": [
       "Inh-Impact Value      1   2   3    4   5\n",
       "Inh-Likelihood Value                    \n",
       "1                     8   3   3    3  11\n",
       "2                     1  10   5   21   3\n",
       "3                     0   3  61   46  30\n",
       "4                     0   0  22  219  37\n",
       "5                     1   1   2   37  39"
      ]
     },
     "execution_count": 22,
     "metadata": {},
     "output_type": "execute_result"
    }
   ],
   "source": [
    "Tab_Inh=pd.crosstab(Inherent[\"Inh-Likelihood Value\"],Inherent[\"Inh-Impact Value\"])\n",
    "Tab_Inh"
   ]
  },
  {
   "cell_type": "code",
   "execution_count": 23,
   "id": "e0d2f631-702f-472a-8962-8c582aebe7d5",
   "metadata": {},
   "outputs": [
    {
     "data": {
      "text/html": [
       "<div>\n",
       "<style scoped>\n",
       "    .dataframe tbody tr th:only-of-type {\n",
       "        vertical-align: middle;\n",
       "    }\n",
       "\n",
       "    .dataframe tbody tr th {\n",
       "        vertical-align: top;\n",
       "    }\n",
       "\n",
       "    .dataframe thead th {\n",
       "        text-align: right;\n",
       "    }\n",
       "</style>\n",
       "<table border=\"1\" class=\"dataframe\">\n",
       "  <thead>\n",
       "    <tr style=\"text-align: right;\">\n",
       "      <th>Res-Impact Value</th>\n",
       "      <th>1</th>\n",
       "      <th>2</th>\n",
       "      <th>3</th>\n",
       "      <th>4</th>\n",
       "      <th>5</th>\n",
       "    </tr>\n",
       "    <tr>\n",
       "      <th>Res-Likelihood Value</th>\n",
       "      <th></th>\n",
       "      <th></th>\n",
       "      <th></th>\n",
       "      <th></th>\n",
       "      <th></th>\n",
       "    </tr>\n",
       "  </thead>\n",
       "  <tbody>\n",
       "    <tr>\n",
       "      <th>1</th>\n",
       "      <td>74</td>\n",
       "      <td>14</td>\n",
       "      <td>16</td>\n",
       "      <td>34</td>\n",
       "      <td>41</td>\n",
       "    </tr>\n",
       "    <tr>\n",
       "      <th>2</th>\n",
       "      <td>4</td>\n",
       "      <td>51</td>\n",
       "      <td>68</td>\n",
       "      <td>74</td>\n",
       "      <td>5</td>\n",
       "    </tr>\n",
       "    <tr>\n",
       "      <th>3</th>\n",
       "      <td>5</td>\n",
       "      <td>9</td>\n",
       "      <td>79</td>\n",
       "      <td>35</td>\n",
       "      <td>15</td>\n",
       "    </tr>\n",
       "    <tr>\n",
       "      <th>4</th>\n",
       "      <td>0</td>\n",
       "      <td>2</td>\n",
       "      <td>8</td>\n",
       "      <td>28</td>\n",
       "      <td>1</td>\n",
       "    </tr>\n",
       "    <tr>\n",
       "      <th>5</th>\n",
       "      <td>0</td>\n",
       "      <td>0</td>\n",
       "      <td>1</td>\n",
       "      <td>1</td>\n",
       "      <td>1</td>\n",
       "    </tr>\n",
       "  </tbody>\n",
       "</table>\n",
       "</div>"
      ],
      "text/plain": [
       "Res-Impact Value       1   2   3   4   5\n",
       "Res-Likelihood Value                    \n",
       "1                     74  14  16  34  41\n",
       "2                      4  51  68  74   5\n",
       "3                      5   9  79  35  15\n",
       "4                      0   2   8  28   1\n",
       "5                      0   0   1   1   1"
      ]
     },
     "execution_count": 23,
     "metadata": {},
     "output_type": "execute_result"
    }
   ],
   "source": [
    "Tab_Res=pd.crosstab(Residual[\"Res-Likelihood Value\"],Residual[\"Res-Impact Value\"])\n",
    "Tab_Res"
   ]
  },
  {
   "cell_type": "markdown",
   "id": "eacfb887-5277-41a7-8d12-57f850f2ab29",
   "metadata": {},
   "source": [
    "### Membalik Urutan Baris/Kolom\n",
    "\n",
    "Dalam contoh ini, diperlihatkan cara menyusun ulang baris **(Reverse)** DataFrame dengan Python."
   ]
  },
  {
   "cell_type": "code",
   "execution_count": 32,
   "id": "baa2acb0-a086-48d8-bb32-e09681c6e6fc",
   "metadata": {},
   "outputs": [
    {
     "data": {
      "text/html": [
       "<div>\n",
       "<style scoped>\n",
       "    .dataframe tbody tr th:only-of-type {\n",
       "        vertical-align: middle;\n",
       "    }\n",
       "\n",
       "    .dataframe tbody tr th {\n",
       "        vertical-align: top;\n",
       "    }\n",
       "\n",
       "    .dataframe thead th {\n",
       "        text-align: right;\n",
       "    }\n",
       "</style>\n",
       "<table border=\"1\" class=\"dataframe\">\n",
       "  <thead>\n",
       "    <tr style=\"text-align: right;\">\n",
       "      <th>Inh-Impact Value</th>\n",
       "      <th>1</th>\n",
       "      <th>2</th>\n",
       "      <th>3</th>\n",
       "      <th>4</th>\n",
       "      <th>5</th>\n",
       "    </tr>\n",
       "    <tr>\n",
       "      <th>Inh-Likelihood Value</th>\n",
       "      <th></th>\n",
       "      <th></th>\n",
       "      <th></th>\n",
       "      <th></th>\n",
       "      <th></th>\n",
       "    </tr>\n",
       "  </thead>\n",
       "  <tbody>\n",
       "    <tr>\n",
       "      <th>5</th>\n",
       "      <td>1</td>\n",
       "      <td>1</td>\n",
       "      <td>2</td>\n",
       "      <td>37</td>\n",
       "      <td>39</td>\n",
       "    </tr>\n",
       "    <tr>\n",
       "      <th>4</th>\n",
       "      <td>0</td>\n",
       "      <td>0</td>\n",
       "      <td>22</td>\n",
       "      <td>219</td>\n",
       "      <td>37</td>\n",
       "    </tr>\n",
       "    <tr>\n",
       "      <th>3</th>\n",
       "      <td>0</td>\n",
       "      <td>3</td>\n",
       "      <td>61</td>\n",
       "      <td>46</td>\n",
       "      <td>30</td>\n",
       "    </tr>\n",
       "    <tr>\n",
       "      <th>2</th>\n",
       "      <td>1</td>\n",
       "      <td>10</td>\n",
       "      <td>5</td>\n",
       "      <td>21</td>\n",
       "      <td>3</td>\n",
       "    </tr>\n",
       "    <tr>\n",
       "      <th>1</th>\n",
       "      <td>8</td>\n",
       "      <td>3</td>\n",
       "      <td>3</td>\n",
       "      <td>3</td>\n",
       "      <td>11</td>\n",
       "    </tr>\n",
       "  </tbody>\n",
       "</table>\n",
       "</div>"
      ],
      "text/plain": [
       "Inh-Impact Value      1   2   3    4   5\n",
       "Inh-Likelihood Value                    \n",
       "5                     1   1   2   37  39\n",
       "4                     0   0  22  219  37\n",
       "3                     0   3  61   46  30\n",
       "2                     1  10   5   21   3\n",
       "1                     8   3   3    3  11"
      ]
     },
     "execution_count": 32,
     "metadata": {},
     "output_type": "execute_result"
    }
   ],
   "source": [
    "Rev_Tab_Inh = Tab_Inh[::-1]                    # Urutan baris terbalik\n",
    "Rev_Tab_Inh                                    # Cetak data yang diperbarui\n"
   ]
  },
  {
   "cell_type": "code",
   "execution_count": 34,
   "id": "5ac51c72-2b38-4c30-bb49-feea85ce9c24",
   "metadata": {},
   "outputs": [
    {
     "data": {
      "text/html": [
       "<div>\n",
       "<style scoped>\n",
       "    .dataframe tbody tr th:only-of-type {\n",
       "        vertical-align: middle;\n",
       "    }\n",
       "\n",
       "    .dataframe tbody tr th {\n",
       "        vertical-align: top;\n",
       "    }\n",
       "\n",
       "    .dataframe thead th {\n",
       "        text-align: right;\n",
       "    }\n",
       "</style>\n",
       "<table border=\"1\" class=\"dataframe\">\n",
       "  <thead>\n",
       "    <tr style=\"text-align: right;\">\n",
       "      <th>Res-Impact Value</th>\n",
       "      <th>1</th>\n",
       "      <th>2</th>\n",
       "      <th>3</th>\n",
       "      <th>4</th>\n",
       "      <th>5</th>\n",
       "    </tr>\n",
       "    <tr>\n",
       "      <th>Res-Likelihood Value</th>\n",
       "      <th></th>\n",
       "      <th></th>\n",
       "      <th></th>\n",
       "      <th></th>\n",
       "      <th></th>\n",
       "    </tr>\n",
       "  </thead>\n",
       "  <tbody>\n",
       "    <tr>\n",
       "      <th>5</th>\n",
       "      <td>0</td>\n",
       "      <td>0</td>\n",
       "      <td>1</td>\n",
       "      <td>1</td>\n",
       "      <td>1</td>\n",
       "    </tr>\n",
       "    <tr>\n",
       "      <th>4</th>\n",
       "      <td>0</td>\n",
       "      <td>2</td>\n",
       "      <td>8</td>\n",
       "      <td>28</td>\n",
       "      <td>1</td>\n",
       "    </tr>\n",
       "    <tr>\n",
       "      <th>3</th>\n",
       "      <td>5</td>\n",
       "      <td>9</td>\n",
       "      <td>79</td>\n",
       "      <td>35</td>\n",
       "      <td>15</td>\n",
       "    </tr>\n",
       "    <tr>\n",
       "      <th>2</th>\n",
       "      <td>4</td>\n",
       "      <td>51</td>\n",
       "      <td>68</td>\n",
       "      <td>74</td>\n",
       "      <td>5</td>\n",
       "    </tr>\n",
       "    <tr>\n",
       "      <th>1</th>\n",
       "      <td>74</td>\n",
       "      <td>14</td>\n",
       "      <td>16</td>\n",
       "      <td>34</td>\n",
       "      <td>41</td>\n",
       "    </tr>\n",
       "  </tbody>\n",
       "</table>\n",
       "</div>"
      ],
      "text/plain": [
       "Res-Impact Value       1   2   3   4   5\n",
       "Res-Likelihood Value                    \n",
       "5                      0   0   1   1   1\n",
       "4                      0   2   8  28   1\n",
       "3                      5   9  79  35  15\n",
       "2                      4  51  68  74   5\n",
       "1                     74  14  16  34  41"
      ]
     },
     "execution_count": 34,
     "metadata": {},
     "output_type": "execute_result"
    }
   ],
   "source": [
    "Rev_Tab_Res = Tab_Res[::-1]                    # Urutan baris terbalik\n",
    "Rev_Tab_Res                                    # Cetak data yang diperbarui"
   ]
  },
  {
   "cell_type": "markdown",
   "id": "3484a56d-48c2-43d1-986f-fb6a4f3e4555",
   "metadata": {},
   "source": [
    "**Catatan:** Seandainya anda ingin membalik urutan berdasarkan kolom perhatikan contoh berikut:"
   ]
  },
  {
   "cell_type": "raw",
   "id": "925c2155-a892-4017-bf7d-610e1593f5a0",
   "metadata": {},
   "source": [
    "test1 = Rev_Tab_Inh[Rev_Tab_Inh.columns[::-1]]             # Urutan kolom terbalik\n",
    "test2 = Rev_Tab_Res[Rev_Tab_Res.columns[::-1]]             # Urutan kolom terbalik"
   ]
  },
  {
   "cell_type": "markdown",
   "id": "8622508a-726f-403a-a030-1df2ef77dc80",
   "metadata": {},
   "source": [
    "**Keterangan:** Link Penjelasan di [Youtube](https://www.youtube.com/watch?v=3cJmkdjepMw)\n",
    "\n",
    "* **Impact** dibagi menjadi 5 kategori penilaian berikut:\n",
    "    * **Insignificant (1),** yang artinya tidak signifikan (tidak berdampak)\n",
    "    * **Minor (2),** berdampak ringan\n",
    "    * **Moderate (3),** Sedang \n",
    "    * **Major (4),** cukup parah\n",
    "    * **Catastrophic (5),**  sangat parah\n",
    "    \n",
    "* **Likelihood** dibagi menjadi 5 kategori penilaian berikut:\n",
    "    * **Rare (1),** Cenderung tidak mungkin terjadi \n",
    "    * **Unlikely (2),**  Kemungkinan kecil terjadi\n",
    "    * **Possible (3),**  Sama kemungkinan antara terjadi dan tidak terjadi\n",
    "    * **Likely (4),**  Kemungkinan besar terjadi \n",
    "    * **Certain (5),**  Sangat mungkin pasti terjadi \n",
    "      \n",
    "Representasi kategori resiko yang dihasilkan dari penilaian matriks resiko, adalah sebagai berikut:\n",
    "\n",
    "* **Acceptable :** Tidak ada tindakan yang diperlukan\n",
    "* **Supplementary Issue :** tindakan dianjurkan jika sumber daya yang tersedia\n",
    "* **Issue :** Tindakan yang diperlukan untuk mengelola risiko tambahan (dampak lainnnya)\n",
    "* **Unacceptable :** Tindakan segera dilakukan untuk mengelola risiko"
   ]
  },
  {
   "cell_type": "code",
   "execution_count": null,
   "id": "bc7011f6-9ef5-4d3c-99b9-879be5136f46",
   "metadata": {},
   "outputs": [],
   "source": []
  },
  {
   "cell_type": "markdown",
   "id": "0d02ef4b-b0ef-4012-9fe1-0673e0849663",
   "metadata": {},
   "source": [
    "https://synergysolusi.com/indonesia/berita-terbaru/pentingnya-manajemen-risiko-k3-dalam-pekerjaan"
   ]
  }
 ],
 "metadata": {
  "kernelspec": {
   "display_name": "Python 3 (ipykernel)",
   "language": "python",
   "name": "python3"
  },
  "language_info": {
   "codemirror_mode": {
    "name": "ipython",
    "version": 3
   },
   "file_extension": ".py",
   "mimetype": "text/x-python",
   "name": "python",
   "nbconvert_exporter": "python",
   "pygments_lexer": "ipython3",
   "version": "3.8.13"
  }
 },
 "nbformat": 4,
 "nbformat_minor": 5
}
