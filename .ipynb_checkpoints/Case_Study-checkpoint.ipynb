{
 "cells": [
  {
   "cell_type": "markdown",
   "id": "28f5fbb3-fddb-4994-92ea-c710e5287922",
   "metadata": {},
   "source": [
    "# Case Study\n",
    "\n",
    "Adapun hal2 yang akan dipelajari dalam pertemuan ini adalah sebagai berikut:\n",
    "\n",
    "1. Import Data\n",
    "2. Data Cleaning\n",
    "3. Pivot Tabel\n",
    "4. Visualisasi Data\n",
    "5. Dashboard"
   ]
  },
  {
   "cell_type": "markdown",
   "id": "247c49bb-6d4f-43cc-be06-c8dece8e2450",
   "metadata": {},
   "source": [
    "## Risk Map\n",
    "\n",
    "### Import Data\n",
    "\n",
    "**Langkah 1:** Periksa direktori kerja Anda saat ini"
   ]
  },
  {
   "cell_type": "code",
   "execution_count": 3,
   "id": "537ae34a-446b-4bf5-ad08-09e6b9c005c9",
   "metadata": {},
   "outputs": [
    {
     "data": {
      "text/plain": [
       "'C:\\\\Users\\\\user\\\\Desktop\\\\Py_JNE'"
      ]
     },
     "execution_count": 3,
     "metadata": {},
     "output_type": "execute_result"
    }
   ],
   "source": [
    "import os                                   # Import library OS \n",
    "os.getcwd()                                 # Get the current working directory"
   ]
  },
  {
   "cell_type": "markdown",
   "id": "1ec816a0-e04b-477d-8e66-f418ce4f3432",
   "metadata": {},
   "source": [
    "**Langkah 2:** Salin direktori (jalur) file diatas untuk digunakan atau di-ubah sesuai direktori kerjanya yang diinginkan. Berikut diperlihatkan contohnya:"
   ]
  },
  {
   "cell_type": "code",
   "execution_count": 4,
   "id": "f50fd33a-f5fd-4460-9c1f-e7073737dd7f",
   "metadata": {},
   "outputs": [],
   "source": [
    "# Cara 1:Change the current working directory\n",
    "os.chdir('C:\\\\Users\\\\user\\\\Desktop\\\\Py_JNE\\\\data\\\\CS')  \n",
    "\n",
    "# Cara 2:Change the current working directory\n",
    "os.chdir('C:/Users/user/Desktop/Py_JNE/data/CS')  "
   ]
  },
  {
   "cell_type": "markdown",
   "id": "a0bd4ede-bc56-4d86-814b-8db50c1e7dfe",
   "metadata": {},
   "source": [
    "**Langkah 3:** Read (baca) data dari Excel ke Python (JupyterLab)"
   ]
  },
  {
   "cell_type": "code",
   "execution_count": 5,
   "id": "a3870f4a-1035-484a-9851-e6537677b434",
   "metadata": {},
   "outputs": [],
   "source": [
    "# library pandas untuk impor data\n",
    "import pandas as pd                                   \n",
    "Inherent = pd.read_excel('RiskRegister.xlsx',sheet_name=\"Risk Register\", header=1, usecols='Q:U') \n",
    "Residual = pd.read_excel('RiskRegister.xlsx',sheet_name=\"Risk Register\", header=1, usecols='V:Z')"
   ]
  },
  {
   "cell_type": "code",
   "execution_count": null,
   "id": "4a15ae90-35a2-4c07-913e-57f52e2f1f39",
   "metadata": {},
   "outputs": [],
   "source": [
    "print(Inherent)        # Print data Inherent"
   ]
  },
  {
   "cell_type": "code",
   "execution_count": null,
   "id": "a5ec5733-7bd1-4412-a17e-2538ec74834b",
   "metadata": {},
   "outputs": [],
   "source": [
    "print(Residual)        # Print data Residual "
   ]
  },
  {
   "cell_type": "markdown",
   "id": "77f0943c-353d-4a5c-bfa0-5dcd520daab8",
   "metadata": {},
   "source": [
    "**Catatan:** Karena nama varibel pada data Inherent dan Residual adalah sama, maka Python secara automatis melakukan penambahan indeks menggunakan nomor.Dalam hal ini ada baiknya jika nama varibel tersebut dibedakan pada saat pengumpulan data (atau bisa juga direname pada proses pengolahan data di Python)."
   ]
  },
  {
   "cell_type": "markdown",
   "id": "5757397f-9599-49de-961c-9a536d0fcf57",
   "metadata": {},
   "source": [
    "### Pivot Tabel\n",
    "\n",
    "Dalam hal ini diperlukan tabel pivot untuk data **Inherent** yang memuat indeks (baris) adalah Varibel Likelihood dan Kolomnya adalah variabel Impact."
   ]
  },
  {
   "cell_type": "code",
   "execution_count": null,
   "id": "9c136d4a-d1a2-4a6d-a400-4a77677d1892",
   "metadata": {},
   "outputs": [],
   "source": []
  }
 ],
 "metadata": {
  "kernelspec": {
   "display_name": "Python 3 (ipykernel)",
   "language": "python",
   "name": "python3"
  },
  "language_info": {
   "codemirror_mode": {
    "name": "ipython",
    "version": 3
   },
   "file_extension": ".py",
   "mimetype": "text/x-python",
   "name": "python",
   "nbconvert_exporter": "python",
   "pygments_lexer": "ipython3",
   "version": "3.8.13"
  }
 },
 "nbformat": 4,
 "nbformat_minor": 5
}
