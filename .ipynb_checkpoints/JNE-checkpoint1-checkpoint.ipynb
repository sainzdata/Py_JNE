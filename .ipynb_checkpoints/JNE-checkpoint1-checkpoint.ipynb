{
 "cells": [
  {
   "cell_type": "code",
   "execution_count": 2,
   "id": "a294b41f",
   "metadata": {},
   "outputs": [
    {
     "name": "stdout",
     "output_type": "stream",
     "text": [
      "Masukkan nilai berat 80\n",
      "Paket melebihi standard, 80.0kg >= 50kg, dan dikenai charge 500ribu\n",
      "Total biaya: 1540.0ribu\n"
     ]
    }
   ],
   "source": [
    "# buat variable menggunakan function inpit berat paket\n",
    "# tipe data menggunakan float karena bersifat continuous\n",
    "\n",
    "berat_paket = float(input('Masukkan nilai berat '))\n",
    "\n",
    "# Rules\n",
    "if berat_paket > 120:\n",
    "    print('Paket tidak dapat dikirim dikarenakan melebihi standard 120kg')\n",
    "    \n",
    "elif berat_paket >= 50:\n",
    "    price = 13\n",
    "    charge = 500\n",
    "    print('Paket melebihi standard,', str(berat_paket) + 'kg >= 50kg, dan dikenai charge 500ribu')\n",
    "    print('Total biaya:', str(price*berat_paket+charge) +'ribu')\n",
    "    \n",
    "else:\n",
    "    price = 13\n",
    "    print('Paket diterima dengan berat', str(berat_paket) + 'kg dan biaya yang dikenakan sebesar ' + str(price*berat_paket) + 'ribu')\n",
    "    \n",
    "    "
   ]
  }
 ],
 "metadata": {
  "kernelspec": {
   "display_name": "Python 3 (ipykernel)",
   "language": "python",
   "name": "python3"
  },
  "language_info": {
   "codemirror_mode": {
    "name": "ipython",
    "version": 3
   },
   "file_extension": ".py",
   "mimetype": "text/x-python",
   "name": "python",
   "nbconvert_exporter": "python",
   "pygments_lexer": "ipython3",
   "version": "3.9.12"
  }
 },
 "nbformat": 4,
 "nbformat_minor": 5
}
