{
 "cells": [
  {
   "cell_type": "markdown",
   "id": "688885f6-130a-416f-934a-3d96d2af4c53",
   "metadata": {},
   "source": [
    "# Import Data"
   ]
  },
  {
   "cell_type": "code",
   "execution_count": 6,
   "id": "117fd5cf-5781-4e89-ac99-5ff404c5c2a1",
   "metadata": {},
   "outputs": [],
   "source": [
    "import pandas as pd              # library untuk impor data\n",
    "f1 = pd.read_excel('data/Mini_Project/original/OTS1.xlsx') "
   ]
  },
  {
   "cell_type": "code",
   "execution_count": 7,
   "id": "5c4ed0a9-ee3a-4cea-af8d-3d695ad98bbe",
   "metadata": {},
   "outputs": [
    {
     "name": "stdout",
     "output_type": "stream",
     "text": [
      "<class 'pandas.core.frame.DataFrame'>\n",
      "RangeIndex: 398 entries, 0 to 397\n",
      "Data columns (total 17 columns):\n",
      " #   Column      Non-Null Count  Dtype \n",
      "---  ------      --------------  ----- \n",
      " 0   Unnamed: 0  396 non-null    object\n",
      " 1   Unnamed: 1  396 non-null    object\n",
      " 2   Unnamed: 2  396 non-null    object\n",
      " 3   Unnamed: 3  396 non-null    object\n",
      " 4   Unnamed: 4  396 non-null    object\n",
      " 5   Unnamed: 5  397 non-null    object\n",
      " 6   Unnamed: 6  397 non-null    object\n",
      " 7   nan         397 non-null    object\n",
      " 8   nan.1       397 non-null    object\n",
      " 9   nan.2       397 non-null    object\n",
      " 10  nan.3       397 non-null    object\n",
      " 11  nan.4       397 non-null    object\n",
      " 12  nan.5       397 non-null    object\n",
      " 13  nan.6       397 non-null    object\n",
      " 14  nan.7       397 non-null    object\n",
      " 15  nan.8       397 non-null    object\n",
      " 16  nan.9       397 non-null    object\n",
      "dtypes: object(17)\n",
      "memory usage: 53.0+ KB\n"
     ]
    }
   ],
   "source": [
    "f1.info()"
   ]
  },
  {
   "cell_type": "code",
   "execution_count": 10,
   "id": "6c18ed1d-555d-4d3c-9204-c9dcd16fb341",
   "metadata": {},
   "outputs": [],
   "source": [
    "import pandas as pd              # library untuk impor data\n",
    "\n",
    "f1 = pd.read_excel('data/Mini_Project/OTS1.xlsx',skiprows=1) \n",
    "f2 = pd.read_excel('data/Mini_Project/OTS2.xlsx',header=1) \n",
    "f3 = pd.read_excel('data/Mini_Project/OTS3.xlsx',header=1) "
   ]
  },
  {
   "cell_type": "code",
   "execution_count": 12,
   "id": "d172154a-617b-44f3-979f-77b0108c12f0",
   "metadata": {},
   "outputs": [
    {
     "name": "stdout",
     "output_type": "stream",
     "text": [
      "Requirement already satisfied: pyarrow in c:\\users\\user\\anaconda3\\lib\\site-packages (9.0.0)\n",
      "Requirement already satisfied: numpy>=1.16.6 in c:\\users\\user\\anaconda3\\lib\\site-packages (from pyarrow) (1.21.5)\n",
      "Note: you may need to restart the kernel to use updated packages.\n"
     ]
    }
   ],
   "source": [
    "pip install pyarrow"
   ]
  },
  {
   "cell_type": "code",
   "execution_count": null,
   "id": "d5b9820c-7860-42d5-a878-44a20580f62d",
   "metadata": {},
   "outputs": [],
   "source": []
  }
 ],
 "metadata": {
  "kernelspec": {
   "display_name": "Python 3 (ipykernel)",
   "language": "python",
   "name": "python3"
  },
  "language_info": {
   "codemirror_mode": {
    "name": "ipython",
    "version": 3
   },
   "file_extension": ".py",
   "mimetype": "text/x-python",
   "name": "python",
   "nbconvert_exporter": "python",
   "pygments_lexer": "ipython3",
   "version": "3.9.12"
  }
 },
 "nbformat": 4,
 "nbformat_minor": 5
}
