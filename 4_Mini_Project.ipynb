{
 "cells": [
  {
   "cell_type": "markdown",
   "id": "ac10b090-93dd-42eb-86db-521a441d9d93",
   "metadata": {},
   "source": [
    "# Mini Project\n",
    "\n",
    "Adapun beberapa hal yang dipelajari pada program pelatihan Data Analitics With Python pertemuan ke-4 ini adalah sebagai berikut:\n",
    "\n",
    "* Penggabungan data menggunakan 3 file dibawah ini: [(download data disini)](https://jne2-my.sharepoint.com/personal/ibnu_falah_jne_co_id/_layouts/15/onedrive.aspx?id=%2Fpersonal%2Fibnu%5Ffalah%5Fjne%5Fco%5Fid%2FDocuments%2FData%20for%20P%27%20Bakti&ga=1). \n",
    "    1. OTS ARAP UPDATE 30092022.XLSX; \n",
    "    2. OTS CURRENT 2022 UPDATE 30092022.XLSX; \n",
    "    3. OTS CURRENT 2022 UPDATE 30092022 PART 2.XLSX)\n",
    "* Periksa data duplikat (Nomor connote apakah ada yang double)\n",
    "* Periksa data anomali (Memeriksa Data OTS yang nilai nya minus)\n",
    "* Data outstanding diurutkan berdasarkan nama customer – Dest Runsheet\n",
    "* Analisa nilai outstanding yang tinggi berdasarkan Regional – Cabang – Kurir.\n",
    "* Outstanding berdasarkan Kurir / ID Kurir (data kurir dapat dilihat di file ID Kurir.XLSX)\n",
    "\n"
   ]
  },
  {
   "cell_type": "markdown",
   "id": "4458b8cb-c020-43a4-b7b0-6682d9d501cf",
   "metadata": {},
   "source": [
    "## Impor Data\n",
    "\n",
    "Dalam proses impor (baca) data dari Excel ke Python, beberapa hal yang harus diperhatikan adalah:\n",
    "\n",
    "1. Pastikan Notebook Python (Koding) anda berada dalam satu folder\n",
    "2. Buatlah folder baru untuk meyimpan data tersebut (opsional) \n",
    "3. Nama file excel tidak memuat spasi (gunakan underline `_` jika diperlukan). Dalam hal ini, penulis merubah nama variabel menjadi OTS1, OTS2, dan OTS3.\n",
    "4. impor packages/Library/Module yang diperlukan (dalam hal ini digunakan 'pandas')"
   ]
  },
  {
   "cell_type": "code",
   "execution_count": 34,
   "id": "a4f338e9-70f2-44ff-b8f8-fd8039d1e2ab",
   "metadata": {},
   "outputs": [],
   "source": [
    "import pandas as pd              # library untuk impor data\n",
    "f1 = pd.read_excel('data/Mini_Project/OTS1.xlsx') \n",
    "f2 = pd.read_excel('data/Mini_Project/OTS2.xlsx') \n",
    "f3 = pd.read_excel('data/Mini_Project/OTS3.xlsx') "
   ]
  },
  {
   "cell_type": "markdown",
   "id": "7a4abafb-bca1-4569-99ec-66f0b9797f2e",
   "metadata": {},
   "source": [
    "Berikutnya dilakukan pemerikasan struktur data dan informasi dasar pada dataset."
   ]
  },
  {
   "cell_type": "code",
   "execution_count": 39,
   "id": "9cfa2bd6-c765-4470-a6d2-2340f9fcae11",
   "metadata": {},
   "outputs": [
    {
     "name": "stdout",
     "output_type": "stream",
     "text": [
      "<class 'pandas.core.frame.DataFrame'>\n",
      "RangeIndex: 546785 entries, 0 to 546784\n",
      "Data columns (total 10 columns):\n",
      " #   Column       Non-Null Count   Dtype \n",
      "---  ------       --------------   ----- \n",
      " 0   Unnamed: 0   546785 non-null  object\n",
      " 1   Unnamed: 1   546785 non-null  object\n",
      " 2   Unnamed: 2   546785 non-null  object\n",
      " 3   Unnamed: 3   546785 non-null  object\n",
      " 4   68906809805  546785 non-null  object\n",
      " 5   Unnamed: 5   546785 non-null  object\n",
      " 6   Unnamed: 6   546785 non-null  object\n",
      " 7   Unnamed: 7   546785 non-null  object\n",
      " 8   Unnamed: 8   546785 non-null  object\n",
      " 9   68906264744  546785 non-null  object\n",
      "dtypes: object(10)\n",
      "memory usage: 41.7+ MB\n"
     ]
    }
   ],
   "source": [
    "f3.info()                        # print struktur dan informasi dasar"
   ]
  },
  {
   "cell_type": "markdown",
   "id": "55ef8c99-d11d-4f39-935c-a64d68a824a5",
   "metadata": {},
   "source": [
    "Berdasarkan pengamatan yang dilakukan pada ke-3 file dataset di atas, diperoleh beberapa catatan sebagai berikut:\n",
    "\n",
    "1. Struktur data belum jelas karena nama variabel (kolom) pada file excel tidak ada pada baris pertama\n",
    "2. Data pada `OTS1.xlsx` tidak dapat terbaca dengan baik di Python. Langkah penyelesaian permasalahan ini adalah dengan cara `Copy-Paste` file tersebut ke file excel yang baru dan replace (menimpa) file yang lama. \n",
    "3. Nama variabel (kolom) pada baris pertama belum sesuai (tidak sama).\n",
    "4. Banyak kolom tidak sama.\n",
    "\n",
    "**Catatan:** Jika tidak ingin menghapus baris pertama dari file Excel maka dapat dilakukan dengan parameter `skiprows=1`. Selain itu, anda juga dapat menggunakan parameter `header=2` untuk menunjukan nama variabel ada pada  baris ke-2. Terlebih daripada itu, jika anda ingin melewati baris pada indeks 0, 2 dan 5 dapat menggunakan `skiprows=[0,2,5]`"
   ]
  },
  {
   "cell_type": "code",
   "execution_count": null,
   "id": "d02684c0-36eb-4a6a-8a87-81df75cb496f",
   "metadata": {},
   "outputs": [],
   "source": [
    "import pandas as pd              # library untuk impor data\n",
    "f1 = pd.read_excel('data/Mini_Project/OTS1.xlsx',skiprows=1, usecols='A:I, K') \n",
    "f2 = pd.read_excel('data/Mini_Project/OTS2.xlsx',header=1) \n",
    "f3 = pd.read_excel('data/Mini_Project/OTS3.xlsx',header=1) "
   ]
  },
  {
   "cell_type": "markdown",
   "id": "40d1b587-f6da-435e-9d85-d371c0ccbc2b",
   "metadata": {},
   "source": [
    "## Konversi Format File\n",
    "\n",
    "Saat mengerjakan proyek analitik data dengan jumlah pengamatan yang banyak, proses menyimpan dan memuat kembali data ke dalam memori menjadi lebih lambat, dan setiap kali anda melakukan restart pada kernel akan membutuhkan waktu tunggu yang cukup lama. Sehingga, sangat disarankan untuk menyimpan data dengan format terbaik. Menurut **Ilia Zaitsev** di dalam artikelnya pada laman [Towards Data Science](https://towardsdatascience.com/the-best-format-to-save-pandas-data-414dca023e0d) file EXCEL atau CSV atau format teks biasa lainnya bukanlah pilihan yang baik. Ini terbukti dari proses loading data pada ke-3 file Excel diatas **membutuhkan kurang lebih 3 menit untuk ukuran file 64 Mb**. Sehingga, untuk mempercepat proses loading data ini maka dilakukan proses penyimpanan data dengan format `feather`."
   ]
  },
  {
   "cell_type": "code",
   "execution_count": null,
   "id": "34c67eb4-feac-4013-a6a0-3dee791c7c64",
   "metadata": {},
   "outputs": [],
   "source": [
    "# jangan lupa `pip isntall pyarrow`\n",
    "\n",
    "f1.to_feather('data/Mini_Project/OTS1.ftr')                  # data frame f1 ke `OTS1.ftr`\n",
    "f2.to_feather('data/Mini_Project/OTS2.ftr')                  # data frame f2 ke `OTS2.ftr`\n",
    "f3.to_feather('data/Mini_Project/OTS2.ftr')                  # data frame f1 ke `OTS1.ftr`"
   ]
  },
  {
   "cell_type": "markdown",
   "id": "3773162e-6fa8-4cc3-9c47-2da8acbb8d6d",
   "metadata": {},
   "source": [
    "## Gabungkan Data\n",
    "\n",
    "Setelah meyimpanan data dengan format `feather`, selanjutnya dilakukan proses penggabungan data."
   ]
  },
  {
   "cell_type": "code",
   "execution_count": 1,
   "id": "0e3c7fc4-a593-4d75-a945-21e2c24fcc31",
   "metadata": {},
   "outputs": [
    {
     "name": "stdout",
     "output_type": "stream",
     "text": [
      "<class 'pandas.core.frame.DataFrame'>\n",
      "RangeIndex: 1312227 entries, 0 to 1312226\n",
      "Data columns (total 10 columns):\n",
      " #   Column         Non-Null Count    Dtype  \n",
      "---  ------         --------------    -----  \n",
      " 0   Connote No     1312227 non-null  object \n",
      " 1   Order Id       1211622 non-null  object \n",
      " 2   Origin         1312227 non-null  object \n",
      " 3   Dest Runsheet  1312227 non-null  object \n",
      " 4   Amount         1312227 non-null  int64  \n",
      " 5   Project        1312227 non-null  object \n",
      " 6   POD Status     1312227 non-null  object \n",
      " 7   Customer Name  1312227 non-null  object \n",
      " 8   Regional       1312227 non-null  object \n",
      " 9   OUTSTANDING    1312227 non-null  float64\n",
      "dtypes: float64(1), int64(1), object(8)\n",
      "memory usage: 100.1+ MB\n"
     ]
    }
   ],
   "source": [
    "import pandas as pd \n",
    "ftr1=pd.read_feather('data/Mini_Project/OTS1.ftr')           # impor data \n",
    "ftr2=pd.read_feather('data/Mini_Project/OTS2.ftr')           # impor data \n",
    "ftr3=pd.read_feather('data/Mini_Project/OTS2.ftr')           # impor data \n",
    "\n",
    "datagabung = pd.concat([ftr1,ftr2,ftr3],ignore_index=True)   # gabungkan semua data\n",
    "datagabung.info()                                            # informasi dasar "
   ]
  },
  {
   "cell_type": "markdown",
   "id": "bd2dcf2b-a6ab-470f-84ed-5d04c4aa1a29",
   "metadata": {},
   "source": [
    "**Catatan:** Banyaknya observasi (baris) sudah melebihi batas **maksimum file Excel 1048576 baris/kolom**."
   ]
  },
  {
   "cell_type": "markdown",
   "id": "12e17e8e-363c-4f9b-a556-cb33421460b1",
   "metadata": {},
   "source": [
    "## Deskripsi Data  \n",
    "\n",
    "Berikut ini adalah deskripsi dataset yang sedang digunakan:\n",
    "\n",
    "* `Connote` : No Nomor yang diberikan oleh Seller/Penjual berguna untuk melacak sejauh mana proses pengiriman\n",
    "* `Order Id` : No Resi Pengiriman          \n",
    "* `Origin` :  Asal barang yang akan dikirimkan           \n",
    "* `Dest Runsheet` : Tujuan pengiriman      \n",
    "* `Amount` : Biaya Pengiriman           \n",
    "* `Project` : Jenis Project          \n",
    "* `POD Status` :  Process On delivery Detail adalah Paket atau barang sedang atau baru saja dikirimkan oleh kurir.   \n",
    "* `Customer Name`: Nama Pelanggan       \n",
    "* `Regional` : Regional          \n",
    "* `Kategori` :  Kategori           \n",
    "* `OUTSTANDING` : Capaian/Nilai akhir (Verifikasi biaya pengiriman)      "
   ]
  },
  {
   "cell_type": "markdown",
   "id": "1cf56af4-177e-4b99-b676-bf9f5ab92920",
   "metadata": {},
   "source": [
    "**Catatan:** Data gabungan tersebut disimpan dengan format `feather`, sehingga untuk selanjutnya data ini yang akan di impor pada saat melakukan analisis."
   ]
  },
  {
   "cell_type": "code",
   "execution_count": 135,
   "id": "df103783-90ee-4dd8-bc9b-dc4724b28fd4",
   "metadata": {},
   "outputs": [],
   "source": [
    "datagabung.to_feather('data/Mini_Project/datagabung.ftr') # data frame f1 ke `OTS1.ftr`"
   ]
  },
  {
   "cell_type": "markdown",
   "id": "41afcdcc-cd99-4c3c-badc-d5d705b26366",
   "metadata": {},
   "source": [
    "### Quiz 1\n",
    "\n",
    "Lakukan proses impor data dan memeriksa struktur data  dengan format `feather`!"
   ]
  },
  {
   "cell_type": "markdown",
   "id": "414389a4-8960-4927-9f5f-cc0118461a95",
   "metadata": {},
   "source": [
    "## Verifikasi Kelengkapan Data\n",
    "\n",
    "Dataset terkadang memuat data yang hilang, bisa saja karena tidak dikumpulkan atau tidak pernah ada. Sehingga, untuk melakukan analisa perlu dilakukan [pemeriksaan kelengkapan data](https://stackoverflow.com/questions/26266362/how-do-i-count-the-nan-values-in-a-column-in-pandas-dataframe) terlebih dahulu. "
   ]
  },
  {
   "cell_type": "code",
   "execution_count": 2,
   "id": "e59b37ac-0cd1-45a5-9bf2-a381c4712be5",
   "metadata": {},
   "outputs": [
    {
     "data": {
      "text/plain": [
       "Connote No            0\n",
       "Order Id         100605\n",
       "Origin                0\n",
       "Dest Runsheet         0\n",
       "Amount                0\n",
       "Project               0\n",
       "POD Status            0\n",
       "Customer Name         0\n",
       "Regional              0\n",
       "OUTSTANDING           0\n",
       "dtype: int64"
      ]
     },
     "execution_count": 2,
     "metadata": {},
     "output_type": "execute_result"
    }
   ],
   "source": [
    "df=pd.read_feather('data/Mini_Project/datagabung.ftr')  # impor data \n",
    "df.isna().sum()                                         # jlh data hilang disetiap kolom"
   ]
  },
  {
   "cell_type": "markdown",
   "id": "76a960e1-2b76-4e39-9351-d45d2a6fe6bf",
   "metadata": {},
   "source": [
    "Berikut ini diperlihatkan cara untuk mengekstrak baris yang berisi setidaknya satu nilai yang hilang:"
   ]
  },
  {
   "cell_type": "code",
   "execution_count": 137,
   "id": "05a85654-c2a4-4f57-ae2e-c485345e9a7f",
   "metadata": {},
   "outputs": [
    {
     "data": {
      "text/html": [
       "<div>\n",
       "<style scoped>\n",
       "    .dataframe tbody tr th:only-of-type {\n",
       "        vertical-align: middle;\n",
       "    }\n",
       "\n",
       "    .dataframe tbody tr th {\n",
       "        vertical-align: top;\n",
       "    }\n",
       "\n",
       "    .dataframe thead th {\n",
       "        text-align: right;\n",
       "    }\n",
       "</style>\n",
       "<table border=\"1\" class=\"dataframe\">\n",
       "  <thead>\n",
       "    <tr style=\"text-align: right;\">\n",
       "      <th></th>\n",
       "      <th>Connote No</th>\n",
       "      <th>Order Id</th>\n",
       "      <th>Origin</th>\n",
       "      <th>Dest Runsheet</th>\n",
       "      <th>Amount</th>\n",
       "      <th>Project</th>\n",
       "      <th>POD Status</th>\n",
       "      <th>Customer Name</th>\n",
       "      <th>Regional</th>\n",
       "      <th>OUTSTANDING</th>\n",
       "    </tr>\n",
       "  </thead>\n",
       "  <tbody>\n",
       "    <tr>\n",
       "      <th>962</th>\n",
       "      <td>3012652100730710</td>\n",
       "      <td>None</td>\n",
       "      <td>DPK</td>\n",
       "      <td>BOO</td>\n",
       "      <td>214240</td>\n",
       "      <td>COD CNC</td>\n",
       "      <td>D10</td>\n",
       "      <td>RINJANI ROYAL CISMETINDO PT / COD</td>\n",
       "      <td>BODETABEKCIL</td>\n",
       "      <td>214240.0</td>\n",
       "    </tr>\n",
       "    <tr>\n",
       "      <th>1596</th>\n",
       "      <td>JNAC-0015215845</td>\n",
       "      <td>None</td>\n",
       "      <td>CBN</td>\n",
       "      <td>BOO</td>\n",
       "      <td>56650</td>\n",
       "      <td>COD CORPORATE</td>\n",
       "      <td>D01</td>\n",
       "      <td>LAZADA MPDS COD</td>\n",
       "      <td>BODETABEKCIL</td>\n",
       "      <td>56650.0</td>\n",
       "    </tr>\n",
       "    <tr>\n",
       "      <th>22446</th>\n",
       "      <td>JNER-1000117379</td>\n",
       "      <td>None</td>\n",
       "      <td>CKR</td>\n",
       "      <td>CKR</td>\n",
       "      <td>2199000</td>\n",
       "      <td>COD CORPORATE</td>\n",
       "      <td>D10</td>\n",
       "      <td>LAZADA MPDS COD</td>\n",
       "      <td>BODETABEKCIL</td>\n",
       "      <td>2199000.0</td>\n",
       "    </tr>\n",
       "    <tr>\n",
       "      <th>23125</th>\n",
       "      <td>0100142102776621</td>\n",
       "      <td>None</td>\n",
       "      <td>CGK</td>\n",
       "      <td>CGK</td>\n",
       "      <td>950000</td>\n",
       "      <td>COD CORPORATE</td>\n",
       "      <td>D09</td>\n",
       "      <td>SENHONG INTERNATIONAL</td>\n",
       "      <td>JAKARTA</td>\n",
       "      <td>950000.0</td>\n",
       "    </tr>\n",
       "    <tr>\n",
       "      <th>23126</th>\n",
       "      <td>0100142102904199</td>\n",
       "      <td>None</td>\n",
       "      <td>CGK</td>\n",
       "      <td>CGK</td>\n",
       "      <td>890000</td>\n",
       "      <td>COD CORPORATE</td>\n",
       "      <td>D01</td>\n",
       "      <td>SENHONG INTERNATIONAL</td>\n",
       "      <td>JAKARTA</td>\n",
       "      <td>890000.0</td>\n",
       "    </tr>\n",
       "    <tr>\n",
       "      <th>...</th>\n",
       "      <td>...</td>\n",
       "      <td>...</td>\n",
       "      <td>...</td>\n",
       "      <td>...</td>\n",
       "      <td>...</td>\n",
       "      <td>...</td>\n",
       "      <td>...</td>\n",
       "      <td>...</td>\n",
       "      <td>...</td>\n",
       "      <td>...</td>\n",
       "    </tr>\n",
       "    <tr>\n",
       "      <th>218598</th>\n",
       "      <td>JNXB-0001207352</td>\n",
       "      <td>None</td>\n",
       "      <td>CGK</td>\n",
       "      <td>MES</td>\n",
       "      <td>27000</td>\n",
       "      <td>COD CORPORATE</td>\n",
       "      <td>D09</td>\n",
       "      <td>LAZADA MPDS COD</td>\n",
       "      <td>SUMATERA REG. UTARA</td>\n",
       "      <td>27000.0</td>\n",
       "    </tr>\n",
       "    <tr>\n",
       "      <th>218599</th>\n",
       "      <td>JNXB-0001207373</td>\n",
       "      <td>None</td>\n",
       "      <td>CGK</td>\n",
       "      <td>MES</td>\n",
       "      <td>21000</td>\n",
       "      <td>COD CORPORATE</td>\n",
       "      <td>D01</td>\n",
       "      <td>LAZADA MPDS COD</td>\n",
       "      <td>SUMATERA REG. UTARA</td>\n",
       "      <td>21000.0</td>\n",
       "    </tr>\n",
       "    <tr>\n",
       "      <th>218600</th>\n",
       "      <td>JNXB-0001207895</td>\n",
       "      <td>None</td>\n",
       "      <td>CGK</td>\n",
       "      <td>MES</td>\n",
       "      <td>92000</td>\n",
       "      <td>COD CORPORATE</td>\n",
       "      <td>D06</td>\n",
       "      <td>LAZADA MPDS COD</td>\n",
       "      <td>SUMATERA REG. UTARA</td>\n",
       "      <td>92000.0</td>\n",
       "    </tr>\n",
       "    <tr>\n",
       "      <th>218601</th>\n",
       "      <td>JNXB-0001208491</td>\n",
       "      <td>None</td>\n",
       "      <td>CGK</td>\n",
       "      <td>MES</td>\n",
       "      <td>213000</td>\n",
       "      <td>COD CORPORATE</td>\n",
       "      <td>D08</td>\n",
       "      <td>LAZADA MPDS COD</td>\n",
       "      <td>SUMATERA REG. UTARA</td>\n",
       "      <td>213000.0</td>\n",
       "    </tr>\n",
       "    <tr>\n",
       "      <th>218602</th>\n",
       "      <td>JNXB-0001208634</td>\n",
       "      <td>None</td>\n",
       "      <td>CGK</td>\n",
       "      <td>MES</td>\n",
       "      <td>268524</td>\n",
       "      <td>COD CORPORATE</td>\n",
       "      <td>D09</td>\n",
       "      <td>LAZADA MPDS COD</td>\n",
       "      <td>SUMATERA REG. UTARA</td>\n",
       "      <td>268524.0</td>\n",
       "    </tr>\n",
       "  </tbody>\n",
       "</table>\n",
       "<p>100605 rows × 10 columns</p>\n",
       "</div>"
      ],
      "text/plain": [
       "              Connote No Order Id Origin Dest Runsheet   Amount  \\\n",
       "962     3012652100730710     None    DPK           BOO   214240   \n",
       "1596     JNAC-0015215845     None    CBN           BOO    56650   \n",
       "22446    JNER-1000117379     None    CKR           CKR  2199000   \n",
       "23125   0100142102776621     None    CGK           CGK   950000   \n",
       "23126   0100142102904199     None    CGK           CGK   890000   \n",
       "...                  ...      ...    ...           ...      ...   \n",
       "218598   JNXB-0001207352     None    CGK           MES    27000   \n",
       "218599   JNXB-0001207373     None    CGK           MES    21000   \n",
       "218600   JNXB-0001207895     None    CGK           MES    92000   \n",
       "218601   JNXB-0001208491     None    CGK           MES   213000   \n",
       "218602   JNXB-0001208634     None    CGK           MES   268524   \n",
       "\n",
       "              Project POD Status                      Customer Name  \\\n",
       "962           COD CNC        D10  RINJANI ROYAL CISMETINDO PT / COD   \n",
       "1596    COD CORPORATE        D01                    LAZADA MPDS COD   \n",
       "22446   COD CORPORATE        D10                    LAZADA MPDS COD   \n",
       "23125   COD CORPORATE        D09              SENHONG INTERNATIONAL   \n",
       "23126   COD CORPORATE        D01              SENHONG INTERNATIONAL   \n",
       "...               ...        ...                                ...   \n",
       "218598  COD CORPORATE        D09                    LAZADA MPDS COD   \n",
       "218599  COD CORPORATE        D01                    LAZADA MPDS COD   \n",
       "218600  COD CORPORATE        D06                    LAZADA MPDS COD   \n",
       "218601  COD CORPORATE        D08                    LAZADA MPDS COD   \n",
       "218602  COD CORPORATE        D09                    LAZADA MPDS COD   \n",
       "\n",
       "                   Regional  OUTSTANDING  \n",
       "962            BODETABEKCIL     214240.0  \n",
       "1596           BODETABEKCIL      56650.0  \n",
       "22446          BODETABEKCIL    2199000.0  \n",
       "23125               JAKARTA     950000.0  \n",
       "23126               JAKARTA     890000.0  \n",
       "...                     ...          ...  \n",
       "218598  SUMATERA REG. UTARA      27000.0  \n",
       "218599  SUMATERA REG. UTARA      21000.0  \n",
       "218600  SUMATERA REG. UTARA      92000.0  \n",
       "218601  SUMATERA REG. UTARA     213000.0  \n",
       "218602  SUMATERA REG. UTARA     268524.0  \n",
       "\n",
       "[100605 rows x 10 columns]"
      ]
     },
     "execution_count": 137,
     "metadata": {},
     "output_type": "execute_result"
    }
   ],
   "source": [
    "df[df.isna().any(axis=1)]"
   ]
  },
  {
   "cell_type": "markdown",
   "id": "619c81ab-ed50-4b43-bea5-d9da9064eb28",
   "metadata": {},
   "source": [
    "**Catatan:** Data yang hilang tersebut berasal dari file `OTS1.xlsx`"
   ]
  },
  {
   "cell_type": "markdown",
   "id": "63d78069-1372-45ce-b68b-0bb778cb8c5c",
   "metadata": {},
   "source": [
    "## Perbaharui Data\n",
    "\n",
    "Berikut ini dilakukan proses penggantian data yang hilang menggunakan nilai dari kolom lain yang besesuaian barisnya."
   ]
  },
  {
   "cell_type": "code",
   "execution_count": 3,
   "id": "69d8a02c-2a5a-453d-b1c0-d4ea895519f8",
   "metadata": {},
   "outputs": [
    {
     "data": {
      "text/plain": [
       "Connote No       0\n",
       "Order Id         0\n",
       "Origin           0\n",
       "Dest Runsheet    0\n",
       "Amount           0\n",
       "Project          0\n",
       "POD Status       0\n",
       "Customer Name    0\n",
       "Regional         0\n",
       "OUTSTANDING      0\n",
       "dtype: int64"
      ]
     },
     "execution_count": 3,
     "metadata": {},
     "output_type": "execute_result"
    }
   ],
   "source": [
    "df['Order Id'] = df['Order Id'].fillna(value=df['Connote No'])\n",
    "df.isna().sum()                                                 "
   ]
  },
  {
   "cell_type": "markdown",
   "id": "fe09df3b-0814-469e-9a1e-e923eaddce47",
   "metadata": {},
   "source": [
    "### Quiz 2 \n",
    "\n",
    "Bagaimana jika anda ingin menggantikan semua nilai pada 'Order Id' adalah sama dengan 'Connote No'? Buatlah script anda menggunakan Python!"
   ]
  },
  {
   "cell_type": "markdown",
   "id": "76ee8f5e-b8d0-465c-88bc-ba843ebcd578",
   "metadata": {},
   "source": [
    "## Periksa Data Duplikat\n",
    "\n",
    "Selain identifikasi missing values, kita juga dapat mengidentifikasi adanya data yang duplikat di dataframe Pandas. Anda dapat menggunakan metode berikut untuk [menghitung duplikat](https://blog.finxter.com/4-best-ways-to-count-duplicates-in-a-dataframe/):"
   ]
  },
  {
   "cell_type": "code",
   "execution_count": 139,
   "id": "a3b34ede-c657-4ecf-8c99-6291f1a05eb9",
   "metadata": {},
   "outputs": [
    {
     "data": {
      "text/plain": [
       "Connote No\n",
       "00001597324367      2\n",
       "00001774777169      2\n",
       "00003088381542      2\n",
       "00003088839431      2\n",
       "00003088872622      2\n",
       "                   ..\n",
       "Y220929970421965    2\n",
       "Y220929971437980    2\n",
       "Y220929976998741    2\n",
       "Y220929983918700    2\n",
       "Y220929997027189    2\n",
       "Length: 765306, dtype: int64"
      ]
     },
     "execution_count": 139,
     "metadata": {},
     "output_type": "execute_result"
    }
   ],
   "source": [
    "df.pivot_table(columns=['Connote No'], aggfunc='size')"
   ]
  },
  {
   "cell_type": "markdown",
   "id": "e4b735fc-90d4-471d-8cb2-09c74930629b",
   "metadata": {},
   "source": [
    "Berikut ini contoh untuk memperlihatkan data duplikat dalam dataframe berdasarkan kolom `Connote No`:"
   ]
  },
  {
   "cell_type": "code",
   "execution_count": 140,
   "id": "46676d1b-9c5e-4883-b795-6dd848742aed",
   "metadata": {},
   "outputs": [
    {
     "data": {
      "text/html": [
       "<div>\n",
       "<style scoped>\n",
       "    .dataframe tbody tr th:only-of-type {\n",
       "        vertical-align: middle;\n",
       "    }\n",
       "\n",
       "    .dataframe tbody tr th {\n",
       "        vertical-align: top;\n",
       "    }\n",
       "\n",
       "    .dataframe thead th {\n",
       "        text-align: right;\n",
       "    }\n",
       "</style>\n",
       "<table border=\"1\" class=\"dataframe\">\n",
       "  <thead>\n",
       "    <tr style=\"text-align: right;\">\n",
       "      <th></th>\n",
       "      <th>Connote No</th>\n",
       "      <th>Order Id</th>\n",
       "      <th>Origin</th>\n",
       "      <th>Dest Runsheet</th>\n",
       "      <th>Amount</th>\n",
       "      <th>Project</th>\n",
       "      <th>POD Status</th>\n",
       "      <th>Customer Name</th>\n",
       "      <th>Regional</th>\n",
       "      <th>OUTSTANDING</th>\n",
       "    </tr>\n",
       "  </thead>\n",
       "  <tbody>\n",
       "    <tr>\n",
       "      <th>219528</th>\n",
       "      <td>3012652200220968</td>\n",
       "      <td>3012652200220968</td>\n",
       "      <td>DPK</td>\n",
       "      <td>KRW</td>\n",
       "      <td>209000</td>\n",
       "      <td>COD CNC</td>\n",
       "      <td>D01</td>\n",
       "      <td>RINJANI ROYAL CISMETINDO PT / COD</td>\n",
       "      <td>JAWA BARAT</td>\n",
       "      <td>209000.0</td>\n",
       "    </tr>\n",
       "    <tr>\n",
       "      <th>527533</th>\n",
       "      <td>1727142200054526</td>\n",
       "      <td>1727142200054526</td>\n",
       "      <td>CLG</td>\n",
       "      <td>AMI</td>\n",
       "      <td>181000</td>\n",
       "      <td>COD CNC</td>\n",
       "      <td>D01</td>\n",
       "      <td>MB STORE / COD</td>\n",
       "      <td>JATIM, BALI &amp; NUSRA</td>\n",
       "      <td>181000.0</td>\n",
       "    </tr>\n",
       "    <tr>\n",
       "      <th>528595</th>\n",
       "      <td>2010992200558197</td>\n",
       "      <td>2010992200558197</td>\n",
       "      <td>AMI</td>\n",
       "      <td>AMI</td>\n",
       "      <td>129000</td>\n",
       "      <td>COD CNC</td>\n",
       "      <td>D01</td>\n",
       "      <td>RINJANI ROYAL CISMETINDO PT / COD</td>\n",
       "      <td>JATIM, BALI &amp; NUSRA</td>\n",
       "      <td>129000.0</td>\n",
       "    </tr>\n",
       "    <tr>\n",
       "      <th>528627</th>\n",
       "      <td>2010992200603043</td>\n",
       "      <td>2010992200603043</td>\n",
       "      <td>AMI</td>\n",
       "      <td>AMI</td>\n",
       "      <td>214000</td>\n",
       "      <td>COD CNC</td>\n",
       "      <td>D01</td>\n",
       "      <td>RINJANI ROYAL CISMETINDO PT / COD</td>\n",
       "      <td>JATIM, BALI &amp; NUSRA</td>\n",
       "      <td>214000.0</td>\n",
       "    </tr>\n",
       "    <tr>\n",
       "      <th>528636</th>\n",
       "      <td>2010992200606533</td>\n",
       "      <td>2010992200606533</td>\n",
       "      <td>AMI</td>\n",
       "      <td>AMI</td>\n",
       "      <td>200000</td>\n",
       "      <td>COD CNC</td>\n",
       "      <td>D06</td>\n",
       "      <td>RINJANI ROYAL CISMETINDO PT / COD</td>\n",
       "      <td>JATIM, BALI &amp; NUSRA</td>\n",
       "      <td>200000.0</td>\n",
       "    </tr>\n",
       "    <tr>\n",
       "      <th>...</th>\n",
       "      <td>...</td>\n",
       "      <td>...</td>\n",
       "      <td>...</td>\n",
       "      <td>...</td>\n",
       "      <td>...</td>\n",
       "      <td>...</td>\n",
       "      <td>...</td>\n",
       "      <td>...</td>\n",
       "      <td>...</td>\n",
       "      <td>...</td>\n",
       "    </tr>\n",
       "    <tr>\n",
       "      <th>1312222</th>\n",
       "      <td>5445782200015795</td>\n",
       "      <td>5445782200015795</td>\n",
       "      <td>TGR</td>\n",
       "      <td>TKG</td>\n",
       "      <td>141110</td>\n",
       "      <td>COD RETAIL</td>\n",
       "      <td>D01</td>\n",
       "      <td>GOLO / COD</td>\n",
       "      <td>SUMATERA REG. SELATAN</td>\n",
       "      <td>141110.0</td>\n",
       "    </tr>\n",
       "    <tr>\n",
       "      <th>1312223</th>\n",
       "      <td>5441602200100864</td>\n",
       "      <td>5441602200100864</td>\n",
       "      <td>TGR</td>\n",
       "      <td>TKG</td>\n",
       "      <td>925970</td>\n",
       "      <td>COD RETAIL</td>\n",
       "      <td>D01</td>\n",
       "      <td>MGANIK / COD</td>\n",
       "      <td>SUMATERA REG. SELATAN</td>\n",
       "      <td>925970.0</td>\n",
       "    </tr>\n",
       "    <tr>\n",
       "      <th>1312224</th>\n",
       "      <td>5441602200101581</td>\n",
       "      <td>5441602200101581</td>\n",
       "      <td>TGR</td>\n",
       "      <td>TKG</td>\n",
       "      <td>323420</td>\n",
       "      <td>COD RETAIL</td>\n",
       "      <td>D01</td>\n",
       "      <td>MGANIK / COD</td>\n",
       "      <td>SUMATERA REG. SELATAN</td>\n",
       "      <td>323420.0</td>\n",
       "    </tr>\n",
       "    <tr>\n",
       "      <th>1312225</th>\n",
       "      <td>5441602200098233</td>\n",
       "      <td>5441602200098233</td>\n",
       "      <td>TGR</td>\n",
       "      <td>TKG</td>\n",
       "      <td>650960</td>\n",
       "      <td>COD RETAIL</td>\n",
       "      <td>D01</td>\n",
       "      <td>MGANIK / COD</td>\n",
       "      <td>SUMATERA REG. SELATAN</td>\n",
       "      <td>650960.0</td>\n",
       "    </tr>\n",
       "    <tr>\n",
       "      <th>1312226</th>\n",
       "      <td>5827522200009960</td>\n",
       "      <td>5827522200009960</td>\n",
       "      <td>TSM</td>\n",
       "      <td>TKG</td>\n",
       "      <td>39000</td>\n",
       "      <td>COD RETAIL</td>\n",
       "      <td>D01</td>\n",
       "      <td>NATALIA COLLECTION / COD</td>\n",
       "      <td>SUMATERA REG. SELATAN</td>\n",
       "      <td>39000.0</td>\n",
       "    </tr>\n",
       "  </tbody>\n",
       "</table>\n",
       "<p>546921 rows × 10 columns</p>\n",
       "</div>"
      ],
      "text/plain": [
       "               Connote No          Order Id Origin Dest Runsheet  Amount  \\\n",
       "219528   3012652200220968  3012652200220968    DPK           KRW  209000   \n",
       "527533   1727142200054526  1727142200054526    CLG           AMI  181000   \n",
       "528595   2010992200558197  2010992200558197    AMI           AMI  129000   \n",
       "528627   2010992200603043  2010992200603043    AMI           AMI  214000   \n",
       "528636   2010992200606533  2010992200606533    AMI           AMI  200000   \n",
       "...                   ...               ...    ...           ...     ...   \n",
       "1312222  5445782200015795  5445782200015795    TGR           TKG  141110   \n",
       "1312223  5441602200100864  5441602200100864    TGR           TKG  925970   \n",
       "1312224  5441602200101581  5441602200101581    TGR           TKG  323420   \n",
       "1312225  5441602200098233  5441602200098233    TGR           TKG  650960   \n",
       "1312226  5827522200009960  5827522200009960    TSM           TKG   39000   \n",
       "\n",
       "            Project POD Status                      Customer Name  \\\n",
       "219528      COD CNC        D01  RINJANI ROYAL CISMETINDO PT / COD   \n",
       "527533      COD CNC        D01                     MB STORE / COD   \n",
       "528595      COD CNC        D01  RINJANI ROYAL CISMETINDO PT / COD   \n",
       "528627      COD CNC        D01  RINJANI ROYAL CISMETINDO PT / COD   \n",
       "528636      COD CNC        D06  RINJANI ROYAL CISMETINDO PT / COD   \n",
       "...             ...        ...                                ...   \n",
       "1312222  COD RETAIL        D01                         GOLO / COD   \n",
       "1312223  COD RETAIL        D01                       MGANIK / COD   \n",
       "1312224  COD RETAIL        D01                       MGANIK / COD   \n",
       "1312225  COD RETAIL        D01                       MGANIK / COD   \n",
       "1312226  COD RETAIL        D01           NATALIA COLLECTION / COD   \n",
       "\n",
       "                      Regional  OUTSTANDING  \n",
       "219528              JAWA BARAT     209000.0  \n",
       "527533     JATIM, BALI & NUSRA     181000.0  \n",
       "528595     JATIM, BALI & NUSRA     129000.0  \n",
       "528627     JATIM, BALI & NUSRA     214000.0  \n",
       "528636     JATIM, BALI & NUSRA     200000.0  \n",
       "...                        ...          ...  \n",
       "1312222  SUMATERA REG. SELATAN     141110.0  \n",
       "1312223  SUMATERA REG. SELATAN     925970.0  \n",
       "1312224  SUMATERA REG. SELATAN     323420.0  \n",
       "1312225  SUMATERA REG. SELATAN     650960.0  \n",
       "1312226  SUMATERA REG. SELATAN      39000.0  \n",
       "\n",
       "[546921 rows x 10 columns]"
      ]
     },
     "execution_count": 140,
     "metadata": {},
     "output_type": "execute_result"
    }
   ],
   "source": [
    "df[df.duplicated(['Connote No'])]"
   ]
  },
  {
   "cell_type": "markdown",
   "id": "a4761d2d-abec-46ae-905b-0d00c878cd0b",
   "metadata": {},
   "source": [
    "**Catatan:** Dari hasil pemeriksaan data duplikat diatas, diduga kuat bahwa data duplikat tersebut adalah data pengulangan. Olehkarena itu, data duplikat ini dapat dihapuskan. Untuk [menghapus data duplikat](https://www.statology.org/pandas-drop-duplicates/) ini dapat dilakukan dengan cara berikut:"
   ]
  },
  {
   "cell_type": "code",
   "execution_count": 4,
   "id": "444ae12c-c8bb-4ac7-b33d-815173d48da9",
   "metadata": {},
   "outputs": [
    {
     "name": "stdout",
     "output_type": "stream",
     "text": [
      "<class 'pandas.core.frame.DataFrame'>\n",
      "Int64Index: 765306 entries, 0 to 1312226\n",
      "Data columns (total 10 columns):\n",
      " #   Column         Non-Null Count   Dtype  \n",
      "---  ------         --------------   -----  \n",
      " 0   Connote No     765306 non-null  object \n",
      " 1   Order Id       765306 non-null  object \n",
      " 2   Origin         765306 non-null  object \n",
      " 3   Dest Runsheet  765306 non-null  object \n",
      " 4   Amount         765306 non-null  int64  \n",
      " 5   Project        765306 non-null  object \n",
      " 6   POD Status     765306 non-null  object \n",
      " 7   Customer Name  765306 non-null  object \n",
      " 8   Regional       765306 non-null  object \n",
      " 9   OUTSTANDING    765306 non-null  float64\n",
      "dtypes: float64(1), int64(1), object(8)\n",
      "memory usage: 64.2+ MB\n"
     ]
    }
   ],
   "source": [
    "df = df.drop_duplicates(['Connote No'], keep='last') # hapus data duplikat \n",
    "df.info()"
   ]
  },
  {
   "cell_type": "markdown",
   "id": "67056735-7c7d-4d52-ba12-dd5f5527188a",
   "metadata": {},
   "source": [
    "## Periksa Data Anomali\n",
    "\n",
    "Pemeriksaan data anomali bertujuan untuk menemukan atau menganalisis suatu nilai yang dianggap menyimpangan atau memiliki keanehan yang terjadi atau dengan kata lain tidak seperti biasanya. Berikut ini dilakukan pemerikasaan data anomali dengan statistik deskriptif numerikal."
   ]
  },
  {
   "cell_type": "code",
   "execution_count": 5,
   "id": "79bb5144-7a73-420f-ab7e-e920ed9ceea5",
   "metadata": {},
   "outputs": [
    {
     "data": {
      "text/html": [
       "<div>\n",
       "<style scoped>\n",
       "    .dataframe tbody tr th:only-of-type {\n",
       "        vertical-align: middle;\n",
       "    }\n",
       "\n",
       "    .dataframe tbody tr th {\n",
       "        vertical-align: top;\n",
       "    }\n",
       "\n",
       "    .dataframe thead th {\n",
       "        text-align: right;\n",
       "    }\n",
       "</style>\n",
       "<table border=\"1\" class=\"dataframe\">\n",
       "  <thead>\n",
       "    <tr style=\"text-align: right;\">\n",
       "      <th></th>\n",
       "      <th>Amount</th>\n",
       "      <th>OUTSTANDING</th>\n",
       "    </tr>\n",
       "  </thead>\n",
       "  <tbody>\n",
       "    <tr>\n",
       "      <th>count</th>\n",
       "      <td>7.653060e+05</td>\n",
       "      <td>7.653060e+05</td>\n",
       "    </tr>\n",
       "    <tr>\n",
       "      <th>mean</th>\n",
       "      <td>1.298612e+05</td>\n",
       "      <td>1.297907e+05</td>\n",
       "    </tr>\n",
       "    <tr>\n",
       "      <th>std</th>\n",
       "      <td>1.994777e+05</td>\n",
       "      <td>1.994349e+05</td>\n",
       "    </tr>\n",
       "    <tr>\n",
       "      <th>min</th>\n",
       "      <td>0.000000e+00</td>\n",
       "      <td>-1.769078e+06</td>\n",
       "    </tr>\n",
       "    <tr>\n",
       "      <th>25%</th>\n",
       "      <td>3.499900e+04</td>\n",
       "      <td>3.499400e+04</td>\n",
       "    </tr>\n",
       "    <tr>\n",
       "      <th>50%</th>\n",
       "      <td>7.550000e+04</td>\n",
       "      <td>7.540000e+04</td>\n",
       "    </tr>\n",
       "    <tr>\n",
       "      <th>75%</th>\n",
       "      <td>1.690000e+05</td>\n",
       "      <td>1.690000e+05</td>\n",
       "    </tr>\n",
       "    <tr>\n",
       "      <th>max</th>\n",
       "      <td>1.349100e+07</td>\n",
       "      <td>1.349100e+07</td>\n",
       "    </tr>\n",
       "  </tbody>\n",
       "</table>\n",
       "</div>"
      ],
      "text/plain": [
       "             Amount   OUTSTANDING\n",
       "count  7.653060e+05  7.653060e+05\n",
       "mean   1.298612e+05  1.297907e+05\n",
       "std    1.994777e+05  1.994349e+05\n",
       "min    0.000000e+00 -1.769078e+06\n",
       "25%    3.499900e+04  3.499400e+04\n",
       "50%    7.550000e+04  7.540000e+04\n",
       "75%    1.690000e+05  1.690000e+05\n",
       "max    1.349100e+07  1.349100e+07"
      ]
     },
     "execution_count": 5,
     "metadata": {},
     "output_type": "execute_result"
    }
   ],
   "source": [
    "df.describe()"
   ]
  },
  {
   "cell_type": "markdown",
   "id": "c1eb3e54-033d-4da1-818d-03853ade5413",
   "metadata": {},
   "source": [
    "**Catatan:** Ditemukan bahwa terdapat nilai `OUTSTANDING` yang negatif. "
   ]
  },
  {
   "cell_type": "markdown",
   "id": "57525d95-9d61-4ef3-aff2-2b74d92bb92f",
   "metadata": {},
   "source": [
    "### Quiz 3\n",
    "\n",
    "Berikut ini diperlihatkan data `OUTSTANDING` yang bernilai negatif. Lengkapi script dibawah, jika anda ingin memperbaharui nilai pada kolom OUTSTANDING tersebut dengan menggunakan nilai dari kolom `Amount`."
   ]
  },
  {
   "cell_type": "code",
   "execution_count": 145,
   "id": "c61306ff-214f-431e-a8bb-f7da4af42c0e",
   "metadata": {},
   "outputs": [
    {
     "data": {
      "text/plain": [
       "128811     -10000.0\n",
       "142237     -43610.0\n",
       "142238    -190610.0\n",
       "142239   -1769078.0\n",
       "151009      -3332.0\n",
       "            ...    \n",
       "189461      -7486.0\n",
       "207695     -10000.0\n",
       "209666     -22461.0\n",
       "211599    -100000.0\n",
       "943704     -16000.0\n",
       "Name: OUTSTANDING, Length: 62, dtype: float64"
      ]
     },
     "execution_count": 145,
     "metadata": {},
     "output_type": "execute_result"
    }
   ],
   "source": [
    "df.loc[df['OUTSTANDING'] < 0, 'OUTSTANDING']"
   ]
  },
  {
   "cell_type": "markdown",
   "id": "c922ba6e-b439-4161-9dcf-7b126f308ac7",
   "metadata": {},
   "source": [
    "Berikut ini diperlihatkan data2 yang memuat nilai negatif tersebut menggunakan fungsi [`query` yang disediakan library `pandas`](https://sparkbyexamples.com/pandas/pandas-filter-by-column-value/)."
   ]
  },
  {
   "cell_type": "code",
   "execution_count": 146,
   "id": "bca5213f-e2fd-438c-9148-657eba7ae635",
   "metadata": {},
   "outputs": [
    {
     "name": "stdout",
     "output_type": "stream",
     "text": [
      "<class 'pandas.core.frame.DataFrame'>\n",
      "Int64Index: 62 entries, 128811 to 943704\n",
      "Data columns (total 10 columns):\n",
      " #   Column         Non-Null Count  Dtype  \n",
      "---  ------         --------------  -----  \n",
      " 0   Connote No     62 non-null     object \n",
      " 1   Order Id       62 non-null     object \n",
      " 2   Origin         62 non-null     object \n",
      " 3   Dest Runsheet  62 non-null     object \n",
      " 4   Amount         62 non-null     int64  \n",
      " 5   Project        62 non-null     object \n",
      " 6   POD Status     62 non-null     object \n",
      " 7   Customer Name  62 non-null     object \n",
      " 8   Regional       62 non-null     object \n",
      " 9   OUTSTANDING    62 non-null     float64\n",
      "dtypes: float64(1), int64(1), object(8)\n",
      "memory usage: 5.3+ KB\n"
     ]
    }
   ],
   "source": [
    "ots_negatif = df.query(\"OUTSTANDING < 0\")\n",
    "ots_negatif.info()"
   ]
  },
  {
   "cell_type": "markdown",
   "id": "826ff109-af37-4834-81f2-a95db3e4fd03",
   "metadata": {},
   "source": [
    "Untuk mengurutkan data `OUTSTANDING` negatif yang paling besar ke paling kecil dapat digunakan script berikut:"
   ]
  },
  {
   "cell_type": "code",
   "execution_count": 147,
   "id": "c4cbc329-d25d-488d-a6c3-a46e12fbcf2e",
   "metadata": {},
   "outputs": [
    {
     "data": {
      "text/html": [
       "<div>\n",
       "<style scoped>\n",
       "    .dataframe tbody tr th:only-of-type {\n",
       "        vertical-align: middle;\n",
       "    }\n",
       "\n",
       "    .dataframe tbody tr th {\n",
       "        vertical-align: top;\n",
       "    }\n",
       "\n",
       "    .dataframe thead th {\n",
       "        text-align: right;\n",
       "    }\n",
       "</style>\n",
       "<table border=\"1\" class=\"dataframe\">\n",
       "  <thead>\n",
       "    <tr style=\"text-align: right;\">\n",
       "      <th></th>\n",
       "      <th>Connote No</th>\n",
       "      <th>Order Id</th>\n",
       "      <th>Origin</th>\n",
       "      <th>Dest Runsheet</th>\n",
       "      <th>Amount</th>\n",
       "      <th>Project</th>\n",
       "      <th>POD Status</th>\n",
       "      <th>Customer Name</th>\n",
       "      <th>Regional</th>\n",
       "      <th>OUTSTANDING</th>\n",
       "    </tr>\n",
       "  </thead>\n",
       "  <tbody>\n",
       "    <tr>\n",
       "      <th>142239</th>\n",
       "      <td>CGKEC30636014422</td>\n",
       "      <td>CGKEC30636014422</td>\n",
       "      <td>CGK</td>\n",
       "      <td>PNK</td>\n",
       "      <td>100000</td>\n",
       "      <td>COD UPS</td>\n",
       "      <td>D01</td>\n",
       "      <td>CGK COD UPS CARDIG</td>\n",
       "      <td>KALIMANTAN</td>\n",
       "      <td>-1769078.0</td>\n",
       "    </tr>\n",
       "    <tr>\n",
       "      <th>166174</th>\n",
       "      <td>2111801900093819</td>\n",
       "      <td>2111801900093819</td>\n",
       "      <td>AMQ</td>\n",
       "      <td>AMQ</td>\n",
       "      <td>278000</td>\n",
       "      <td>COD CORPORATE</td>\n",
       "      <td>D01</td>\n",
       "      <td>SALESTOCK COD</td>\n",
       "      <td>SULAMPAPUA</td>\n",
       "      <td>-1016380.0</td>\n",
       "    </tr>\n",
       "    <tr>\n",
       "      <th>166024</th>\n",
       "      <td>2111801900063390</td>\n",
       "      <td>2111801900063390</td>\n",
       "      <td>AMQ</td>\n",
       "      <td>AMQ</td>\n",
       "      <td>462480</td>\n",
       "      <td>COD CORPORATE</td>\n",
       "      <td>D01</td>\n",
       "      <td>SALESTOCK COD</td>\n",
       "      <td>SULAMPAPUA</td>\n",
       "      <td>-985520.0</td>\n",
       "    </tr>\n",
       "    <tr>\n",
       "      <th>166061</th>\n",
       "      <td>2111801900071252</td>\n",
       "      <td>2111801900071252</td>\n",
       "      <td>AMQ</td>\n",
       "      <td>AMQ</td>\n",
       "      <td>238000</td>\n",
       "      <td>COD CORPORATE</td>\n",
       "      <td>D01</td>\n",
       "      <td>SALESTOCK COD</td>\n",
       "      <td>SULAMPAPUA</td>\n",
       "      <td>-752000.0</td>\n",
       "    </tr>\n",
       "    <tr>\n",
       "      <th>166205</th>\n",
       "      <td>2111801900099410</td>\n",
       "      <td>2111801900099410</td>\n",
       "      <td>AMQ</td>\n",
       "      <td>AMQ</td>\n",
       "      <td>338880</td>\n",
       "      <td>COD CORPORATE</td>\n",
       "      <td>D01</td>\n",
       "      <td>SALESTOCK COD</td>\n",
       "      <td>SULAMPAPUA</td>\n",
       "      <td>-446020.0</td>\n",
       "    </tr>\n",
       "    <tr>\n",
       "      <th>...</th>\n",
       "      <td>...</td>\n",
       "      <td>...</td>\n",
       "      <td>...</td>\n",
       "      <td>...</td>\n",
       "      <td>...</td>\n",
       "      <td>...</td>\n",
       "      <td>...</td>\n",
       "      <td>...</td>\n",
       "      <td>...</td>\n",
       "      <td>...</td>\n",
       "    </tr>\n",
       "    <tr>\n",
       "      <th>187612</th>\n",
       "      <td>JNRP-0013069369</td>\n",
       "      <td>JNRP-0013069369</td>\n",
       "      <td>CGK</td>\n",
       "      <td>DJJ</td>\n",
       "      <td>156000</td>\n",
       "      <td>COD CORPORATE</td>\n",
       "      <td>D01</td>\n",
       "      <td>LAZADA MPDS COD</td>\n",
       "      <td>SULAMPAPUA</td>\n",
       "      <td>-666.0</td>\n",
       "    </tr>\n",
       "    <tr>\n",
       "      <th>168585</th>\n",
       "      <td>2901961800115130</td>\n",
       "      <td>2901961800115130</td>\n",
       "      <td>DJJ</td>\n",
       "      <td>DJJ</td>\n",
       "      <td>658500</td>\n",
       "      <td>COD CORPORATE</td>\n",
       "      <td>D01</td>\n",
       "      <td>SALESTOCK COD</td>\n",
       "      <td>SULAMPAPUA</td>\n",
       "      <td>-500.0</td>\n",
       "    </tr>\n",
       "    <tr>\n",
       "      <th>166111</th>\n",
       "      <td>2111801900079131</td>\n",
       "      <td>2111801900079131</td>\n",
       "      <td>AMQ</td>\n",
       "      <td>AMQ</td>\n",
       "      <td>343040</td>\n",
       "      <td>COD CORPORATE</td>\n",
       "      <td>D01</td>\n",
       "      <td>SALESTOCK COD</td>\n",
       "      <td>SULAMPAPUA</td>\n",
       "      <td>-500.0</td>\n",
       "    </tr>\n",
       "    <tr>\n",
       "      <th>178266</th>\n",
       "      <td>JNCB-0300665670</td>\n",
       "      <td>JNCB-0300665670</td>\n",
       "      <td>DPS</td>\n",
       "      <td>DJJ</td>\n",
       "      <td>138116</td>\n",
       "      <td>COD CORPORATE</td>\n",
       "      <td>D01</td>\n",
       "      <td>LAZADA MPDS COD</td>\n",
       "      <td>SULAMPAPUA</td>\n",
       "      <td>-142.0</td>\n",
       "    </tr>\n",
       "    <tr>\n",
       "      <th>187277</th>\n",
       "      <td>JNRP-0011633455</td>\n",
       "      <td>JNRP-0011633455</td>\n",
       "      <td>CGK</td>\n",
       "      <td>AMQ</td>\n",
       "      <td>124980</td>\n",
       "      <td>COD CORPORATE</td>\n",
       "      <td>D01</td>\n",
       "      <td>LAZADA MPDS COD</td>\n",
       "      <td>SULAMPAPUA</td>\n",
       "      <td>-110.0</td>\n",
       "    </tr>\n",
       "  </tbody>\n",
       "</table>\n",
       "<p>62 rows × 10 columns</p>\n",
       "</div>"
      ],
      "text/plain": [
       "              Connote No          Order Id Origin Dest Runsheet  Amount  \\\n",
       "142239  CGKEC30636014422  CGKEC30636014422    CGK           PNK  100000   \n",
       "166174  2111801900093819  2111801900093819    AMQ           AMQ  278000   \n",
       "166024  2111801900063390  2111801900063390    AMQ           AMQ  462480   \n",
       "166061  2111801900071252  2111801900071252    AMQ           AMQ  238000   \n",
       "166205  2111801900099410  2111801900099410    AMQ           AMQ  338880   \n",
       "...                  ...               ...    ...           ...     ...   \n",
       "187612   JNRP-0013069369   JNRP-0013069369    CGK           DJJ  156000   \n",
       "168585  2901961800115130  2901961800115130    DJJ           DJJ  658500   \n",
       "166111  2111801900079131  2111801900079131    AMQ           AMQ  343040   \n",
       "178266   JNCB-0300665670   JNCB-0300665670    DPS           DJJ  138116   \n",
       "187277   JNRP-0011633455   JNRP-0011633455    CGK           AMQ  124980   \n",
       "\n",
       "              Project POD Status       Customer Name    Regional  OUTSTANDING  \n",
       "142239        COD UPS        D01  CGK COD UPS CARDIG  KALIMANTAN   -1769078.0  \n",
       "166174  COD CORPORATE        D01       SALESTOCK COD  SULAMPAPUA   -1016380.0  \n",
       "166024  COD CORPORATE        D01       SALESTOCK COD  SULAMPAPUA    -985520.0  \n",
       "166061  COD CORPORATE        D01       SALESTOCK COD  SULAMPAPUA    -752000.0  \n",
       "166205  COD CORPORATE        D01       SALESTOCK COD  SULAMPAPUA    -446020.0  \n",
       "...               ...        ...                 ...         ...          ...  \n",
       "187612  COD CORPORATE        D01     LAZADA MPDS COD  SULAMPAPUA       -666.0  \n",
       "168585  COD CORPORATE        D01       SALESTOCK COD  SULAMPAPUA       -500.0  \n",
       "166111  COD CORPORATE        D01       SALESTOCK COD  SULAMPAPUA       -500.0  \n",
       "178266  COD CORPORATE        D01     LAZADA MPDS COD  SULAMPAPUA       -142.0  \n",
       "187277  COD CORPORATE        D01     LAZADA MPDS COD  SULAMPAPUA       -110.0  \n",
       "\n",
       "[62 rows x 10 columns]"
      ]
     },
     "execution_count": 147,
     "metadata": {},
     "output_type": "execute_result"
    }
   ],
   "source": [
    "ots_negatif.sort_values('OUTSTANDING', ascending=True)"
   ]
  },
  {
   "cell_type": "markdown",
   "id": "b91b6249-ec7b-4384-85e1-65d255f4d23b",
   "metadata": {},
   "source": [
    "### Quiz 4\n",
    "\n",
    "Perhatikan script dibawah ini, kemudian lakukan pembaharuan data `OUTSTANDING` yang bernilai negatif tersebut menjadi satu dataframe baru. Gunakan gunakan `pd.DataFrame()`."
   ]
  },
  {
   "cell_type": "code",
   "execution_count": 148,
   "id": "89559575-8779-4b54-9550-32f9f05942c7",
   "metadata": {},
   "outputs": [],
   "source": [
    "ots_negatif = df.query(\"OUTSTANDING < 0\")"
   ]
  },
  {
   "cell_type": "markdown",
   "id": "25c84738-54ec-4501-bbdd-2b9593a009a4",
   "metadata": {},
   "source": [
    "Berikut ini dilakukan pemerikasaan data anomali dengan statistik deskriptif kategorikal."
   ]
  },
  {
   "cell_type": "code",
   "execution_count": 149,
   "id": "17b71168-c16e-4fa9-bb87-8b005104b750",
   "metadata": {},
   "outputs": [
    {
     "data": {
      "text/html": [
       "<div>\n",
       "<style scoped>\n",
       "    .dataframe tbody tr th:only-of-type {\n",
       "        vertical-align: middle;\n",
       "    }\n",
       "\n",
       "    .dataframe tbody tr th {\n",
       "        vertical-align: top;\n",
       "    }\n",
       "\n",
       "    .dataframe thead th {\n",
       "        text-align: right;\n",
       "    }\n",
       "</style>\n",
       "<table border=\"1\" class=\"dataframe\">\n",
       "  <thead>\n",
       "    <tr style=\"text-align: right;\">\n",
       "      <th></th>\n",
       "      <th>count</th>\n",
       "      <th>unique</th>\n",
       "      <th>top</th>\n",
       "      <th>freq</th>\n",
       "    </tr>\n",
       "  </thead>\n",
       "  <tbody>\n",
       "    <tr>\n",
       "      <th>Connote No</th>\n",
       "      <td>765306</td>\n",
       "      <td>765306</td>\n",
       "      <td>0100792200104454</td>\n",
       "      <td>1</td>\n",
       "    </tr>\n",
       "    <tr>\n",
       "      <th>Order Id</th>\n",
       "      <td>765306</td>\n",
       "      <td>765202</td>\n",
       "      <td>0226472200012531</td>\n",
       "      <td>62</td>\n",
       "    </tr>\n",
       "    <tr>\n",
       "      <th>Origin</th>\n",
       "      <td>765306</td>\n",
       "      <td>60</td>\n",
       "      <td>CGK</td>\n",
       "      <td>207272</td>\n",
       "    </tr>\n",
       "    <tr>\n",
       "      <th>Dest Runsheet</th>\n",
       "      <td>765306</td>\n",
       "      <td>62</td>\n",
       "      <td>SUB</td>\n",
       "      <td>92738</td>\n",
       "    </tr>\n",
       "    <tr>\n",
       "      <th>Project</th>\n",
       "      <td>765306</td>\n",
       "      <td>5</td>\n",
       "      <td>COD CORPORATE</td>\n",
       "      <td>679957</td>\n",
       "    </tr>\n",
       "    <tr>\n",
       "      <th>POD Status</th>\n",
       "      <td>765306</td>\n",
       "      <td>15</td>\n",
       "      <td>D01</td>\n",
       "      <td>687463</td>\n",
       "    </tr>\n",
       "    <tr>\n",
       "      <th>Customer Name</th>\n",
       "      <td>765306</td>\n",
       "      <td>2647</td>\n",
       "      <td>LAZADA MPDS COD</td>\n",
       "      <td>551355</td>\n",
       "    </tr>\n",
       "    <tr>\n",
       "      <th>Regional</th>\n",
       "      <td>765306</td>\n",
       "      <td>9</td>\n",
       "      <td>JATIM, BALI &amp; NUSRA</td>\n",
       "      <td>218953</td>\n",
       "    </tr>\n",
       "  </tbody>\n",
       "</table>\n",
       "</div>"
      ],
      "text/plain": [
       "                count  unique                  top    freq\n",
       "Connote No     765306  765306     0100792200104454       1\n",
       "Order Id       765306  765202     0226472200012531      62\n",
       "Origin         765306      60                  CGK  207272\n",
       "Dest Runsheet  765306      62                  SUB   92738\n",
       "Project        765306       5        COD CORPORATE  679957\n",
       "POD Status     765306      15                  D01  687463\n",
       "Customer Name  765306    2647      LAZADA MPDS COD  551355\n",
       "Regional       765306       9  JATIM, BALI & NUSRA  218953"
      ]
     },
     "execution_count": 149,
     "metadata": {},
     "output_type": "execute_result"
    }
   ],
   "source": [
    "kategori = df.select_dtypes(include='object') # pilih data kategori\n",
    "kategori.describe().transpose()               # deskriptif kategorical"
   ]
  },
  {
   "cell_type": "markdown",
   "id": "454435c8-6e33-451b-b3c9-6b0d35fb830f",
   "metadata": {},
   "source": [
    "### Quiz 5\n",
    "\n",
    "Berikan pendapat (temuan) anda mengenai statistik deskriptif kategorikal diatas!"
   ]
  },
  {
   "cell_type": "markdown",
   "id": "62768ed1-95d3-4206-ac37-9109f79a67fa",
   "metadata": {},
   "source": [
    "## Membuat Kolom Baru\n",
    "\n",
    "Dalam analisis data terkadang kita perlu membuat kolom baru untuk menampung informasi yang lebih detail yang dapat membantu kita melihat lebih jauh tentang data yang sedang kita observasi. Untuk itu, pada tulisan ini, saya akan membahas cara menambahkan kolom baru pada dataframe pandas. Berikut ini dilakukan penambahan kolom baru untuk melihat `Selisih` nilai antara kolom `Amount` dan `OUTSTANDING`."
   ]
  },
  {
   "cell_type": "code",
   "execution_count": 6,
   "id": "6a66cf1e-38c8-426b-a76b-449e56156f88",
   "metadata": {},
   "outputs": [],
   "source": [
    "df['Selisih'] = (df['OUTSTANDING']-df['Amount'])"
   ]
  },
  {
   "cell_type": "markdown",
   "id": "8b19e949-497d-421b-af2c-ca789be9364a",
   "metadata": {},
   "source": [
    "### Quiz 6\n",
    "\n",
    "Dataframe diatas sudah memiliki kolom `Selisih` nilai dari kolom `Amount` dan `OUTSTANDING`. Bagaimana jika anda diminta untuk memperlihatkan nilai selisih yang lebih besar dan lebih kecil dari nol? tunjukan script dan hasilnya!"
   ]
  },
  {
   "cell_type": "markdown",
   "id": "a62007d8-c2ce-4b58-a144-99f1f7aa2558",
   "metadata": {},
   "source": [
    "## Analisis Outstanding"
   ]
  },
  {
   "cell_type": "markdown",
   "id": "6af35b2f-e357-45b7-a2f8-e808801a934b",
   "metadata": {},
   "source": [
    "### Regional\n",
    "\n",
    "Berikut ini adalah Analisa nilai outstanding yang berdasarkan Regional:"
   ]
  },
  {
   "cell_type": "code",
   "execution_count": 88,
   "id": "65282da3-7b19-4bcb-8bbc-68430bf1a8a7",
   "metadata": {},
   "outputs": [
    {
     "data": {
      "text/html": [
       "<div>\n",
       "<style scoped>\n",
       "    .dataframe tbody tr th:only-of-type {\n",
       "        vertical-align: middle;\n",
       "    }\n",
       "\n",
       "    .dataframe tbody tr th {\n",
       "        vertical-align: top;\n",
       "    }\n",
       "\n",
       "    .dataframe thead th {\n",
       "        text-align: right;\n",
       "    }\n",
       "</style>\n",
       "<table border=\"1\" class=\"dataframe\">\n",
       "  <thead>\n",
       "    <tr style=\"text-align: right;\">\n",
       "      <th></th>\n",
       "      <th>Regional</th>\n",
       "      <th>OUTSTANDING</th>\n",
       "    </tr>\n",
       "  </thead>\n",
       "  <tbody>\n",
       "    <tr>\n",
       "      <th>2</th>\n",
       "      <td>JATIM, BALI &amp; NUSRA</td>\n",
       "      <td>24036.152920</td>\n",
       "    </tr>\n",
       "    <tr>\n",
       "      <th>6</th>\n",
       "      <td>SULAMPAPUA</td>\n",
       "      <td>19062.006514</td>\n",
       "    </tr>\n",
       "    <tr>\n",
       "      <th>5</th>\n",
       "      <td>KALIMANTAN</td>\n",
       "      <td>10212.505786</td>\n",
       "    </tr>\n",
       "    <tr>\n",
       "      <th>0</th>\n",
       "      <td>BODETABEKCIL</td>\n",
       "      <td>9379.149909</td>\n",
       "    </tr>\n",
       "    <tr>\n",
       "      <th>8</th>\n",
       "      <td>SUMATERA REG. UTARA</td>\n",
       "      <td>9177.094226</td>\n",
       "    </tr>\n",
       "    <tr>\n",
       "      <th>7</th>\n",
       "      <td>SUMATERA REG. SELATAN</td>\n",
       "      <td>9070.247045</td>\n",
       "    </tr>\n",
       "    <tr>\n",
       "      <th>3</th>\n",
       "      <td>JAWA BARAT</td>\n",
       "      <td>8690.865457</td>\n",
       "    </tr>\n",
       "    <tr>\n",
       "      <th>4</th>\n",
       "      <td>JAWA TENGAH &amp; DIY</td>\n",
       "      <td>7843.426443</td>\n",
       "    </tr>\n",
       "    <tr>\n",
       "      <th>1</th>\n",
       "      <td>JAKARTA</td>\n",
       "      <td>1858.182450</td>\n",
       "    </tr>\n",
       "  </tbody>\n",
       "</table>\n",
       "</div>"
      ],
      "text/plain": [
       "                Regional   OUTSTANDING\n",
       "2    JATIM, BALI & NUSRA  24036.152920\n",
       "6             SULAMPAPUA  19062.006514\n",
       "5             KALIMANTAN  10212.505786\n",
       "0           BODETABEKCIL   9379.149909\n",
       "8    SUMATERA REG. UTARA   9177.094226\n",
       "7  SUMATERA REG. SELATAN   9070.247045\n",
       "3             JAWA BARAT   8690.865457\n",
       "4      JAWA TENGAH & DIY   7843.426443\n",
       "1                JAKARTA   1858.182450"
      ]
     },
     "execution_count": 88,
     "metadata": {},
     "output_type": "execute_result"
    }
   ],
   "source": [
    "# Tabel Pivot\n",
    "ots=pd.pivot_table(df,index=['Regional'], \n",
    "                   values=['OUTSTANDING'], aggfunc='sum')\n",
    "\n",
    "# Komfersi indeks menjadi Kolom\n",
    "ots.reset_index(inplace=True)\n",
    "\n",
    "# Urutkan data dari yang besar ke kecil\n",
    "ots=ots.sort_values(['OUTSTANDING'],ascending=False).head(100)\n",
    "\n",
    "# Konversi Total omset menjadi per-juta \n",
    "ots[\"OUTSTANDING\"] = (ots['OUTSTANDING']/1000000)\n",
    "\n",
    "ots"
   ]
  },
  {
   "cell_type": "code",
   "execution_count": 93,
   "id": "45d4ea03-6302-4655-8511-aca8d39848b2",
   "metadata": {},
   "outputs": [
    {
     "data": {
      "application/vnd.plotly.v1+json": {
       "config": {
        "plotlyServerURL": "https://plot.ly"
       },
       "data": [
        {
         "alignmentgroup": "True",
         "hovertemplate": "Regional=%{x}<br>OUTSTANDING=%{y}<extra></extra>",
         "legendgroup": "JATIM, BALI & NUSRA",
         "marker": {
          "color": "#636efa",
          "pattern": {
           "shape": ""
          }
         },
         "name": "JATIM, BALI & NUSRA",
         "offsetgroup": "JATIM, BALI & NUSRA",
         "orientation": "v",
         "showlegend": true,
         "textangle": 0,
         "textfont": {
          "size": 12
         },
         "textposition": "outside",
         "texttemplate": "%{y:.2s}",
         "type": "bar",
         "x": [
          "JATIM, BALI & NUSRA"
         ],
         "xaxis": "x",
         "y": [
          24036.15292
         ],
         "yaxis": "y"
        },
        {
         "alignmentgroup": "True",
         "hovertemplate": "Regional=%{x}<br>OUTSTANDING=%{y}<extra></extra>",
         "legendgroup": "SULAMPAPUA",
         "marker": {
          "color": "#EF553B",
          "pattern": {
           "shape": ""
          }
         },
         "name": "SULAMPAPUA",
         "offsetgroup": "SULAMPAPUA",
         "orientation": "v",
         "showlegend": true,
         "textangle": 0,
         "textfont": {
          "size": 12
         },
         "textposition": "outside",
         "texttemplate": "%{y:.2s}",
         "type": "bar",
         "x": [
          "SULAMPAPUA"
         ],
         "xaxis": "x",
         "y": [
          19062.006514
         ],
         "yaxis": "y"
        },
        {
         "alignmentgroup": "True",
         "hovertemplate": "Regional=%{x}<br>OUTSTANDING=%{y}<extra></extra>",
         "legendgroup": "KALIMANTAN",
         "marker": {
          "color": "#00cc96",
          "pattern": {
           "shape": ""
          }
         },
         "name": "KALIMANTAN",
         "offsetgroup": "KALIMANTAN",
         "orientation": "v",
         "showlegend": true,
         "textangle": 0,
         "textfont": {
          "size": 12
         },
         "textposition": "outside",
         "texttemplate": "%{y:.2s}",
         "type": "bar",
         "x": [
          "KALIMANTAN"
         ],
         "xaxis": "x",
         "y": [
          10212.505786
         ],
         "yaxis": "y"
        },
        {
         "alignmentgroup": "True",
         "hovertemplate": "Regional=%{x}<br>OUTSTANDING=%{y}<extra></extra>",
         "legendgroup": "BODETABEKCIL",
         "marker": {
          "color": "#ab63fa",
          "pattern": {
           "shape": ""
          }
         },
         "name": "BODETABEKCIL",
         "offsetgroup": "BODETABEKCIL",
         "orientation": "v",
         "showlegend": true,
         "textangle": 0,
         "textfont": {
          "size": 12
         },
         "textposition": "outside",
         "texttemplate": "%{y:.2s}",
         "type": "bar",
         "x": [
          "BODETABEKCIL"
         ],
         "xaxis": "x",
         "y": [
          9379.149909
         ],
         "yaxis": "y"
        },
        {
         "alignmentgroup": "True",
         "hovertemplate": "Regional=%{x}<br>OUTSTANDING=%{y}<extra></extra>",
         "legendgroup": "SUMATERA REG. UTARA",
         "marker": {
          "color": "#FFA15A",
          "pattern": {
           "shape": ""
          }
         },
         "name": "SUMATERA REG. UTARA",
         "offsetgroup": "SUMATERA REG. UTARA",
         "orientation": "v",
         "showlegend": true,
         "textangle": 0,
         "textfont": {
          "size": 12
         },
         "textposition": "outside",
         "texttemplate": "%{y:.2s}",
         "type": "bar",
         "x": [
          "SUMATERA REG. UTARA"
         ],
         "xaxis": "x",
         "y": [
          9177.094226
         ],
         "yaxis": "y"
        },
        {
         "alignmentgroup": "True",
         "hovertemplate": "Regional=%{x}<br>OUTSTANDING=%{y}<extra></extra>",
         "legendgroup": "SUMATERA REG. SELATAN",
         "marker": {
          "color": "#19d3f3",
          "pattern": {
           "shape": ""
          }
         },
         "name": "SUMATERA REG. SELATAN",
         "offsetgroup": "SUMATERA REG. SELATAN",
         "orientation": "v",
         "showlegend": true,
         "textangle": 0,
         "textfont": {
          "size": 12
         },
         "textposition": "outside",
         "texttemplate": "%{y:.2s}",
         "type": "bar",
         "x": [
          "SUMATERA REG. SELATAN"
         ],
         "xaxis": "x",
         "y": [
          9070.247045
         ],
         "yaxis": "y"
        },
        {
         "alignmentgroup": "True",
         "hovertemplate": "Regional=%{x}<br>OUTSTANDING=%{y}<extra></extra>",
         "legendgroup": "JAWA BARAT",
         "marker": {
          "color": "#FF6692",
          "pattern": {
           "shape": ""
          }
         },
         "name": "JAWA BARAT",
         "offsetgroup": "JAWA BARAT",
         "orientation": "v",
         "showlegend": true,
         "textangle": 0,
         "textfont": {
          "size": 12
         },
         "textposition": "outside",
         "texttemplate": "%{y:.2s}",
         "type": "bar",
         "x": [
          "JAWA BARAT"
         ],
         "xaxis": "x",
         "y": [
          8690.865457
         ],
         "yaxis": "y"
        },
        {
         "alignmentgroup": "True",
         "hovertemplate": "Regional=%{x}<br>OUTSTANDING=%{y}<extra></extra>",
         "legendgroup": "JAWA TENGAH & DIY",
         "marker": {
          "color": "#B6E880",
          "pattern": {
           "shape": ""
          }
         },
         "name": "JAWA TENGAH & DIY",
         "offsetgroup": "JAWA TENGAH & DIY",
         "orientation": "v",
         "showlegend": true,
         "textangle": 0,
         "textfont": {
          "size": 12
         },
         "textposition": "outside",
         "texttemplate": "%{y:.2s}",
         "type": "bar",
         "x": [
          "JAWA TENGAH & DIY"
         ],
         "xaxis": "x",
         "y": [
          7843.426443
         ],
         "yaxis": "y"
        },
        {
         "alignmentgroup": "True",
         "hovertemplate": "Regional=%{x}<br>OUTSTANDING=%{y}<extra></extra>",
         "legendgroup": "JAKARTA",
         "marker": {
          "color": "#FF97FF",
          "pattern": {
           "shape": ""
          }
         },
         "name": "JAKARTA",
         "offsetgroup": "JAKARTA",
         "orientation": "v",
         "showlegend": true,
         "textangle": 0,
         "textfont": {
          "size": 12
         },
         "textposition": "outside",
         "texttemplate": "%{y:.2s}",
         "type": "bar",
         "x": [
          "JAKARTA"
         ],
         "xaxis": "x",
         "y": [
          1858.1824498545454
         ],
         "yaxis": "y"
        }
       ],
       "layout": {
        "barmode": "stack",
        "height": 600,
        "legend": {
         "title": {
          "text": "Regional"
         },
         "tracegroupgap": 0
        },
        "margin": {
         "t": 60
        },
        "showlegend": false,
        "template": {
         "data": {
          "bar": [
           {
            "error_x": {
             "color": "#2a3f5f"
            },
            "error_y": {
             "color": "#2a3f5f"
            },
            "marker": {
             "line": {
              "color": "#E5ECF6",
              "width": 0.5
             },
             "pattern": {
              "fillmode": "overlay",
              "size": 10,
              "solidity": 0.2
             }
            },
            "type": "bar"
           }
          ],
          "barpolar": [
           {
            "marker": {
             "line": {
              "color": "#E5ECF6",
              "width": 0.5
             },
             "pattern": {
              "fillmode": "overlay",
              "size": 10,
              "solidity": 0.2
             }
            },
            "type": "barpolar"
           }
          ],
          "carpet": [
           {
            "aaxis": {
             "endlinecolor": "#2a3f5f",
             "gridcolor": "white",
             "linecolor": "white",
             "minorgridcolor": "white",
             "startlinecolor": "#2a3f5f"
            },
            "baxis": {
             "endlinecolor": "#2a3f5f",
             "gridcolor": "white",
             "linecolor": "white",
             "minorgridcolor": "white",
             "startlinecolor": "#2a3f5f"
            },
            "type": "carpet"
           }
          ],
          "choropleth": [
           {
            "colorbar": {
             "outlinewidth": 0,
             "ticks": ""
            },
            "type": "choropleth"
           }
          ],
          "contour": [
           {
            "colorbar": {
             "outlinewidth": 0,
             "ticks": ""
            },
            "colorscale": [
             [
              0,
              "#0d0887"
             ],
             [
              0.1111111111111111,
              "#46039f"
             ],
             [
              0.2222222222222222,
              "#7201a8"
             ],
             [
              0.3333333333333333,
              "#9c179e"
             ],
             [
              0.4444444444444444,
              "#bd3786"
             ],
             [
              0.5555555555555556,
              "#d8576b"
             ],
             [
              0.6666666666666666,
              "#ed7953"
             ],
             [
              0.7777777777777778,
              "#fb9f3a"
             ],
             [
              0.8888888888888888,
              "#fdca26"
             ],
             [
              1,
              "#f0f921"
             ]
            ],
            "type": "contour"
           }
          ],
          "contourcarpet": [
           {
            "colorbar": {
             "outlinewidth": 0,
             "ticks": ""
            },
            "type": "contourcarpet"
           }
          ],
          "heatmap": [
           {
            "colorbar": {
             "outlinewidth": 0,
             "ticks": ""
            },
            "colorscale": [
             [
              0,
              "#0d0887"
             ],
             [
              0.1111111111111111,
              "#46039f"
             ],
             [
              0.2222222222222222,
              "#7201a8"
             ],
             [
              0.3333333333333333,
              "#9c179e"
             ],
             [
              0.4444444444444444,
              "#bd3786"
             ],
             [
              0.5555555555555556,
              "#d8576b"
             ],
             [
              0.6666666666666666,
              "#ed7953"
             ],
             [
              0.7777777777777778,
              "#fb9f3a"
             ],
             [
              0.8888888888888888,
              "#fdca26"
             ],
             [
              1,
              "#f0f921"
             ]
            ],
            "type": "heatmap"
           }
          ],
          "heatmapgl": [
           {
            "colorbar": {
             "outlinewidth": 0,
             "ticks": ""
            },
            "colorscale": [
             [
              0,
              "#0d0887"
             ],
             [
              0.1111111111111111,
              "#46039f"
             ],
             [
              0.2222222222222222,
              "#7201a8"
             ],
             [
              0.3333333333333333,
              "#9c179e"
             ],
             [
              0.4444444444444444,
              "#bd3786"
             ],
             [
              0.5555555555555556,
              "#d8576b"
             ],
             [
              0.6666666666666666,
              "#ed7953"
             ],
             [
              0.7777777777777778,
              "#fb9f3a"
             ],
             [
              0.8888888888888888,
              "#fdca26"
             ],
             [
              1,
              "#f0f921"
             ]
            ],
            "type": "heatmapgl"
           }
          ],
          "histogram": [
           {
            "marker": {
             "pattern": {
              "fillmode": "overlay",
              "size": 10,
              "solidity": 0.2
             }
            },
            "type": "histogram"
           }
          ],
          "histogram2d": [
           {
            "colorbar": {
             "outlinewidth": 0,
             "ticks": ""
            },
            "colorscale": [
             [
              0,
              "#0d0887"
             ],
             [
              0.1111111111111111,
              "#46039f"
             ],
             [
              0.2222222222222222,
              "#7201a8"
             ],
             [
              0.3333333333333333,
              "#9c179e"
             ],
             [
              0.4444444444444444,
              "#bd3786"
             ],
             [
              0.5555555555555556,
              "#d8576b"
             ],
             [
              0.6666666666666666,
              "#ed7953"
             ],
             [
              0.7777777777777778,
              "#fb9f3a"
             ],
             [
              0.8888888888888888,
              "#fdca26"
             ],
             [
              1,
              "#f0f921"
             ]
            ],
            "type": "histogram2d"
           }
          ],
          "histogram2dcontour": [
           {
            "colorbar": {
             "outlinewidth": 0,
             "ticks": ""
            },
            "colorscale": [
             [
              0,
              "#0d0887"
             ],
             [
              0.1111111111111111,
              "#46039f"
             ],
             [
              0.2222222222222222,
              "#7201a8"
             ],
             [
              0.3333333333333333,
              "#9c179e"
             ],
             [
              0.4444444444444444,
              "#bd3786"
             ],
             [
              0.5555555555555556,
              "#d8576b"
             ],
             [
              0.6666666666666666,
              "#ed7953"
             ],
             [
              0.7777777777777778,
              "#fb9f3a"
             ],
             [
              0.8888888888888888,
              "#fdca26"
             ],
             [
              1,
              "#f0f921"
             ]
            ],
            "type": "histogram2dcontour"
           }
          ],
          "mesh3d": [
           {
            "colorbar": {
             "outlinewidth": 0,
             "ticks": ""
            },
            "type": "mesh3d"
           }
          ],
          "parcoords": [
           {
            "line": {
             "colorbar": {
              "outlinewidth": 0,
              "ticks": ""
             }
            },
            "type": "parcoords"
           }
          ],
          "pie": [
           {
            "automargin": true,
            "type": "pie"
           }
          ],
          "scatter": [
           {
            "fillpattern": {
             "fillmode": "overlay",
             "size": 10,
             "solidity": 0.2
            },
            "type": "scatter"
           }
          ],
          "scatter3d": [
           {
            "line": {
             "colorbar": {
              "outlinewidth": 0,
              "ticks": ""
             }
            },
            "marker": {
             "colorbar": {
              "outlinewidth": 0,
              "ticks": ""
             }
            },
            "type": "scatter3d"
           }
          ],
          "scattercarpet": [
           {
            "marker": {
             "colorbar": {
              "outlinewidth": 0,
              "ticks": ""
             }
            },
            "type": "scattercarpet"
           }
          ],
          "scattergeo": [
           {
            "marker": {
             "colorbar": {
              "outlinewidth": 0,
              "ticks": ""
             }
            },
            "type": "scattergeo"
           }
          ],
          "scattergl": [
           {
            "marker": {
             "colorbar": {
              "outlinewidth": 0,
              "ticks": ""
             }
            },
            "type": "scattergl"
           }
          ],
          "scattermapbox": [
           {
            "marker": {
             "colorbar": {
              "outlinewidth": 0,
              "ticks": ""
             }
            },
            "type": "scattermapbox"
           }
          ],
          "scatterpolar": [
           {
            "marker": {
             "colorbar": {
              "outlinewidth": 0,
              "ticks": ""
             }
            },
            "type": "scatterpolar"
           }
          ],
          "scatterpolargl": [
           {
            "marker": {
             "colorbar": {
              "outlinewidth": 0,
              "ticks": ""
             }
            },
            "type": "scatterpolargl"
           }
          ],
          "scatterternary": [
           {
            "marker": {
             "colorbar": {
              "outlinewidth": 0,
              "ticks": ""
             }
            },
            "type": "scatterternary"
           }
          ],
          "surface": [
           {
            "colorbar": {
             "outlinewidth": 0,
             "ticks": ""
            },
            "colorscale": [
             [
              0,
              "#0d0887"
             ],
             [
              0.1111111111111111,
              "#46039f"
             ],
             [
              0.2222222222222222,
              "#7201a8"
             ],
             [
              0.3333333333333333,
              "#9c179e"
             ],
             [
              0.4444444444444444,
              "#bd3786"
             ],
             [
              0.5555555555555556,
              "#d8576b"
             ],
             [
              0.6666666666666666,
              "#ed7953"
             ],
             [
              0.7777777777777778,
              "#fb9f3a"
             ],
             [
              0.8888888888888888,
              "#fdca26"
             ],
             [
              1,
              "#f0f921"
             ]
            ],
            "type": "surface"
           }
          ],
          "table": [
           {
            "cells": {
             "fill": {
              "color": "#EBF0F8"
             },
             "line": {
              "color": "white"
             }
            },
            "header": {
             "fill": {
              "color": "#C8D4E3"
             },
             "line": {
              "color": "white"
             }
            },
            "type": "table"
           }
          ]
         },
         "layout": {
          "annotationdefaults": {
           "arrowcolor": "#2a3f5f",
           "arrowhead": 0,
           "arrowwidth": 1
          },
          "autotypenumbers": "strict",
          "coloraxis": {
           "colorbar": {
            "outlinewidth": 0,
            "ticks": ""
           }
          },
          "colorscale": {
           "diverging": [
            [
             0,
             "#8e0152"
            ],
            [
             0.1,
             "#c51b7d"
            ],
            [
             0.2,
             "#de77ae"
            ],
            [
             0.3,
             "#f1b6da"
            ],
            [
             0.4,
             "#fde0ef"
            ],
            [
             0.5,
             "#f7f7f7"
            ],
            [
             0.6,
             "#e6f5d0"
            ],
            [
             0.7,
             "#b8e186"
            ],
            [
             0.8,
             "#7fbc41"
            ],
            [
             0.9,
             "#4d9221"
            ],
            [
             1,
             "#276419"
            ]
           ],
           "sequential": [
            [
             0,
             "#0d0887"
            ],
            [
             0.1111111111111111,
             "#46039f"
            ],
            [
             0.2222222222222222,
             "#7201a8"
            ],
            [
             0.3333333333333333,
             "#9c179e"
            ],
            [
             0.4444444444444444,
             "#bd3786"
            ],
            [
             0.5555555555555556,
             "#d8576b"
            ],
            [
             0.6666666666666666,
             "#ed7953"
            ],
            [
             0.7777777777777778,
             "#fb9f3a"
            ],
            [
             0.8888888888888888,
             "#fdca26"
            ],
            [
             1,
             "#f0f921"
            ]
           ],
           "sequentialminus": [
            [
             0,
             "#0d0887"
            ],
            [
             0.1111111111111111,
             "#46039f"
            ],
            [
             0.2222222222222222,
             "#7201a8"
            ],
            [
             0.3333333333333333,
             "#9c179e"
            ],
            [
             0.4444444444444444,
             "#bd3786"
            ],
            [
             0.5555555555555556,
             "#d8576b"
            ],
            [
             0.6666666666666666,
             "#ed7953"
            ],
            [
             0.7777777777777778,
             "#fb9f3a"
            ],
            [
             0.8888888888888888,
             "#fdca26"
            ],
            [
             1,
             "#f0f921"
            ]
           ]
          },
          "colorway": [
           "#636efa",
           "#EF553B",
           "#00cc96",
           "#ab63fa",
           "#FFA15A",
           "#19d3f3",
           "#FF6692",
           "#B6E880",
           "#FF97FF",
           "#FECB52"
          ],
          "font": {
           "color": "#2a3f5f"
          },
          "geo": {
           "bgcolor": "white",
           "lakecolor": "white",
           "landcolor": "#E5ECF6",
           "showlakes": true,
           "showland": true,
           "subunitcolor": "white"
          },
          "hoverlabel": {
           "align": "left"
          },
          "hovermode": "closest",
          "mapbox": {
           "style": "light"
          },
          "paper_bgcolor": "white",
          "plot_bgcolor": "#E5ECF6",
          "polar": {
           "angularaxis": {
            "gridcolor": "white",
            "linecolor": "white",
            "ticks": ""
           },
           "bgcolor": "#E5ECF6",
           "radialaxis": {
            "gridcolor": "white",
            "linecolor": "white",
            "ticks": ""
           }
          },
          "scene": {
           "xaxis": {
            "backgroundcolor": "#E5ECF6",
            "gridcolor": "white",
            "gridwidth": 2,
            "linecolor": "white",
            "showbackground": true,
            "ticks": "",
            "zerolinecolor": "white"
           },
           "yaxis": {
            "backgroundcolor": "#E5ECF6",
            "gridcolor": "white",
            "gridwidth": 2,
            "linecolor": "white",
            "showbackground": true,
            "ticks": "",
            "zerolinecolor": "white"
           },
           "zaxis": {
            "backgroundcolor": "#E5ECF6",
            "gridcolor": "white",
            "gridwidth": 2,
            "linecolor": "white",
            "showbackground": true,
            "ticks": "",
            "zerolinecolor": "white"
           }
          },
          "shapedefaults": {
           "line": {
            "color": "#2a3f5f"
           }
          },
          "ternary": {
           "aaxis": {
            "gridcolor": "white",
            "linecolor": "white",
            "ticks": ""
           },
           "baxis": {
            "gridcolor": "white",
            "linecolor": "white",
            "ticks": ""
           },
           "bgcolor": "#E5ECF6",
           "caxis": {
            "gridcolor": "white",
            "linecolor": "white",
            "ticks": ""
           }
          },
          "title": {
           "x": 0.05
          },
          "xaxis": {
           "automargin": true,
           "gridcolor": "white",
           "linecolor": "white",
           "ticks": "",
           "title": {
            "standoff": 15
           },
           "zerolinecolor": "white",
           "zerolinewidth": 2
          },
          "yaxis": {
           "automargin": true,
           "gridcolor": "white",
           "linecolor": "white",
           "ticks": "",
           "title": {
            "standoff": 15
           },
           "zerolinecolor": "white",
           "zerolinewidth": 2
          }
         }
        },
        "title": {
         "text": "Total OTS Berdasarkan Regional"
        },
        "width": 800,
        "xaxis": {
         "anchor": "y",
         "autorange": true,
         "categoryarray": [
          "JATIM, BALI & NUSRA",
          "SULAMPAPUA",
          "KALIMANTAN",
          "BODETABEKCIL",
          "SUMATERA REG. UTARA",
          "SUMATERA REG. SELATAN",
          "JAWA BARAT",
          "JAWA TENGAH & DIY",
          "JAKARTA"
         ],
         "categoryorder": "array",
         "domain": [
          0,
          1
         ],
         "range": [
          -0.5,
          8.5
         ],
         "showticklabels": true,
         "tickangle": -45,
         "title": {
          "text": "Regional"
         },
         "type": "category"
        },
        "yaxis": {
         "anchor": "x",
         "autorange": true,
         "domain": [
          0,
          1
         ],
         "range": [
          0,
          25301.2136
         ],
         "title": {
          "text": "Per-miliar (Rp)"
         },
         "type": "linear"
        }
       }
      },
      "image/png": "[encoded data removed]",
      "text/html": [
       "<div>                            <div id=\"cb088714-17a3-499b-87eb-405e9c9cf1c7\" class=\"plotly-graph-div\" style=\"height:600px; width:800px;\"></div>            <script type=\"text/javascript\">                require([\"plotly\"], function(Plotly) {                    window.PLOTLYENV=window.PLOTLYENV || {};                                    if (document.getElementById(\"cb088714-17a3-499b-87eb-405e9c9cf1c7\")) {                    Plotly.newPlot(                        \"cb088714-17a3-499b-87eb-405e9c9cf1c7\",                        [{\"alignmentgroup\":\"True\",\"hovertemplate\":\"Regional=%{x}<br>OUTSTANDING=%{y}<extra></extra>\",\"legendgroup\":\"JATIM, BALI & NUSRA\",\"marker\":{\"color\":\"#636efa\",\"pattern\":{\"shape\":\"\"}},\"name\":\"JATIM, BALI & NUSRA\",\"offsetgroup\":\"JATIM, BALI & NUSRA\",\"orientation\":\"v\",\"showlegend\":true,\"textposition\":\"outside\",\"texttemplate\":\"%{y:.2s}\",\"x\":[\"JATIM, BALI & NUSRA\"],\"xaxis\":\"x\",\"y\":[24036.15292],\"yaxis\":\"y\",\"type\":\"bar\",\"textfont\":{\"size\":12},\"textangle\":0},{\"alignmentgroup\":\"True\",\"hovertemplate\":\"Regional=%{x}<br>OUTSTANDING=%{y}<extra></extra>\",\"legendgroup\":\"SULAMPAPUA\",\"marker\":{\"color\":\"#EF553B\",\"pattern\":{\"shape\":\"\"}},\"name\":\"SULAMPAPUA\",\"offsetgroup\":\"SULAMPAPUA\",\"orientation\":\"v\",\"showlegend\":true,\"textposition\":\"outside\",\"texttemplate\":\"%{y:.2s}\",\"x\":[\"SULAMPAPUA\"],\"xaxis\":\"x\",\"y\":[19062.006514],\"yaxis\":\"y\",\"type\":\"bar\",\"textfont\":{\"size\":12},\"textangle\":0},{\"alignmentgroup\":\"True\",\"hovertemplate\":\"Regional=%{x}<br>OUTSTANDING=%{y}<extra></extra>\",\"legendgroup\":\"KALIMANTAN\",\"marker\":{\"color\":\"#00cc96\",\"pattern\":{\"shape\":\"\"}},\"name\":\"KALIMANTAN\",\"offsetgroup\":\"KALIMANTAN\",\"orientation\":\"v\",\"showlegend\":true,\"textposition\":\"outside\",\"texttemplate\":\"%{y:.2s}\",\"x\":[\"KALIMANTAN\"],\"xaxis\":\"x\",\"y\":[10212.505786],\"yaxis\":\"y\",\"type\":\"bar\",\"textfont\":{\"size\":12},\"textangle\":0},{\"alignmentgroup\":\"True\",\"hovertemplate\":\"Regional=%{x}<br>OUTSTANDING=%{y}<extra></extra>\",\"legendgroup\":\"BODETABEKCIL\",\"marker\":{\"color\":\"#ab63fa\",\"pattern\":{\"shape\":\"\"}},\"name\":\"BODETABEKCIL\",\"offsetgroup\":\"BODETABEKCIL\",\"orientation\":\"v\",\"showlegend\":true,\"textposition\":\"outside\",\"texttemplate\":\"%{y:.2s}\",\"x\":[\"BODETABEKCIL\"],\"xaxis\":\"x\",\"y\":[9379.149909],\"yaxis\":\"y\",\"type\":\"bar\",\"textfont\":{\"size\":12},\"textangle\":0},{\"alignmentgroup\":\"True\",\"hovertemplate\":\"Regional=%{x}<br>OUTSTANDING=%{y}<extra></extra>\",\"legendgroup\":\"SUMATERA REG. UTARA\",\"marker\":{\"color\":\"#FFA15A\",\"pattern\":{\"shape\":\"\"}},\"name\":\"SUMATERA REG. UTARA\",\"offsetgroup\":\"SUMATERA REG. UTARA\",\"orientation\":\"v\",\"showlegend\":true,\"textposition\":\"outside\",\"texttemplate\":\"%{y:.2s}\",\"x\":[\"SUMATERA REG. UTARA\"],\"xaxis\":\"x\",\"y\":[9177.094226],\"yaxis\":\"y\",\"type\":\"bar\",\"textfont\":{\"size\":12},\"textangle\":0},{\"alignmentgroup\":\"True\",\"hovertemplate\":\"Regional=%{x}<br>OUTSTANDING=%{y}<extra></extra>\",\"legendgroup\":\"SUMATERA REG. SELATAN\",\"marker\":{\"color\":\"#19d3f3\",\"pattern\":{\"shape\":\"\"}},\"name\":\"SUMATERA REG. SELATAN\",\"offsetgroup\":\"SUMATERA REG. SELATAN\",\"orientation\":\"v\",\"showlegend\":true,\"textposition\":\"outside\",\"texttemplate\":\"%{y:.2s}\",\"x\":[\"SUMATERA REG. SELATAN\"],\"xaxis\":\"x\",\"y\":[9070.247045],\"yaxis\":\"y\",\"type\":\"bar\",\"textfont\":{\"size\":12},\"textangle\":0},{\"alignmentgroup\":\"True\",\"hovertemplate\":\"Regional=%{x}<br>OUTSTANDING=%{y}<extra></extra>\",\"legendgroup\":\"JAWA BARAT\",\"marker\":{\"color\":\"#FF6692\",\"pattern\":{\"shape\":\"\"}},\"name\":\"JAWA BARAT\",\"offsetgroup\":\"JAWA BARAT\",\"orientation\":\"v\",\"showlegend\":true,\"textposition\":\"outside\",\"texttemplate\":\"%{y:.2s}\",\"x\":[\"JAWA BARAT\"],\"xaxis\":\"x\",\"y\":[8690.865457],\"yaxis\":\"y\",\"type\":\"bar\",\"textfont\":{\"size\":12},\"textangle\":0},{\"alignmentgroup\":\"True\",\"hovertemplate\":\"Regional=%{x}<br>OUTSTANDING=%{y}<extra></extra>\",\"legendgroup\":\"JAWA TENGAH & DIY\",\"marker\":{\"color\":\"#B6E880\",\"pattern\":{\"shape\":\"\"}},\"name\":\"JAWA TENGAH & DIY\",\"offsetgroup\":\"JAWA TENGAH & DIY\",\"orientation\":\"v\",\"showlegend\":true,\"textposition\":\"outside\",\"texttemplate\":\"%{y:.2s}\",\"x\":[\"JAWA TENGAH & DIY\"],\"xaxis\":\"x\",\"y\":[7843.426443],\"yaxis\":\"y\",\"type\":\"bar\",\"textfont\":{\"size\":12},\"textangle\":0},{\"alignmentgroup\":\"True\",\"hovertemplate\":\"Regional=%{x}<br>OUTSTANDING=%{y}<extra></extra>\",\"legendgroup\":\"JAKARTA\",\"marker\":{\"color\":\"#FF97FF\",\"pattern\":{\"shape\":\"\"}},\"name\":\"JAKARTA\",\"offsetgroup\":\"JAKARTA\",\"orientation\":\"v\",\"showlegend\":true,\"textposition\":\"outside\",\"texttemplate\":\"%{y:.2s}\",\"x\":[\"JAKARTA\"],\"xaxis\":\"x\",\"y\":[1858.1824498545454],\"yaxis\":\"y\",\"type\":\"bar\",\"textfont\":{\"size\":12},\"textangle\":0}],                        {\"template\":{\"data\":{\"histogram2dcontour\":[{\"type\":\"histogram2dcontour\",\"colorbar\":{\"outlinewidth\":0,\"ticks\":\"\"},\"colorscale\":[[0.0,\"#0d0887\"],[0.1111111111111111,\"#46039f\"],[0.2222222222222222,\"#7201a8\"],[0.3333333333333333,\"#9c179e\"],[0.4444444444444444,\"#bd3786\"],[0.5555555555555556,\"#d8576b\"],[0.6666666666666666,\"#ed7953\"],[0.7777777777777778,\"#fb9f3a\"],[0.8888888888888888,\"#fdca26\"],[1.0,\"#f0f921\"]]}],\"choropleth\":[{\"type\":\"choropleth\",\"colorbar\":{\"outlinewidth\":0,\"ticks\":\"\"}}],\"histogram2d\":[{\"type\":\"histogram2d\",\"colorbar\":{\"outlinewidth\":0,\"ticks\":\"\"},\"colorscale\":[[0.0,\"#0d0887\"],[0.1111111111111111,\"#46039f\"],[0.2222222222222222,\"#7201a8\"],[0.3333333333333333,\"#9c179e\"],[0.4444444444444444,\"#bd3786\"],[0.5555555555555556,\"#d8576b\"],[0.6666666666666666,\"#ed7953\"],[0.7777777777777778,\"#fb9f3a\"],[0.8888888888888888,\"#fdca26\"],[1.0,\"#f0f921\"]]}],\"heatmap\":[{\"type\":\"heatmap\",\"colorbar\":{\"outlinewidth\":0,\"ticks\":\"\"},\"colorscale\":[[0.0,\"#0d0887\"],[0.1111111111111111,\"#46039f\"],[0.2222222222222222,\"#7201a8\"],[0.3333333333333333,\"#9c179e\"],[0.4444444444444444,\"#bd3786\"],[0.5555555555555556,\"#d8576b\"],[0.6666666666666666,\"#ed7953\"],[0.7777777777777778,\"#fb9f3a\"],[0.8888888888888888,\"#fdca26\"],[1.0,\"#f0f921\"]]}],\"heatmapgl\":[{\"type\":\"heatmapgl\",\"colorbar\":{\"outlinewidth\":0,\"ticks\":\"\"},\"colorscale\":[[0.0,\"#0d0887\"],[0.1111111111111111,\"#46039f\"],[0.2222222222222222,\"#7201a8\"],[0.3333333333333333,\"#9c179e\"],[0.4444444444444444,\"#bd3786\"],[0.5555555555555556,\"#d8576b\"],[0.6666666666666666,\"#ed7953\"],[0.7777777777777778,\"#fb9f3a\"],[0.8888888888888888,\"#fdca26\"],[1.0,\"#f0f921\"]]}],\"contourcarpet\":[{\"type\":\"contourcarpet\",\"colorbar\":{\"outlinewidth\":0,\"ticks\":\"\"}}],\"contour\":[{\"type\":\"contour\",\"colorbar\":{\"outlinewidth\":0,\"ticks\":\"\"},\"colorscale\":[[0.0,\"#0d0887\"],[0.1111111111111111,\"#46039f\"],[0.2222222222222222,\"#7201a8\"],[0.3333333333333333,\"#9c179e\"],[0.4444444444444444,\"#bd3786\"],[0.5555555555555556,\"#d8576b\"],[0.6666666666666666,\"#ed7953\"],[0.7777777777777778,\"#fb9f3a\"],[0.8888888888888888,\"#fdca26\"],[1.0,\"#f0f921\"]]}],\"surface\":[{\"type\":\"surface\",\"colorbar\":{\"outlinewidth\":0,\"ticks\":\"\"},\"colorscale\":[[0.0,\"#0d0887\"],[0.1111111111111111,\"#46039f\"],[0.2222222222222222,\"#7201a8\"],[0.3333333333333333,\"#9c179e\"],[0.4444444444444444,\"#bd3786\"],[0.5555555555555556,\"#d8576b\"],[0.6666666666666666,\"#ed7953\"],[0.7777777777777778,\"#fb9f3a\"],[0.8888888888888888,\"#fdca26\"],[1.0,\"#f0f921\"]]}],\"mesh3d\":[{\"type\":\"mesh3d\",\"colorbar\":{\"outlinewidth\":0,\"ticks\":\"\"}}],\"scatter\":[{\"fillpattern\":{\"fillmode\":\"overlay\",\"size\":10,\"solidity\":0.2},\"type\":\"scatter\"}],\"parcoords\":[{\"type\":\"parcoords\",\"line\":{\"colorbar\":{\"outlinewidth\":0,\"ticks\":\"\"}}}],\"scatterpolargl\":[{\"type\":\"scatterpolargl\",\"marker\":{\"colorbar\":{\"outlinewidth\":0,\"ticks\":\"\"}}}],\"bar\":[{\"error_x\":{\"color\":\"#2a3f5f\"},\"error_y\":{\"color\":\"#2a3f5f\"},\"marker\":{\"line\":{\"color\":\"#E5ECF6\",\"width\":0.5},\"pattern\":{\"fillmode\":\"overlay\",\"size\":10,\"solidity\":0.2}},\"type\":\"bar\"}],\"scattergeo\":[{\"type\":\"scattergeo\",\"marker\":{\"colorbar\":{\"outlinewidth\":0,\"ticks\":\"\"}}}],\"scatterpolar\":[{\"type\":\"scatterpolar\",\"marker\":{\"colorbar\":{\"outlinewidth\":0,\"ticks\":\"\"}}}],\"histogram\":[{\"marker\":{\"pattern\":{\"fillmode\":\"overlay\",\"size\":10,\"solidity\":0.2}},\"type\":\"histogram\"}],\"scattergl\":[{\"type\":\"scattergl\",\"marker\":{\"colorbar\":{\"outlinewidth\":0,\"ticks\":\"\"}}}],\"scatter3d\":[{\"type\":\"scatter3d\",\"line\":{\"colorbar\":{\"outlinewidth\":0,\"ticks\":\"\"}},\"marker\":{\"colorbar\":{\"outlinewidth\":0,\"ticks\":\"\"}}}],\"scattermapbox\":[{\"type\":\"scattermapbox\",\"marker\":{\"colorbar\":{\"outlinewidth\":0,\"ticks\":\"\"}}}],\"scatterternary\":[{\"type\":\"scatterternary\",\"marker\":{\"colorbar\":{\"outlinewidth\":0,\"ticks\":\"\"}}}],\"scattercarpet\":[{\"type\":\"scattercarpet\",\"marker\":{\"colorbar\":{\"outlinewidth\":0,\"ticks\":\"\"}}}],\"carpet\":[{\"aaxis\":{\"endlinecolor\":\"#2a3f5f\",\"gridcolor\":\"white\",\"linecolor\":\"white\",\"minorgridcolor\":\"white\",\"startlinecolor\":\"#2a3f5f\"},\"baxis\":{\"endlinecolor\":\"#2a3f5f\",\"gridcolor\":\"white\",\"linecolor\":\"white\",\"minorgridcolor\":\"white\",\"startlinecolor\":\"#2a3f5f\"},\"type\":\"carpet\"}],\"table\":[{\"cells\":{\"fill\":{\"color\":\"#EBF0F8\"},\"line\":{\"color\":\"white\"}},\"header\":{\"fill\":{\"color\":\"#C8D4E3\"},\"line\":{\"color\":\"white\"}},\"type\":\"table\"}],\"barpolar\":[{\"marker\":{\"line\":{\"color\":\"#E5ECF6\",\"width\":0.5},\"pattern\":{\"fillmode\":\"overlay\",\"size\":10,\"solidity\":0.2}},\"type\":\"barpolar\"}],\"pie\":[{\"automargin\":true,\"type\":\"pie\"}]},\"layout\":{\"autotypenumbers\":\"strict\",\"colorway\":[\"#636efa\",\"#EF553B\",\"#00cc96\",\"#ab63fa\",\"#FFA15A\",\"#19d3f3\",\"#FF6692\",\"#B6E880\",\"#FF97FF\",\"#FECB52\"],\"font\":{\"color\":\"#2a3f5f\"},\"hovermode\":\"closest\",\"hoverlabel\":{\"align\":\"left\"},\"paper_bgcolor\":\"white\",\"plot_bgcolor\":\"#E5ECF6\",\"polar\":{\"bgcolor\":\"#E5ECF6\",\"angularaxis\":{\"gridcolor\":\"white\",\"linecolor\":\"white\",\"ticks\":\"\"},\"radialaxis\":{\"gridcolor\":\"white\",\"linecolor\":\"white\",\"ticks\":\"\"}},\"ternary\":{\"bgcolor\":\"#E5ECF6\",\"aaxis\":{\"gridcolor\":\"white\",\"linecolor\":\"white\",\"ticks\":\"\"},\"baxis\":{\"gridcolor\":\"white\",\"linecolor\":\"white\",\"ticks\":\"\"},\"caxis\":{\"gridcolor\":\"white\",\"linecolor\":\"white\",\"ticks\":\"\"}},\"coloraxis\":{\"colorbar\":{\"outlinewidth\":0,\"ticks\":\"\"}},\"colorscale\":{\"sequential\":[[0.0,\"#0d0887\"],[0.1111111111111111,\"#46039f\"],[0.2222222222222222,\"#7201a8\"],[0.3333333333333333,\"#9c179e\"],[0.4444444444444444,\"#bd3786\"],[0.5555555555555556,\"#d8576b\"],[0.6666666666666666,\"#ed7953\"],[0.7777777777777778,\"#fb9f3a\"],[0.8888888888888888,\"#fdca26\"],[1.0,\"#f0f921\"]],\"sequentialminus\":[[0.0,\"#0d0887\"],[0.1111111111111111,\"#46039f\"],[0.2222222222222222,\"#7201a8\"],[0.3333333333333333,\"#9c179e\"],[0.4444444444444444,\"#bd3786\"],[0.5555555555555556,\"#d8576b\"],[0.6666666666666666,\"#ed7953\"],[0.7777777777777778,\"#fb9f3a\"],[0.8888888888888888,\"#fdca26\"],[1.0,\"#f0f921\"]],\"diverging\":[[0,\"#8e0152\"],[0.1,\"#c51b7d\"],[0.2,\"#de77ae\"],[0.3,\"#f1b6da\"],[0.4,\"#fde0ef\"],[0.5,\"#f7f7f7\"],[0.6,\"#e6f5d0\"],[0.7,\"#b8e186\"],[0.8,\"#7fbc41\"],[0.9,\"#4d9221\"],[1,\"#276419\"]]},\"xaxis\":{\"gridcolor\":\"white\",\"linecolor\":\"white\",\"ticks\":\"\",\"title\":{\"standoff\":15},\"zerolinecolor\":\"white\",\"automargin\":true,\"zerolinewidth\":2},\"yaxis\":{\"gridcolor\":\"white\",\"linecolor\":\"white\",\"ticks\":\"\",\"title\":{\"standoff\":15},\"zerolinecolor\":\"white\",\"automargin\":true,\"zerolinewidth\":2},\"scene\":{\"xaxis\":{\"backgroundcolor\":\"#E5ECF6\",\"gridcolor\":\"white\",\"linecolor\":\"white\",\"showbackground\":true,\"ticks\":\"\",\"zerolinecolor\":\"white\",\"gridwidth\":2},\"yaxis\":{\"backgroundcolor\":\"#E5ECF6\",\"gridcolor\":\"white\",\"linecolor\":\"white\",\"showbackground\":true,\"ticks\":\"\",\"zerolinecolor\":\"white\",\"gridwidth\":2},\"zaxis\":{\"backgroundcolor\":\"#E5ECF6\",\"gridcolor\":\"white\",\"linecolor\":\"white\",\"showbackground\":true,\"ticks\":\"\",\"zerolinecolor\":\"white\",\"gridwidth\":2}},\"shapedefaults\":{\"line\":{\"color\":\"#2a3f5f\"}},\"annotationdefaults\":{\"arrowcolor\":\"#2a3f5f\",\"arrowhead\":0,\"arrowwidth\":1},\"geo\":{\"bgcolor\":\"white\",\"landcolor\":\"#E5ECF6\",\"subunitcolor\":\"white\",\"showland\":true,\"showlakes\":true,\"lakecolor\":\"white\"},\"title\":{\"x\":0.05},\"mapbox\":{\"style\":\"light\"}}},\"xaxis\":{\"anchor\":\"y\",\"domain\":[0.0,1.0],\"title\":{\"text\":\"Regional\"},\"categoryorder\":\"array\",\"categoryarray\":[\"JATIM, BALI & NUSRA\",\"SULAMPAPUA\",\"KALIMANTAN\",\"BODETABEKCIL\",\"SUMATERA REG. UTARA\",\"SUMATERA REG. SELATAN\",\"JAWA BARAT\",\"JAWA TENGAH & DIY\",\"JAKARTA\"],\"tickangle\":-45,\"showticklabels\":true},\"yaxis\":{\"anchor\":\"x\",\"domain\":[0.0,1.0],\"title\":{\"text\":\"Per-miliar (Rp)\"}},\"legend\":{\"title\":{\"text\":\"Regional\"},\"tracegroupgap\":0},\"margin\":{\"t\":60},\"barmode\":\"stack\",\"width\":800,\"height\":600,\"showlegend\":false,\"title\":{\"text\":\"Total OTS Berdasarkan Regional\"}},                        {\"responsive\": true}                    ).then(function(){\n",
       "                            \n",
       "var gd = document.getElementById('cb088714-17a3-499b-87eb-405e9c9cf1c7');\n",
       "var x = new MutationObserver(function (mutations, observer) {{\n",
       "        var display = window.getComputedStyle(gd).display;\n",
       "        if (!display || display === 'none') {{\n",
       "            console.log([gd, 'removed!']);\n",
       "            Plotly.purge(gd);\n",
       "            observer.disconnect();\n",
       "        }}\n",
       "}});\n",
       "\n",
       "// Listen for the removal of the full notebook cells\n",
       "var notebookContainer = gd.closest('#notebook-container');\n",
       "if (notebookContainer) {{\n",
       "    x.observe(notebookContainer, {childList: true});\n",
       "}}\n",
       "\n",
       "// Listen for the clearing of the current output cell\n",
       "var outputEl = gd.closest('.output');\n",
       "if (outputEl) {{\n",
       "    x.observe(outputEl, {childList: true});\n",
       "}}\n",
       "\n",
       "                        })                };                });            </script>        </div>"
      ]
     },
     "metadata": {},
     "output_type": "display_data"
    }
   ],
   "source": [
    "# impor library yg dibutuhkan untuk visualisasi\n",
    "import plotly.express as px\n",
    "\n",
    "# membuat grafik batang (bar-chart)\n",
    "fig = px.bar(ots, y='OUTSTANDING', x='Regional',color='Regional', text_auto='.2s')\n",
    "\n",
    "# Pengaturan detail grafik\n",
    "fig.update_layout(barmode='stack',\n",
    "                  width=800,\n",
    "                  height=600,\n",
    "                  showlegend=False,\n",
    "                  title=\"Total OTS Berdasarkan Regional\",\n",
    "                  xaxis_title=\"Regional\",\n",
    "                  yaxis_title=\"Per-miliar (Rp)\")\n",
    "\n",
    "# Pengaturan rotasi axis x (+-360 derajat)\n",
    "fig.update_xaxes(tickangle=-45, showticklabels=True)\n",
    "\n",
    "# Pengaturan posisi, ukuran, dan rotasi teks\n",
    "fig.update_traces(textfont_size=12, textangle=0, textposition=\"outside\")\n",
    "\n",
    "fig.show()"
   ]
  },
  {
   "cell_type": "markdown",
   "id": "77acbfe5-7529-46fb-9774-46328bb9712d",
   "metadata": {},
   "source": [
    "### Pelanggan & Tujuan\n",
    "\n",
    "Berikut ini dperlihatkan pencapaian **(outstanding)** yang diurutkan berdasarkan nama `customer ~ Dest Runsheet`."
   ]
  },
  {
   "cell_type": "code",
   "execution_count": 86,
   "id": "cfbc2ca2-9e22-455b-813f-3530deae23ef",
   "metadata": {},
   "outputs": [
    {
     "data": {
      "text/html": [
       "<div>\n",
       "<style scoped>\n",
       "    .dataframe tbody tr th:only-of-type {\n",
       "        vertical-align: middle;\n",
       "    }\n",
       "\n",
       "    .dataframe tbody tr th {\n",
       "        vertical-align: top;\n",
       "    }\n",
       "\n",
       "    .dataframe thead th {\n",
       "        text-align: right;\n",
       "    }\n",
       "</style>\n",
       "<table border=\"1\" class=\"dataframe\">\n",
       "  <thead>\n",
       "    <tr style=\"text-align: right;\">\n",
       "      <th></th>\n",
       "      <th>Customer Name</th>\n",
       "      <th>Dest Runsheet</th>\n",
       "      <th>OUTSTANDING</th>\n",
       "    </tr>\n",
       "  </thead>\n",
       "  <tbody>\n",
       "    <tr>\n",
       "      <th>8978</th>\n",
       "      <td>LAZADA MPDS COD</td>\n",
       "      <td>SUB</td>\n",
       "      <td>6638.606005</td>\n",
       "    </tr>\n",
       "    <tr>\n",
       "      <th>8980</th>\n",
       "      <td>LAZADA MPDS COD</td>\n",
       "      <td>TGR</td>\n",
       "      <td>3699.967101</td>\n",
       "    </tr>\n",
       "    <tr>\n",
       "      <th>8930</th>\n",
       "      <td>LAZADA MPDS COD</td>\n",
       "      <td>BDO</td>\n",
       "      <td>3036.068315</td>\n",
       "    </tr>\n",
       "    <tr>\n",
       "      <th>8953</th>\n",
       "      <td>LAZADA MPDS COD</td>\n",
       "      <td>KOE</td>\n",
       "      <td>2943.961754</td>\n",
       "    </tr>\n",
       "    <tr>\n",
       "      <th>8959</th>\n",
       "      <td>LAZADA MPDS COD</td>\n",
       "      <td>MJK</td>\n",
       "      <td>2450.080273</td>\n",
       "    </tr>\n",
       "    <tr>\n",
       "      <th>...</th>\n",
       "      <td>...</td>\n",
       "      <td>...</td>\n",
       "      <td>...</td>\n",
       "    </tr>\n",
       "    <tr>\n",
       "      <th>11150</th>\n",
       "      <td>ORDIVO TEKNOLOGY</td>\n",
       "      <td>BTJ</td>\n",
       "      <td>150.349723</td>\n",
       "    </tr>\n",
       "    <tr>\n",
       "      <th>9770</th>\n",
       "      <td>MENGANTAR KARYA BANGSA PT / COD</td>\n",
       "      <td>CGK</td>\n",
       "      <td>143.056835</td>\n",
       "    </tr>\n",
       "    <tr>\n",
       "      <th>9807</th>\n",
       "      <td>MENGANTAR KARYA BANGSA PT / COD</td>\n",
       "      <td>SOQ</td>\n",
       "      <td>142.298665</td>\n",
       "    </tr>\n",
       "    <tr>\n",
       "      <th>13998</th>\n",
       "      <td>SICEPAT EKSPRES INDONESIA / COD</td>\n",
       "      <td>MDC</td>\n",
       "      <td>141.480843</td>\n",
       "    </tr>\n",
       "    <tr>\n",
       "      <th>9759</th>\n",
       "      <td>MENGANTAR KARYA BANGSA PT / COD</td>\n",
       "      <td>AMQ</td>\n",
       "      <td>140.652186</td>\n",
       "    </tr>\n",
       "  </tbody>\n",
       "</table>\n",
       "<p>100 rows × 3 columns</p>\n",
       "</div>"
      ],
      "text/plain": [
       "                         Customer Name Dest Runsheet  OUTSTANDING\n",
       "8978                   LAZADA MPDS COD           SUB  6638.606005\n",
       "8980                   LAZADA MPDS COD           TGR  3699.967101\n",
       "8930                   LAZADA MPDS COD           BDO  3036.068315\n",
       "8953                   LAZADA MPDS COD           KOE  2943.961754\n",
       "8959                   LAZADA MPDS COD           MJK  2450.080273\n",
       "...                                ...           ...          ...\n",
       "11150                 ORDIVO TEKNOLOGY           BTJ   150.349723\n",
       "9770   MENGANTAR KARYA BANGSA PT / COD           CGK   143.056835\n",
       "9807   MENGANTAR KARYA BANGSA PT / COD           SOQ   142.298665\n",
       "13998  SICEPAT EKSPRES INDONESIA / COD           MDC   141.480843\n",
       "9759   MENGANTAR KARYA BANGSA PT / COD           AMQ   140.652186\n",
       "\n",
       "[100 rows x 3 columns]"
      ]
     },
     "execution_count": 86,
     "metadata": {},
     "output_type": "execute_result"
    }
   ],
   "source": [
    "# Tabel Pivot\n",
    "ots=pd.pivot_table(df,index=['Customer Name','Dest Runsheet'], \n",
    "                   values=['OUTSTANDING'], aggfunc='sum')\n",
    "\n",
    "# Komfersi indeks menjadi Kolom\n",
    "ots.reset_index(inplace=True)\n",
    "\n",
    "# Urutkan data dari yang besar ke kecil\n",
    "ots=ots.sort_values(['OUTSTANDING'],ascending=False).head(100)\n",
    "\n",
    "# Konversi Total omset menjadi per-juta \n",
    "ots[\"OUTSTANDING\"] = (ots['OUTSTANDING']/1000000)\n",
    "\n",
    "ots"
   ]
  },
  {
   "cell_type": "markdown",
   "id": "c6f7ff32-d3a8-4225-a31a-f24dd91a9789",
   "metadata": {},
   "source": [
    "Untuk menganalisis secara visual, dapat diperlihatkan dengan menggunakan `Bar-Chart` sebagai berikut:"
   ]
  },
  {
   "cell_type": "code",
   "execution_count": 87,
   "id": "f93b2731-6680-4944-9470-989788c9f0f7",
   "metadata": {},
   "outputs": [
    {
     "data": {
      "application/vnd.plotly.v1+json": {
       "config": {
        "plotlyServerURL": "https://plot.ly"
       },
       "data": [
        {
         "alignmentgroup": "True",
         "hovertemplate": "Customer Name=LAZADA MPDS COD<br>OUTSTANDING=%{x}<br>Dest Runsheet=%{y}<extra></extra>",
         "legendgroup": "LAZADA MPDS COD",
         "marker": {
          "color": "#636efa",
          "pattern": {
           "shape": ""
          }
         },
         "name": "LAZADA MPDS COD",
         "offsetgroup": "LAZADA MPDS COD",
         "orientation": "h",
         "showlegend": true,
         "textangle": 0,
         "textfont": {
          "size": 12
         },
         "textposition": "outside",
         "texttemplate": "%{x:.2s}",
         "type": "bar",
         "x": [
          6638.606005,
          3699.967101,
          3036.068315,
          2943.961754,
          2450.080273,
          2410.26772,
          2125.855633,
          1625.984454,
          1549.143345,
          1528.611112,
          1316.8457938545453,
          1297.133789,
          1262.549812,
          1244.926671,
          1147.300166,
          1127.865028,
          1104.420339,
          1068.319703,
          1066.21041,
          994.978713,
          994.032594,
          894.746203,
          796.276349,
          770.978479,
          763.060947,
          725.610835,
          635.082253,
          554.932528,
          553.716636,
          530.007704,
          496.411036,
          432.841984,
          381.423962,
          362.060507,
          361.30458,
          353.947396,
          332.858477,
          326.303316,
          308.042959,
          300.510754,
          294.004191,
          284.816589,
          262.148579,
          215.226363,
          209.632376,
          198.694413,
          193.451897,
          192.741356,
          191.791485,
          167.260075
         ],
         "xaxis": "x",
         "y": [
          "SUB",
          "TGR",
          "BDO",
          "KOE",
          "MJK",
          "SRG",
          "BKS",
          "TGL",
          "CBN",
          "CLG",
          "CGK",
          "KRW",
          "BDJ",
          "MES",
          "AMQ",
          "PLM",
          "MGL",
          "TSM",
          "TKG",
          "PGK",
          "MDN",
          "PKY",
          "UPG",
          "PBL",
          "CKR",
          "DJJ",
          "JBR",
          "MXG",
          "SMI",
          "PLW",
          "BOO",
          "JOG",
          "PKU",
          "SOQ",
          "KDI",
          "AMI",
          "CXP",
          "DPS",
          "MDC",
          "PWT",
          "PSR",
          "BPN",
          "GTO",
          "BKI",
          "BTH",
          "MKQ",
          "BTJ",
          "PNK",
          "TTE",
          "PDG"
         ],
         "yaxis": "y"
        },
        {
         "alignmentgroup": "True",
         "hovertemplate": "Customer Name=MENGANTAR KARYA BANGSA PT / COD<br>OUTSTANDING=%{x}<br>Dest Runsheet=%{y}<extra></extra>",
         "legendgroup": "MENGANTAR KARYA BANGSA PT / COD",
         "marker": {
          "color": "#EF553B",
          "pattern": {
           "shape": ""
          }
         },
         "name": "MENGANTAR KARYA BANGSA PT / COD",
         "offsetgroup": "MENGANTAR KARYA BANGSA PT / COD",
         "orientation": "h",
         "showlegend": true,
         "textangle": 0,
         "textfont": {
          "size": 12
         },
         "textposition": "outside",
         "texttemplate": "%{x:.2s}",
         "type": "bar",
         "x": [
          1076.996299,
          940.419119,
          916.453293,
          633.332304,
          548.255104,
          535.726235,
          489.917233,
          443.047398,
          416.697046,
          408.204621,
          376.828513,
          364.767186,
          352.671027,
          330.306647,
          273.88432,
          256.080045,
          230.765878,
          227.32872,
          219.681996,
          216.253452,
          202.282595,
          191.261225,
          171.788059,
          166.052666,
          155.985489,
          143.056835,
          142.298665,
          140.652186
         ],
         "xaxis": "x",
         "y": [
          "UPG",
          "TTE",
          "MES",
          "BDJ",
          "PNK",
          "TGR",
          "TKG",
          "SUB",
          "PKU",
          "PLW",
          "KOE",
          "AMI",
          "DPS",
          "BTJ",
          "PKY",
          "MDC",
          "PLM",
          "PDG",
          "SRG",
          "DJJ",
          "MXG",
          "KDI",
          "BPN",
          "MJK",
          "DTB",
          "CGK",
          "SOQ",
          "AMQ"
         ],
         "yaxis": "y"
        },
        {
         "alignmentgroup": "True",
         "hovertemplate": "Customer Name=SALESTOCK COD<br>OUTSTANDING=%{x}<br>Dest Runsheet=%{y}<extra></extra>",
         "legendgroup": "SALESTOCK COD",
         "marker": {
          "color": "#00cc96",
          "pattern": {
           "shape": ""
          }
         },
         "name": "SALESTOCK COD",
         "offsetgroup": "SALESTOCK COD",
         "orientation": "h",
         "showlegend": true,
         "textangle": 0,
         "textfont": {
          "size": 12
         },
         "textposition": "outside",
         "texttemplate": "%{x:.2s}",
         "type": "bar",
         "x": [
          500.254873,
          261.271402
         ],
         "xaxis": "x",
         "y": [
          "AMQ",
          "SOQ"
         ],
         "yaxis": "y"
        },
        {
         "alignmentgroup": "True",
         "hovertemplate": "Customer Name=ORDIVO TEKNOLOGY<br>OUTSTANDING=%{x}<br>Dest Runsheet=%{y}<extra></extra>",
         "legendgroup": "ORDIVO TEKNOLOGY",
         "marker": {
          "color": "#ab63fa",
          "pattern": {
           "shape": ""
          }
         },
         "name": "ORDIVO TEKNOLOGY",
         "offsetgroup": "ORDIVO TEKNOLOGY",
         "orientation": "h",
         "showlegend": true,
         "textangle": 0,
         "textfont": {
          "size": 12
         },
         "textposition": "outside",
         "texttemplate": "%{x:.2s}",
         "type": "bar",
         "x": [
          403.806902,
          398.897028,
          326.911892,
          294.769066,
          267.681742,
          229.616475,
          214.843431,
          198.410656,
          178.654028,
          168.011935,
          163.971947,
          161.585343,
          159.543228,
          150.349723
         ],
         "xaxis": "x",
         "y": [
          "UPG",
          "MES",
          "TTE",
          "BDJ",
          "TGR",
          "PNK",
          "KOE",
          "PKU",
          "DPS",
          "AMI",
          "PLW",
          "TKG",
          "SUB",
          "BTJ"
         ],
         "yaxis": "y"
        },
        {
         "alignmentgroup": "True",
         "hovertemplate": "Customer Name=SICEPAT EKSPRES INDONESIA / COD<br>OUTSTANDING=%{x}<br>Dest Runsheet=%{y}<extra></extra>",
         "legendgroup": "SICEPAT EKSPRES INDONESIA / COD",
         "marker": {
          "color": "#FFA15A",
          "pattern": {
           "shape": ""
          }
         },
         "name": "SICEPAT EKSPRES INDONESIA / COD",
         "offsetgroup": "SICEPAT EKSPRES INDONESIA / COD",
         "orientation": "h",
         "showlegend": true,
         "textangle": 0,
         "textfont": {
          "size": 12
         },
         "textposition": "outside",
         "texttemplate": "%{x:.2s}",
         "type": "bar",
         "x": [
          291.215648,
          241.184902,
          141.480843
         ],
         "xaxis": "x",
         "y": [
          "PLW",
          "KOE",
          "MDC"
         ],
         "yaxis": "y"
        },
        {
         "alignmentgroup": "True",
         "hovertemplate": "Customer Name=MENGANTAR COM / COD<br>OUTSTANDING=%{x}<br>Dest Runsheet=%{y}<extra></extra>",
         "legendgroup": "MENGANTAR COM / COD",
         "marker": {
          "color": "#19d3f3",
          "pattern": {
           "shape": ""
          }
         },
         "name": "MENGANTAR COM / COD",
         "offsetgroup": "MENGANTAR COM / COD",
         "orientation": "h",
         "showlegend": true,
         "textangle": 0,
         "textfont": {
          "size": 12
         },
         "textposition": "outside",
         "texttemplate": "%{x:.2s}",
         "type": "bar",
         "x": [
          273.455627,
          155.651874
         ],
         "xaxis": "x",
         "y": [
          "BDJ",
          "TTE"
         ],
         "yaxis": "y"
        },
        {
         "alignmentgroup": "True",
         "hovertemplate": "Customer Name=ZALORA COD WH<br>OUTSTANDING=%{x}<br>Dest Runsheet=%{y}<extra></extra>",
         "legendgroup": "ZALORA COD WH",
         "marker": {
          "color": "#FF6692",
          "pattern": {
           "shape": ""
          }
         },
         "name": "ZALORA COD WH",
         "offsetgroup": "ZALORA COD WH",
         "orientation": "h",
         "showlegend": true,
         "textangle": 0,
         "textfont": {
          "size": 12
         },
         "textposition": "outside",
         "texttemplate": "%{x:.2s}",
         "type": "bar",
         "x": [
          193.379352
         ],
         "xaxis": "x",
         "y": [
          "BDJ"
         ],
         "yaxis": "y"
        }
       ],
       "layout": {
        "barmode": "stack",
        "height": 600,
        "legend": {
         "title": {
          "text": "Customer Name"
         },
         "tracegroupgap": 0
        },
        "margin": {
         "t": 60
        },
        "showlegend": true,
        "template": {
         "data": {
          "bar": [
           {
            "error_x": {
             "color": "#2a3f5f"
            },
            "error_y": {
             "color": "#2a3f5f"
            },
            "marker": {
             "line": {
              "color": "#E5ECF6",
              "width": 0.5
             },
             "pattern": {
              "fillmode": "overlay",
              "size": 10,
              "solidity": 0.2
             }
            },
            "type": "bar"
           }
          ],
          "barpolar": [
           {
            "marker": {
             "line": {
              "color": "#E5ECF6",
              "width": 0.5
             },
             "pattern": {
              "fillmode": "overlay",
              "size": 10,
              "solidity": 0.2
             }
            },
            "type": "barpolar"
           }
          ],
          "carpet": [
           {
            "aaxis": {
             "endlinecolor": "#2a3f5f",
             "gridcolor": "white",
             "linecolor": "white",
             "minorgridcolor": "white",
             "startlinecolor": "#2a3f5f"
            },
            "baxis": {
             "endlinecolor": "#2a3f5f",
             "gridcolor": "white",
             "linecolor": "white",
             "minorgridcolor": "white",
             "startlinecolor": "#2a3f5f"
            },
            "type": "carpet"
           }
          ],
          "choropleth": [
           {
            "colorbar": {
             "outlinewidth": 0,
             "ticks": ""
            },
            "type": "choropleth"
           }
          ],
          "contour": [
           {
            "colorbar": {
             "outlinewidth": 0,
             "ticks": ""
            },
            "colorscale": [
             [
              0,
              "#0d0887"
             ],
             [
              0.1111111111111111,
              "#46039f"
             ],
             [
              0.2222222222222222,
              "#7201a8"
             ],
             [
              0.3333333333333333,
              "#9c179e"
             ],
             [
              0.4444444444444444,
              "#bd3786"
             ],
             [
              0.5555555555555556,
              "#d8576b"
             ],
             [
              0.6666666666666666,
              "#ed7953"
             ],
             [
              0.7777777777777778,
              "#fb9f3a"
             ],
             [
              0.8888888888888888,
              "#fdca26"
             ],
             [
              1,
              "#f0f921"
             ]
            ],
            "type": "contour"
           }
          ],
          "contourcarpet": [
           {
            "colorbar": {
             "outlinewidth": 0,
             "ticks": ""
            },
            "type": "contourcarpet"
           }
          ],
          "heatmap": [
           {
            "colorbar": {
             "outlinewidth": 0,
             "ticks": ""
            },
            "colorscale": [
             [
              0,
              "#0d0887"
             ],
             [
              0.1111111111111111,
              "#46039f"
             ],
             [
              0.2222222222222222,
              "#7201a8"
             ],
             [
              0.3333333333333333,
              "#9c179e"
             ],
             [
              0.4444444444444444,
              "#bd3786"
             ],
             [
              0.5555555555555556,
              "#d8576b"
             ],
             [
              0.6666666666666666,
              "#ed7953"
             ],
             [
              0.7777777777777778,
              "#fb9f3a"
             ],
             [
              0.8888888888888888,
              "#fdca26"
             ],
             [
              1,
              "#f0f921"
             ]
            ],
            "type": "heatmap"
           }
          ],
          "heatmapgl": [
           {
            "colorbar": {
             "outlinewidth": 0,
             "ticks": ""
            },
            "colorscale": [
             [
              0,
              "#0d0887"
             ],
             [
              0.1111111111111111,
              "#46039f"
             ],
             [
              0.2222222222222222,
              "#7201a8"
             ],
             [
              0.3333333333333333,
              "#9c179e"
             ],
             [
              0.4444444444444444,
              "#bd3786"
             ],
             [
              0.5555555555555556,
              "#d8576b"
             ],
             [
              0.6666666666666666,
              "#ed7953"
             ],
             [
              0.7777777777777778,
              "#fb9f3a"
             ],
             [
              0.8888888888888888,
              "#fdca26"
             ],
             [
              1,
              "#f0f921"
             ]
            ],
            "type": "heatmapgl"
           }
          ],
          "histogram": [
           {
            "marker": {
             "pattern": {
              "fillmode": "overlay",
              "size": 10,
              "solidity": 0.2
             }
            },
            "type": "histogram"
           }
          ],
          "histogram2d": [
           {
            "colorbar": {
             "outlinewidth": 0,
             "ticks": ""
            },
            "colorscale": [
             [
              0,
              "#0d0887"
             ],
             [
              0.1111111111111111,
              "#46039f"
             ],
             [
              0.2222222222222222,
              "#7201a8"
             ],
             [
              0.3333333333333333,
              "#9c179e"
             ],
             [
              0.4444444444444444,
              "#bd3786"
             ],
             [
              0.5555555555555556,
              "#d8576b"
             ],
             [
              0.6666666666666666,
              "#ed7953"
             ],
             [
              0.7777777777777778,
              "#fb9f3a"
             ],
             [
              0.8888888888888888,
              "#fdca26"
             ],
             [
              1,
              "#f0f921"
             ]
            ],
            "type": "histogram2d"
           }
          ],
          "histogram2dcontour": [
           {
            "colorbar": {
             "outlinewidth": 0,
             "ticks": ""
            },
            "colorscale": [
             [
              0,
              "#0d0887"
             ],
             [
              0.1111111111111111,
              "#46039f"
             ],
             [
              0.2222222222222222,
              "#7201a8"
             ],
             [
              0.3333333333333333,
              "#9c179e"
             ],
             [
              0.4444444444444444,
              "#bd3786"
             ],
             [
              0.5555555555555556,
              "#d8576b"
             ],
             [
              0.6666666666666666,
              "#ed7953"
             ],
             [
              0.7777777777777778,
              "#fb9f3a"
             ],
             [
              0.8888888888888888,
              "#fdca26"
             ],
             [
              1,
              "#f0f921"
             ]
            ],
            "type": "histogram2dcontour"
           }
          ],
          "mesh3d": [
           {
            "colorbar": {
             "outlinewidth": 0,
             "ticks": ""
            },
            "type": "mesh3d"
           }
          ],
          "parcoords": [
           {
            "line": {
             "colorbar": {
              "outlinewidth": 0,
              "ticks": ""
             }
            },
            "type": "parcoords"
           }
          ],
          "pie": [
           {
            "automargin": true,
            "type": "pie"
           }
          ],
          "scatter": [
           {
            "fillpattern": {
             "fillmode": "overlay",
             "size": 10,
             "solidity": 0.2
            },
            "type": "scatter"
           }
          ],
          "scatter3d": [
           {
            "line": {
             "colorbar": {
              "outlinewidth": 0,
              "ticks": ""
             }
            },
            "marker": {
             "colorbar": {
              "outlinewidth": 0,
              "ticks": ""
             }
            },
            "type": "scatter3d"
           }
          ],
          "scattercarpet": [
           {
            "marker": {
             "colorbar": {
              "outlinewidth": 0,
              "ticks": ""
             }
            },
            "type": "scattercarpet"
           }
          ],
          "scattergeo": [
           {
            "marker": {
             "colorbar": {
              "outlinewidth": 0,
              "ticks": ""
             }
            },
            "type": "scattergeo"
           }
          ],
          "scattergl": [
           {
            "marker": {
             "colorbar": {
              "outlinewidth": 0,
              "ticks": ""
             }
            },
            "type": "scattergl"
           }
          ],
          "scattermapbox": [
           {
            "marker": {
             "colorbar": {
              "outlinewidth": 0,
              "ticks": ""
             }
            },
            "type": "scattermapbox"
           }
          ],
          "scatterpolar": [
           {
            "marker": {
             "colorbar": {
              "outlinewidth": 0,
              "ticks": ""
             }
            },
            "type": "scatterpolar"
           }
          ],
          "scatterpolargl": [
           {
            "marker": {
             "colorbar": {
              "outlinewidth": 0,
              "ticks": ""
             }
            },
            "type": "scatterpolargl"
           }
          ],
          "scatterternary": [
           {
            "marker": {
             "colorbar": {
              "outlinewidth": 0,
              "ticks": ""
             }
            },
            "type": "scatterternary"
           }
          ],
          "surface": [
           {
            "colorbar": {
             "outlinewidth": 0,
             "ticks": ""
            },
            "colorscale": [
             [
              0,
              "#0d0887"
             ],
             [
              0.1111111111111111,
              "#46039f"
             ],
             [
              0.2222222222222222,
              "#7201a8"
             ],
             [
              0.3333333333333333,
              "#9c179e"
             ],
             [
              0.4444444444444444,
              "#bd3786"
             ],
             [
              0.5555555555555556,
              "#d8576b"
             ],
             [
              0.6666666666666666,
              "#ed7953"
             ],
             [
              0.7777777777777778,
              "#fb9f3a"
             ],
             [
              0.8888888888888888,
              "#fdca26"
             ],
             [
              1,
              "#f0f921"
             ]
            ],
            "type": "surface"
           }
          ],
          "table": [
           {
            "cells": {
             "fill": {
              "color": "#EBF0F8"
             },
             "line": {
              "color": "white"
             }
            },
            "header": {
             "fill": {
              "color": "#C8D4E3"
             },
             "line": {
              "color": "white"
             }
            },
            "type": "table"
           }
          ]
         },
         "layout": {
          "annotationdefaults": {
           "arrowcolor": "#2a3f5f",
           "arrowhead": 0,
           "arrowwidth": 1
          },
          "autotypenumbers": "strict",
          "coloraxis": {
           "colorbar": {
            "outlinewidth": 0,
            "ticks": ""
           }
          },
          "colorscale": {
           "diverging": [
            [
             0,
             "#8e0152"
            ],
            [
             0.1,
             "#c51b7d"
            ],
            [
             0.2,
             "#de77ae"
            ],
            [
             0.3,
             "#f1b6da"
            ],
            [
             0.4,
             "#fde0ef"
            ],
            [
             0.5,
             "#f7f7f7"
            ],
            [
             0.6,
             "#e6f5d0"
            ],
            [
             0.7,
             "#b8e186"
            ],
            [
             0.8,
             "#7fbc41"
            ],
            [
             0.9,
             "#4d9221"
            ],
            [
             1,
             "#276419"
            ]
           ],
           "sequential": [
            [
             0,
             "#0d0887"
            ],
            [
             0.1111111111111111,
             "#46039f"
            ],
            [
             0.2222222222222222,
             "#7201a8"
            ],
            [
             0.3333333333333333,
             "#9c179e"
            ],
            [
             0.4444444444444444,
             "#bd3786"
            ],
            [
             0.5555555555555556,
             "#d8576b"
            ],
            [
             0.6666666666666666,
             "#ed7953"
            ],
            [
             0.7777777777777778,
             "#fb9f3a"
            ],
            [
             0.8888888888888888,
             "#fdca26"
            ],
            [
             1,
             "#f0f921"
            ]
           ],
           "sequentialminus": [
            [
             0,
             "#0d0887"
            ],
            [
             0.1111111111111111,
             "#46039f"
            ],
            [
             0.2222222222222222,
             "#7201a8"
            ],
            [
             0.3333333333333333,
             "#9c179e"
            ],
            [
             0.4444444444444444,
             "#bd3786"
            ],
            [
             0.5555555555555556,
             "#d8576b"
            ],
            [
             0.6666666666666666,
             "#ed7953"
            ],
            [
             0.7777777777777778,
             "#fb9f3a"
            ],
            [
             0.8888888888888888,
             "#fdca26"
            ],
            [
             1,
             "#f0f921"
            ]
           ]
          },
          "colorway": [
           "#636efa",
           "#EF553B",
           "#00cc96",
           "#ab63fa",
           "#FFA15A",
           "#19d3f3",
           "#FF6692",
           "#B6E880",
           "#FF97FF",
           "#FECB52"
          ],
          "font": {
           "color": "#2a3f5f"
          },
          "geo": {
           "bgcolor": "white",
           "lakecolor": "white",
           "landcolor": "#E5ECF6",
           "showlakes": true,
           "showland": true,
           "subunitcolor": "white"
          },
          "hoverlabel": {
           "align": "left"
          },
          "hovermode": "closest",
          "mapbox": {
           "style": "light"
          },
          "paper_bgcolor": "white",
          "plot_bgcolor": "#E5ECF6",
          "polar": {
           "angularaxis": {
            "gridcolor": "white",
            "linecolor": "white",
            "ticks": ""
           },
           "bgcolor": "#E5ECF6",
           "radialaxis": {
            "gridcolor": "white",
            "linecolor": "white",
            "ticks": ""
           }
          },
          "scene": {
           "xaxis": {
            "backgroundcolor": "#E5ECF6",
            "gridcolor": "white",
            "gridwidth": 2,
            "linecolor": "white",
            "showbackground": true,
            "ticks": "",
            "zerolinecolor": "white"
           },
           "yaxis": {
            "backgroundcolor": "#E5ECF6",
            "gridcolor": "white",
            "gridwidth": 2,
            "linecolor": "white",
            "showbackground": true,
            "ticks": "",
            "zerolinecolor": "white"
           },
           "zaxis": {
            "backgroundcolor": "#E5ECF6",
            "gridcolor": "white",
            "gridwidth": 2,
            "linecolor": "white",
            "showbackground": true,
            "ticks": "",
            "zerolinecolor": "white"
           }
          },
          "shapedefaults": {
           "line": {
            "color": "#2a3f5f"
           }
          },
          "ternary": {
           "aaxis": {
            "gridcolor": "white",
            "linecolor": "white",
            "ticks": ""
           },
           "baxis": {
            "gridcolor": "white",
            "linecolor": "white",
            "ticks": ""
           },
           "bgcolor": "#E5ECF6",
           "caxis": {
            "gridcolor": "white",
            "linecolor": "white",
            "ticks": ""
           }
          },
          "title": {
           "x": 0.05
          },
          "xaxis": {
           "automargin": true,
           "gridcolor": "white",
           "linecolor": "white",
           "ticks": "",
           "title": {
            "standoff": 15
           },
           "zerolinecolor": "white",
           "zerolinewidth": 2
          },
          "yaxis": {
           "automargin": true,
           "gridcolor": "white",
           "linecolor": "white",
           "ticks": "",
           "title": {
            "standoff": 15
           },
           "zerolinecolor": "white",
           "zerolinewidth": 2
          }
         }
        },
        "title": {
         "text": "Total OTS Berdasarkan Tujuan Pengiriman"
        },
        "width": 1000,
        "xaxis": {
         "anchor": "y",
         "autorange": true,
         "domain": [
          0,
          1
         ],
         "range": [
          0,
          7622.312243157894
         ],
         "showticklabels": false,
         "tickangle": 0,
         "title": {
          "text": "Per-miliar (Rp)"
         },
         "type": "linear"
        },
        "yaxis": {
         "anchor": "x",
         "autorange": true,
         "domain": [
          0,
          1
         ],
         "range": [
          -0.5,
          50.5
         ],
         "title": {
          "text": "Tujuan Pengiriman"
         },
         "type": "category"
        }
       }
      },
      "image/png": "[encoded data removed]",
      "text/html": [
       "<div>                            <div id=\"64d93fe6-467f-4987-a242-2cf524be9981\" class=\"plotly-graph-div\" style=\"height:600px; width:1000px;\"></div>            <script type=\"text/javascript\">                require([\"plotly\"], function(Plotly) {                    window.PLOTLYENV=window.PLOTLYENV || {};                                    if (document.getElementById(\"64d93fe6-467f-4987-a242-2cf524be9981\")) {                    Plotly.newPlot(                        \"64d93fe6-467f-4987-a242-2cf524be9981\",                        [{\"alignmentgroup\":\"True\",\"hovertemplate\":\"Customer Name=LAZADA MPDS COD<br>OUTSTANDING=%{x}<br>Dest Runsheet=%{y}<extra></extra>\",\"legendgroup\":\"LAZADA MPDS COD\",\"marker\":{\"color\":\"#636efa\",\"pattern\":{\"shape\":\"\"}},\"name\":\"LAZADA MPDS COD\",\"offsetgroup\":\"LAZADA MPDS COD\",\"orientation\":\"h\",\"showlegend\":true,\"textposition\":\"outside\",\"texttemplate\":\"%{x:.2s}\",\"x\":[6638.606005,3699.967101,3036.068315,2943.961754,2450.080273,2410.26772,2125.855633,1625.984454,1549.143345,1528.611112,1316.8457938545453,1297.133789,1262.549812,1244.926671,1147.300166,1127.865028,1104.420339,1068.319703,1066.21041,994.978713,994.032594,894.746203,796.276349,770.978479,763.060947,725.610835,635.082253,554.932528,553.716636,530.007704,496.411036,432.841984,381.423962,362.060507,361.30458,353.947396,332.858477,326.303316,308.042959,300.510754,294.004191,284.816589,262.148579,215.226363,209.632376,198.694413,193.451897,192.741356,191.791485,167.260075],\"xaxis\":\"x\",\"y\":[\"SUB\",\"TGR\",\"BDO\",\"KOE\",\"MJK\",\"SRG\",\"BKS\",\"TGL\",\"CBN\",\"CLG\",\"CGK\",\"KRW\",\"BDJ\",\"MES\",\"AMQ\",\"PLM\",\"MGL\",\"TSM\",\"TKG\",\"PGK\",\"MDN\",\"PKY\",\"UPG\",\"PBL\",\"CKR\",\"DJJ\",\"JBR\",\"MXG\",\"SMI\",\"PLW\",\"BOO\",\"JOG\",\"PKU\",\"SOQ\",\"KDI\",\"AMI\",\"CXP\",\"DPS\",\"MDC\",\"PWT\",\"PSR\",\"BPN\",\"GTO\",\"BKI\",\"BTH\",\"MKQ\",\"BTJ\",\"PNK\",\"TTE\",\"PDG\"],\"yaxis\":\"y\",\"type\":\"bar\",\"textfont\":{\"size\":12},\"textangle\":0},{\"alignmentgroup\":\"True\",\"hovertemplate\":\"Customer Name=MENGANTAR KARYA BANGSA PT / COD<br>OUTSTANDING=%{x}<br>Dest Runsheet=%{y}<extra></extra>\",\"legendgroup\":\"MENGANTAR KARYA BANGSA PT / COD\",\"marker\":{\"color\":\"#EF553B\",\"pattern\":{\"shape\":\"\"}},\"name\":\"MENGANTAR KARYA BANGSA PT / COD\",\"offsetgroup\":\"MENGANTAR KARYA BANGSA PT / COD\",\"orientation\":\"h\",\"showlegend\":true,\"textposition\":\"outside\",\"texttemplate\":\"%{x:.2s}\",\"x\":[1076.996299,940.419119,916.453293,633.332304,548.255104,535.726235,489.917233,443.047398,416.697046,408.204621,376.828513,364.767186,352.671027,330.306647,273.88432,256.080045,230.765878,227.32872,219.681996,216.253452,202.282595,191.261225,171.788059,166.052666,155.985489,143.056835,142.298665,140.652186],\"xaxis\":\"x\",\"y\":[\"UPG\",\"TTE\",\"MES\",\"BDJ\",\"PNK\",\"TGR\",\"TKG\",\"SUB\",\"PKU\",\"PLW\",\"KOE\",\"AMI\",\"DPS\",\"BTJ\",\"PKY\",\"MDC\",\"PLM\",\"PDG\",\"SRG\",\"DJJ\",\"MXG\",\"KDI\",\"BPN\",\"MJK\",\"DTB\",\"CGK\",\"SOQ\",\"AMQ\"],\"yaxis\":\"y\",\"type\":\"bar\",\"textfont\":{\"size\":12},\"textangle\":0},{\"alignmentgroup\":\"True\",\"hovertemplate\":\"Customer Name=SALESTOCK COD<br>OUTSTANDING=%{x}<br>Dest Runsheet=%{y}<extra></extra>\",\"legendgroup\":\"SALESTOCK COD\",\"marker\":{\"color\":\"#00cc96\",\"pattern\":{\"shape\":\"\"}},\"name\":\"SALESTOCK COD\",\"offsetgroup\":\"SALESTOCK COD\",\"orientation\":\"h\",\"showlegend\":true,\"textposition\":\"outside\",\"texttemplate\":\"%{x:.2s}\",\"x\":[500.254873,261.271402],\"xaxis\":\"x\",\"y\":[\"AMQ\",\"SOQ\"],\"yaxis\":\"y\",\"type\":\"bar\",\"textfont\":{\"size\":12},\"textangle\":0},{\"alignmentgroup\":\"True\",\"hovertemplate\":\"Customer Name=ORDIVO TEKNOLOGY<br>OUTSTANDING=%{x}<br>Dest Runsheet=%{y}<extra></extra>\",\"legendgroup\":\"ORDIVO TEKNOLOGY\",\"marker\":{\"color\":\"#ab63fa\",\"pattern\":{\"shape\":\"\"}},\"name\":\"ORDIVO TEKNOLOGY\",\"offsetgroup\":\"ORDIVO TEKNOLOGY\",\"orientation\":\"h\",\"showlegend\":true,\"textposition\":\"outside\",\"texttemplate\":\"%{x:.2s}\",\"x\":[403.806902,398.897028,326.911892,294.769066,267.681742,229.616475,214.843431,198.410656,178.654028,168.011935,163.971947,161.585343,159.543228,150.349723],\"xaxis\":\"x\",\"y\":[\"UPG\",\"MES\",\"TTE\",\"BDJ\",\"TGR\",\"PNK\",\"KOE\",\"PKU\",\"DPS\",\"AMI\",\"PLW\",\"TKG\",\"SUB\",\"BTJ\"],\"yaxis\":\"y\",\"type\":\"bar\",\"textfont\":{\"size\":12},\"textangle\":0},{\"alignmentgroup\":\"True\",\"hovertemplate\":\"Customer Name=SICEPAT EKSPRES INDONESIA / COD<br>OUTSTANDING=%{x}<br>Dest Runsheet=%{y}<extra></extra>\",\"legendgroup\":\"SICEPAT EKSPRES INDONESIA / COD\",\"marker\":{\"color\":\"#FFA15A\",\"pattern\":{\"shape\":\"\"}},\"name\":\"SICEPAT EKSPRES INDONESIA / COD\",\"offsetgroup\":\"SICEPAT EKSPRES INDONESIA / COD\",\"orientation\":\"h\",\"showlegend\":true,\"textposition\":\"outside\",\"texttemplate\":\"%{x:.2s}\",\"x\":[291.215648,241.184902,141.480843],\"xaxis\":\"x\",\"y\":[\"PLW\",\"KOE\",\"MDC\"],\"yaxis\":\"y\",\"type\":\"bar\",\"textfont\":{\"size\":12},\"textangle\":0},{\"alignmentgroup\":\"True\",\"hovertemplate\":\"Customer Name=MENGANTAR COM / COD<br>OUTSTANDING=%{x}<br>Dest Runsheet=%{y}<extra></extra>\",\"legendgroup\":\"MENGANTAR COM / COD\",\"marker\":{\"color\":\"#19d3f3\",\"pattern\":{\"shape\":\"\"}},\"name\":\"MENGANTAR COM / COD\",\"offsetgroup\":\"MENGANTAR COM / COD\",\"orientation\":\"h\",\"showlegend\":true,\"textposition\":\"outside\",\"texttemplate\":\"%{x:.2s}\",\"x\":[273.455627,155.651874],\"xaxis\":\"x\",\"y\":[\"BDJ\",\"TTE\"],\"yaxis\":\"y\",\"type\":\"bar\",\"textfont\":{\"size\":12},\"textangle\":0},{\"alignmentgroup\":\"True\",\"hovertemplate\":\"Customer Name=ZALORA COD WH<br>OUTSTANDING=%{x}<br>Dest Runsheet=%{y}<extra></extra>\",\"legendgroup\":\"ZALORA COD WH\",\"marker\":{\"color\":\"#FF6692\",\"pattern\":{\"shape\":\"\"}},\"name\":\"ZALORA COD WH\",\"offsetgroup\":\"ZALORA COD WH\",\"orientation\":\"h\",\"showlegend\":true,\"textposition\":\"outside\",\"texttemplate\":\"%{x:.2s}\",\"x\":[193.379352],\"xaxis\":\"x\",\"y\":[\"BDJ\"],\"yaxis\":\"y\",\"type\":\"bar\",\"textfont\":{\"size\":12},\"textangle\":0}],                        {\"template\":{\"data\":{\"histogram2dcontour\":[{\"type\":\"histogram2dcontour\",\"colorbar\":{\"outlinewidth\":0,\"ticks\":\"\"},\"colorscale\":[[0.0,\"#0d0887\"],[0.1111111111111111,\"#46039f\"],[0.2222222222222222,\"#7201a8\"],[0.3333333333333333,\"#9c179e\"],[0.4444444444444444,\"#bd3786\"],[0.5555555555555556,\"#d8576b\"],[0.6666666666666666,\"#ed7953\"],[0.7777777777777778,\"#fb9f3a\"],[0.8888888888888888,\"#fdca26\"],[1.0,\"#f0f921\"]]}],\"choropleth\":[{\"type\":\"choropleth\",\"colorbar\":{\"outlinewidth\":0,\"ticks\":\"\"}}],\"histogram2d\":[{\"type\":\"histogram2d\",\"colorbar\":{\"outlinewidth\":0,\"ticks\":\"\"},\"colorscale\":[[0.0,\"#0d0887\"],[0.1111111111111111,\"#46039f\"],[0.2222222222222222,\"#7201a8\"],[0.3333333333333333,\"#9c179e\"],[0.4444444444444444,\"#bd3786\"],[0.5555555555555556,\"#d8576b\"],[0.6666666666666666,\"#ed7953\"],[0.7777777777777778,\"#fb9f3a\"],[0.8888888888888888,\"#fdca26\"],[1.0,\"#f0f921\"]]}],\"heatmap\":[{\"type\":\"heatmap\",\"colorbar\":{\"outlinewidth\":0,\"ticks\":\"\"},\"colorscale\":[[0.0,\"#0d0887\"],[0.1111111111111111,\"#46039f\"],[0.2222222222222222,\"#7201a8\"],[0.3333333333333333,\"#9c179e\"],[0.4444444444444444,\"#bd3786\"],[0.5555555555555556,\"#d8576b\"],[0.6666666666666666,\"#ed7953\"],[0.7777777777777778,\"#fb9f3a\"],[0.8888888888888888,\"#fdca26\"],[1.0,\"#f0f921\"]]}],\"heatmapgl\":[{\"type\":\"heatmapgl\",\"colorbar\":{\"outlinewidth\":0,\"ticks\":\"\"},\"colorscale\":[[0.0,\"#0d0887\"],[0.1111111111111111,\"#46039f\"],[0.2222222222222222,\"#7201a8\"],[0.3333333333333333,\"#9c179e\"],[0.4444444444444444,\"#bd3786\"],[0.5555555555555556,\"#d8576b\"],[0.6666666666666666,\"#ed7953\"],[0.7777777777777778,\"#fb9f3a\"],[0.8888888888888888,\"#fdca26\"],[1.0,\"#f0f921\"]]}],\"contourcarpet\":[{\"type\":\"contourcarpet\",\"colorbar\":{\"outlinewidth\":0,\"ticks\":\"\"}}],\"contour\":[{\"type\":\"contour\",\"colorbar\":{\"outlinewidth\":0,\"ticks\":\"\"},\"colorscale\":[[0.0,\"#0d0887\"],[0.1111111111111111,\"#46039f\"],[0.2222222222222222,\"#7201a8\"],[0.3333333333333333,\"#9c179e\"],[0.4444444444444444,\"#bd3786\"],[0.5555555555555556,\"#d8576b\"],[0.6666666666666666,\"#ed7953\"],[0.7777777777777778,\"#fb9f3a\"],[0.8888888888888888,\"#fdca26\"],[1.0,\"#f0f921\"]]}],\"surface\":[{\"type\":\"surface\",\"colorbar\":{\"outlinewidth\":0,\"ticks\":\"\"},\"colorscale\":[[0.0,\"#0d0887\"],[0.1111111111111111,\"#46039f\"],[0.2222222222222222,\"#7201a8\"],[0.3333333333333333,\"#9c179e\"],[0.4444444444444444,\"#bd3786\"],[0.5555555555555556,\"#d8576b\"],[0.6666666666666666,\"#ed7953\"],[0.7777777777777778,\"#fb9f3a\"],[0.8888888888888888,\"#fdca26\"],[1.0,\"#f0f921\"]]}],\"mesh3d\":[{\"type\":\"mesh3d\",\"colorbar\":{\"outlinewidth\":0,\"ticks\":\"\"}}],\"scatter\":[{\"fillpattern\":{\"fillmode\":\"overlay\",\"size\":10,\"solidity\":0.2},\"type\":\"scatter\"}],\"parcoords\":[{\"type\":\"parcoords\",\"line\":{\"colorbar\":{\"outlinewidth\":0,\"ticks\":\"\"}}}],\"scatterpolargl\":[{\"type\":\"scatterpolargl\",\"marker\":{\"colorbar\":{\"outlinewidth\":0,\"ticks\":\"\"}}}],\"bar\":[{\"error_x\":{\"color\":\"#2a3f5f\"},\"error_y\":{\"color\":\"#2a3f5f\"},\"marker\":{\"line\":{\"color\":\"#E5ECF6\",\"width\":0.5},\"pattern\":{\"fillmode\":\"overlay\",\"size\":10,\"solidity\":0.2}},\"type\":\"bar\"}],\"scattergeo\":[{\"type\":\"scattergeo\",\"marker\":{\"colorbar\":{\"outlinewidth\":0,\"ticks\":\"\"}}}],\"scatterpolar\":[{\"type\":\"scatterpolar\",\"marker\":{\"colorbar\":{\"outlinewidth\":0,\"ticks\":\"\"}}}],\"histogram\":[{\"marker\":{\"pattern\":{\"fillmode\":\"overlay\",\"size\":10,\"solidity\":0.2}},\"type\":\"histogram\"}],\"scattergl\":[{\"type\":\"scattergl\",\"marker\":{\"colorbar\":{\"outlinewidth\":0,\"ticks\":\"\"}}}],\"scatter3d\":[{\"type\":\"scatter3d\",\"line\":{\"colorbar\":{\"outlinewidth\":0,\"ticks\":\"\"}},\"marker\":{\"colorbar\":{\"outlinewidth\":0,\"ticks\":\"\"}}}],\"scattermapbox\":[{\"type\":\"scattermapbox\",\"marker\":{\"colorbar\":{\"outlinewidth\":0,\"ticks\":\"\"}}}],\"scatterternary\":[{\"type\":\"scatterternary\",\"marker\":{\"colorbar\":{\"outlinewidth\":0,\"ticks\":\"\"}}}],\"scattercarpet\":[{\"type\":\"scattercarpet\",\"marker\":{\"colorbar\":{\"outlinewidth\":0,\"ticks\":\"\"}}}],\"carpet\":[{\"aaxis\":{\"endlinecolor\":\"#2a3f5f\",\"gridcolor\":\"white\",\"linecolor\":\"white\",\"minorgridcolor\":\"white\",\"startlinecolor\":\"#2a3f5f\"},\"baxis\":{\"endlinecolor\":\"#2a3f5f\",\"gridcolor\":\"white\",\"linecolor\":\"white\",\"minorgridcolor\":\"white\",\"startlinecolor\":\"#2a3f5f\"},\"type\":\"carpet\"}],\"table\":[{\"cells\":{\"fill\":{\"color\":\"#EBF0F8\"},\"line\":{\"color\":\"white\"}},\"header\":{\"fill\":{\"color\":\"#C8D4E3\"},\"line\":{\"color\":\"white\"}},\"type\":\"table\"}],\"barpolar\":[{\"marker\":{\"line\":{\"color\":\"#E5ECF6\",\"width\":0.5},\"pattern\":{\"fillmode\":\"overlay\",\"size\":10,\"solidity\":0.2}},\"type\":\"barpolar\"}],\"pie\":[{\"automargin\":true,\"type\":\"pie\"}]},\"layout\":{\"autotypenumbers\":\"strict\",\"colorway\":[\"#636efa\",\"#EF553B\",\"#00cc96\",\"#ab63fa\",\"#FFA15A\",\"#19d3f3\",\"#FF6692\",\"#B6E880\",\"#FF97FF\",\"#FECB52\"],\"font\":{\"color\":\"#2a3f5f\"},\"hovermode\":\"closest\",\"hoverlabel\":{\"align\":\"left\"},\"paper_bgcolor\":\"white\",\"plot_bgcolor\":\"#E5ECF6\",\"polar\":{\"bgcolor\":\"#E5ECF6\",\"angularaxis\":{\"gridcolor\":\"white\",\"linecolor\":\"white\",\"ticks\":\"\"},\"radialaxis\":{\"gridcolor\":\"white\",\"linecolor\":\"white\",\"ticks\":\"\"}},\"ternary\":{\"bgcolor\":\"#E5ECF6\",\"aaxis\":{\"gridcolor\":\"white\",\"linecolor\":\"white\",\"ticks\":\"\"},\"baxis\":{\"gridcolor\":\"white\",\"linecolor\":\"white\",\"ticks\":\"\"},\"caxis\":{\"gridcolor\":\"white\",\"linecolor\":\"white\",\"ticks\":\"\"}},\"coloraxis\":{\"colorbar\":{\"outlinewidth\":0,\"ticks\":\"\"}},\"colorscale\":{\"sequential\":[[0.0,\"#0d0887\"],[0.1111111111111111,\"#46039f\"],[0.2222222222222222,\"#7201a8\"],[0.3333333333333333,\"#9c179e\"],[0.4444444444444444,\"#bd3786\"],[0.5555555555555556,\"#d8576b\"],[0.6666666666666666,\"#ed7953\"],[0.7777777777777778,\"#fb9f3a\"],[0.8888888888888888,\"#fdca26\"],[1.0,\"#f0f921\"]],\"sequentialminus\":[[0.0,\"#0d0887\"],[0.1111111111111111,\"#46039f\"],[0.2222222222222222,\"#7201a8\"],[0.3333333333333333,\"#9c179e\"],[0.4444444444444444,\"#bd3786\"],[0.5555555555555556,\"#d8576b\"],[0.6666666666666666,\"#ed7953\"],[0.7777777777777778,\"#fb9f3a\"],[0.8888888888888888,\"#fdca26\"],[1.0,\"#f0f921\"]],\"diverging\":[[0,\"#8e0152\"],[0.1,\"#c51b7d\"],[0.2,\"#de77ae\"],[0.3,\"#f1b6da\"],[0.4,\"#fde0ef\"],[0.5,\"#f7f7f7\"],[0.6,\"#e6f5d0\"],[0.7,\"#b8e186\"],[0.8,\"#7fbc41\"],[0.9,\"#4d9221\"],[1,\"#276419\"]]},\"xaxis\":{\"gridcolor\":\"white\",\"linecolor\":\"white\",\"ticks\":\"\",\"title\":{\"standoff\":15},\"zerolinecolor\":\"white\",\"automargin\":true,\"zerolinewidth\":2},\"yaxis\":{\"gridcolor\":\"white\",\"linecolor\":\"white\",\"ticks\":\"\",\"title\":{\"standoff\":15},\"zerolinecolor\":\"white\",\"automargin\":true,\"zerolinewidth\":2},\"scene\":{\"xaxis\":{\"backgroundcolor\":\"#E5ECF6\",\"gridcolor\":\"white\",\"linecolor\":\"white\",\"showbackground\":true,\"ticks\":\"\",\"zerolinecolor\":\"white\",\"gridwidth\":2},\"yaxis\":{\"backgroundcolor\":\"#E5ECF6\",\"gridcolor\":\"white\",\"linecolor\":\"white\",\"showbackground\":true,\"ticks\":\"\",\"zerolinecolor\":\"white\",\"gridwidth\":2},\"zaxis\":{\"backgroundcolor\":\"#E5ECF6\",\"gridcolor\":\"white\",\"linecolor\":\"white\",\"showbackground\":true,\"ticks\":\"\",\"zerolinecolor\":\"white\",\"gridwidth\":2}},\"shapedefaults\":{\"line\":{\"color\":\"#2a3f5f\"}},\"annotationdefaults\":{\"arrowcolor\":\"#2a3f5f\",\"arrowhead\":0,\"arrowwidth\":1},\"geo\":{\"bgcolor\":\"white\",\"landcolor\":\"#E5ECF6\",\"subunitcolor\":\"white\",\"showland\":true,\"showlakes\":true,\"lakecolor\":\"white\"},\"title\":{\"x\":0.05},\"mapbox\":{\"style\":\"light\"}}},\"xaxis\":{\"anchor\":\"y\",\"domain\":[0.0,1.0],\"title\":{\"text\":\"Per-miliar (Rp)\"},\"tickangle\":0,\"showticklabels\":false},\"yaxis\":{\"anchor\":\"x\",\"domain\":[0.0,1.0],\"title\":{\"text\":\"Tujuan Pengiriman\"}},\"legend\":{\"title\":{\"text\":\"Customer Name\"},\"tracegroupgap\":0},\"margin\":{\"t\":60},\"barmode\":\"stack\",\"width\":1000,\"height\":600,\"showlegend\":true,\"title\":{\"text\":\"Total OTS Berdasarkan Tujuan Pengiriman\"}},                        {\"responsive\": true}                    ).then(function(){\n",
       "                            \n",
       "var gd = document.getElementById('64d93fe6-467f-4987-a242-2cf524be9981');\n",
       "var x = new MutationObserver(function (mutations, observer) {{\n",
       "        var display = window.getComputedStyle(gd).display;\n",
       "        if (!display || display === 'none') {{\n",
       "            console.log([gd, 'removed!']);\n",
       "            Plotly.purge(gd);\n",
       "            observer.disconnect();\n",
       "        }}\n",
       "}});\n",
       "\n",
       "// Listen for the removal of the full notebook cells\n",
       "var notebookContainer = gd.closest('#notebook-container');\n",
       "if (notebookContainer) {{\n",
       "    x.observe(notebookContainer, {childList: true});\n",
       "}}\n",
       "\n",
       "// Listen for the clearing of the current output cell\n",
       "var outputEl = gd.closest('.output');\n",
       "if (outputEl) {{\n",
       "    x.observe(outputEl, {childList: true});\n",
       "}}\n",
       "\n",
       "                        })                };                });            </script>        </div>"
      ]
     },
     "metadata": {},
     "output_type": "display_data"
    }
   ],
   "source": [
    "# impor library yg dibutuhkan untuk visualisasi\n",
    "import plotly.express as px\n",
    "\n",
    "# membuat grafik batang (bar-chart)\n",
    "fig = px.bar(ots, y='Dest Runsheet', x='OUTSTANDING',color='Customer Name', text_auto='.2s')\n",
    "\n",
    "# Pengaturan detail grafik\n",
    "fig.update_layout(barmode='stack',\n",
    "                  width=1000,\n",
    "                  height=600,\n",
    "                  showlegend=True,\n",
    "                  title=\"Total OTS Berdasarkan Tujuan Pengiriman\",\n",
    "                  xaxis_title=\"Per-miliar (Rp)\",\n",
    "                  yaxis_title=\"Tujuan Pengiriman\")\n",
    "\n",
    "# Pengaturan rotasi axis x (+-360 derajat)\n",
    "fig.update_xaxes(tickangle=0, showticklabels=False)\n",
    "\n",
    "# Pengaturan posisi, ukuran, dan rotasi teks\n",
    "fig.update_traces(textfont_size=12, textangle=0, textposition=\"outside\")\n",
    "\n",
    "fig.show()"
   ]
  },
  {
   "cell_type": "markdown",
   "id": "96f3fb0f-7f78-431c-aebb-461f5dc8025d",
   "metadata": {},
   "source": [
    "### Quiz 7\n",
    "\n",
    "Buatlah Analisa nilai outstanding yang berdasarkan `Dest Runsheet` dan `POD Status`"
   ]
  },
  {
   "cell_type": "markdown",
   "id": "9e8d0205-5870-4cfe-b950-9aac190f1a65",
   "metadata": {},
   "source": [
    "### Quiz 8 \n",
    "\n",
    "Buatlah Analisa nilai outstanding yang berdasarkan `Origin` dan `Dest Runsheet` "
   ]
  },
  {
   "cell_type": "markdown",
   "id": "242e4577-7fb4-481f-b419-9a1c2a4aff76",
   "metadata": {},
   "source": [
    "### Projek\n",
    "\n",
    "Berikut ini diperlihatkan analisis Outstanding berdasarkan persentase `Project`:"
   ]
  },
  {
   "cell_type": "code",
   "execution_count": 96,
   "id": "4cba753c-913f-4587-ab9e-acb80309d05c",
   "metadata": {},
   "outputs": [
    {
     "data": {
      "application/vnd.plotly.v1+json": {
       "config": {
        "plotlyServerURL": "https://plot.ly"
       },
       "data": [
        {
         "domain": {
          "x": [
           0,
           1
          ],
          "y": [
           0,
           1
          ]
         },
         "hole": 0.5,
         "hovertemplate": "Project=%{label}<br>OUTSTANDING=%{value}<extra></extra>",
         "labels": [
          "COD CNC",
          "COD CORPORATE",
          "COD ONGKIR",
          "COD RETAIL",
          "COD UPS"
         ],
         "legendgroup": "",
         "name": "",
         "showlegend": true,
         "textinfo": "percent+label",
         "textposition": "outside",
         "type": "pie",
         "values": [
          1.4676239924000001e-08,
          8.066573822285455e-08,
          1.92554892e-10,
          3.5895038490000003e-09,
          2.0559386199999998e-10
         ]
        }
       ],
       "layout": {
        "autosize": false,
        "height": 600,
        "legend": {
         "tracegroupgap": 0
        },
        "margin": {
         "t": 60
        },
        "showlegend": true,
        "template": {
         "data": {
          "bar": [
           {
            "error_x": {
             "color": "#2a3f5f"
            },
            "error_y": {
             "color": "#2a3f5f"
            },
            "marker": {
             "line": {
              "color": "#E5ECF6",
              "width": 0.5
             },
             "pattern": {
              "fillmode": "overlay",
              "size": 10,
              "solidity": 0.2
             }
            },
            "type": "bar"
           }
          ],
          "barpolar": [
           {
            "marker": {
             "line": {
              "color": "#E5ECF6",
              "width": 0.5
             },
             "pattern": {
              "fillmode": "overlay",
              "size": 10,
              "solidity": 0.2
             }
            },
            "type": "barpolar"
           }
          ],
          "carpet": [
           {
            "aaxis": {
             "endlinecolor": "#2a3f5f",
             "gridcolor": "white",
             "linecolor": "white",
             "minorgridcolor": "white",
             "startlinecolor": "#2a3f5f"
            },
            "baxis": {
             "endlinecolor": "#2a3f5f",
             "gridcolor": "white",
             "linecolor": "white",
             "minorgridcolor": "white",
             "startlinecolor": "#2a3f5f"
            },
            "type": "carpet"
           }
          ],
          "choropleth": [
           {
            "colorbar": {
             "outlinewidth": 0,
             "ticks": ""
            },
            "type": "choropleth"
           }
          ],
          "contour": [
           {
            "colorbar": {
             "outlinewidth": 0,
             "ticks": ""
            },
            "colorscale": [
             [
              0,
              "#0d0887"
             ],
             [
              0.1111111111111111,
              "#46039f"
             ],
             [
              0.2222222222222222,
              "#7201a8"
             ],
             [
              0.3333333333333333,
              "#9c179e"
             ],
             [
              0.4444444444444444,
              "#bd3786"
             ],
             [
              0.5555555555555556,
              "#d8576b"
             ],
             [
              0.6666666666666666,
              "#ed7953"
             ],
             [
              0.7777777777777778,
              "#fb9f3a"
             ],
             [
              0.8888888888888888,
              "#fdca26"
             ],
             [
              1,
              "#f0f921"
             ]
            ],
            "type": "contour"
           }
          ],
          "contourcarpet": [
           {
            "colorbar": {
             "outlinewidth": 0,
             "ticks": ""
            },
            "type": "contourcarpet"
           }
          ],
          "heatmap": [
           {
            "colorbar": {
             "outlinewidth": 0,
             "ticks": ""
            },
            "colorscale": [
             [
              0,
              "#0d0887"
             ],
             [
              0.1111111111111111,
              "#46039f"
             ],
             [
              0.2222222222222222,
              "#7201a8"
             ],
             [
              0.3333333333333333,
              "#9c179e"
             ],
             [
              0.4444444444444444,
              "#bd3786"
             ],
             [
              0.5555555555555556,
              "#d8576b"
             ],
             [
              0.6666666666666666,
              "#ed7953"
             ],
             [
              0.7777777777777778,
              "#fb9f3a"
             ],
             [
              0.8888888888888888,
              "#fdca26"
             ],
             [
              1,
              "#f0f921"
             ]
            ],
            "type": "heatmap"
           }
          ],
          "heatmapgl": [
           {
            "colorbar": {
             "outlinewidth": 0,
             "ticks": ""
            },
            "colorscale": [
             [
              0,
              "#0d0887"
             ],
             [
              0.1111111111111111,
              "#46039f"
             ],
             [
              0.2222222222222222,
              "#7201a8"
             ],
             [
              0.3333333333333333,
              "#9c179e"
             ],
             [
              0.4444444444444444,
              "#bd3786"
             ],
             [
              0.5555555555555556,
              "#d8576b"
             ],
             [
              0.6666666666666666,
              "#ed7953"
             ],
             [
              0.7777777777777778,
              "#fb9f3a"
             ],
             [
              0.8888888888888888,
              "#fdca26"
             ],
             [
              1,
              "#f0f921"
             ]
            ],
            "type": "heatmapgl"
           }
          ],
          "histogram": [
           {
            "marker": {
             "pattern": {
              "fillmode": "overlay",
              "size": 10,
              "solidity": 0.2
             }
            },
            "type": "histogram"
           }
          ],
          "histogram2d": [
           {
            "colorbar": {
             "outlinewidth": 0,
             "ticks": ""
            },
            "colorscale": [
             [
              0,
              "#0d0887"
             ],
             [
              0.1111111111111111,
              "#46039f"
             ],
             [
              0.2222222222222222,
              "#7201a8"
             ],
             [
              0.3333333333333333,
              "#9c179e"
             ],
             [
              0.4444444444444444,
              "#bd3786"
             ],
             [
              0.5555555555555556,
              "#d8576b"
             ],
             [
              0.6666666666666666,
              "#ed7953"
             ],
             [
              0.7777777777777778,
              "#fb9f3a"
             ],
             [
              0.8888888888888888,
              "#fdca26"
             ],
             [
              1,
              "#f0f921"
             ]
            ],
            "type": "histogram2d"
           }
          ],
          "histogram2dcontour": [
           {
            "colorbar": {
             "outlinewidth": 0,
             "ticks": ""
            },
            "colorscale": [
             [
              0,
              "#0d0887"
             ],
             [
              0.1111111111111111,
              "#46039f"
             ],
             [
              0.2222222222222222,
              "#7201a8"
             ],
             [
              0.3333333333333333,
              "#9c179e"
             ],
             [
              0.4444444444444444,
              "#bd3786"
             ],
             [
              0.5555555555555556,
              "#d8576b"
             ],
             [
              0.6666666666666666,
              "#ed7953"
             ],
             [
              0.7777777777777778,
              "#fb9f3a"
             ],
             [
              0.8888888888888888,
              "#fdca26"
             ],
             [
              1,
              "#f0f921"
             ]
            ],
            "type": "histogram2dcontour"
           }
          ],
          "mesh3d": [
           {
            "colorbar": {
             "outlinewidth": 0,
             "ticks": ""
            },
            "type": "mesh3d"
           }
          ],
          "parcoords": [
           {
            "line": {
             "colorbar": {
              "outlinewidth": 0,
              "ticks": ""
             }
            },
            "type": "parcoords"
           }
          ],
          "pie": [
           {
            "automargin": true,
            "type": "pie"
           }
          ],
          "scatter": [
           {
            "fillpattern": {
             "fillmode": "overlay",
             "size": 10,
             "solidity": 0.2
            },
            "type": "scatter"
           }
          ],
          "scatter3d": [
           {
            "line": {
             "colorbar": {
              "outlinewidth": 0,
              "ticks": ""
             }
            },
            "marker": {
             "colorbar": {
              "outlinewidth": 0,
              "ticks": ""
             }
            },
            "type": "scatter3d"
           }
          ],
          "scattercarpet": [
           {
            "marker": {
             "colorbar": {
              "outlinewidth": 0,
              "ticks": ""
             }
            },
            "type": "scattercarpet"
           }
          ],
          "scattergeo": [
           {
            "marker": {
             "colorbar": {
              "outlinewidth": 0,
              "ticks": ""
             }
            },
            "type": "scattergeo"
           }
          ],
          "scattergl": [
           {
            "marker": {
             "colorbar": {
              "outlinewidth": 0,
              "ticks": ""
             }
            },
            "type": "scattergl"
           }
          ],
          "scattermapbox": [
           {
            "marker": {
             "colorbar": {
              "outlinewidth": 0,
              "ticks": ""
             }
            },
            "type": "scattermapbox"
           }
          ],
          "scatterpolar": [
           {
            "marker": {
             "colorbar": {
              "outlinewidth": 0,
              "ticks": ""
             }
            },
            "type": "scatterpolar"
           }
          ],
          "scatterpolargl": [
           {
            "marker": {
             "colorbar": {
              "outlinewidth": 0,
              "ticks": ""
             }
            },
            "type": "scatterpolargl"
           }
          ],
          "scatterternary": [
           {
            "marker": {
             "colorbar": {
              "outlinewidth": 0,
              "ticks": ""
             }
            },
            "type": "scatterternary"
           }
          ],
          "surface": [
           {
            "colorbar": {
             "outlinewidth": 0,
             "ticks": ""
            },
            "colorscale": [
             [
              0,
              "#0d0887"
             ],
             [
              0.1111111111111111,
              "#46039f"
             ],
             [
              0.2222222222222222,
              "#7201a8"
             ],
             [
              0.3333333333333333,
              "#9c179e"
             ],
             [
              0.4444444444444444,
              "#bd3786"
             ],
             [
              0.5555555555555556,
              "#d8576b"
             ],
             [
              0.6666666666666666,
              "#ed7953"
             ],
             [
              0.7777777777777778,
              "#fb9f3a"
             ],
             [
              0.8888888888888888,
              "#fdca26"
             ],
             [
              1,
              "#f0f921"
             ]
            ],
            "type": "surface"
           }
          ],
          "table": [
           {
            "cells": {
             "fill": {
              "color": "#EBF0F8"
             },
             "line": {
              "color": "white"
             }
            },
            "header": {
             "fill": {
              "color": "#C8D4E3"
             },
             "line": {
              "color": "white"
             }
            },
            "type": "table"
           }
          ]
         },
         "layout": {
          "annotationdefaults": {
           "arrowcolor": "#2a3f5f",
           "arrowhead": 0,
           "arrowwidth": 1
          },
          "autotypenumbers": "strict",
          "coloraxis": {
           "colorbar": {
            "outlinewidth": 0,
            "ticks": ""
           }
          },
          "colorscale": {
           "diverging": [
            [
             0,
             "#8e0152"
            ],
            [
             0.1,
             "#c51b7d"
            ],
            [
             0.2,
             "#de77ae"
            ],
            [
             0.3,
             "#f1b6da"
            ],
            [
             0.4,
             "#fde0ef"
            ],
            [
             0.5,
             "#f7f7f7"
            ],
            [
             0.6,
             "#e6f5d0"
            ],
            [
             0.7,
             "#b8e186"
            ],
            [
             0.8,
             "#7fbc41"
            ],
            [
             0.9,
             "#4d9221"
            ],
            [
             1,
             "#276419"
            ]
           ],
           "sequential": [
            [
             0,
             "#0d0887"
            ],
            [
             0.1111111111111111,
             "#46039f"
            ],
            [
             0.2222222222222222,
             "#7201a8"
            ],
            [
             0.3333333333333333,
             "#9c179e"
            ],
            [
             0.4444444444444444,
             "#bd3786"
            ],
            [
             0.5555555555555556,
             "#d8576b"
            ],
            [
             0.6666666666666666,
             "#ed7953"
            ],
            [
             0.7777777777777778,
             "#fb9f3a"
            ],
            [
             0.8888888888888888,
             "#fdca26"
            ],
            [
             1,
             "#f0f921"
            ]
           ],
           "sequentialminus": [
            [
             0,
             "#0d0887"
            ],
            [
             0.1111111111111111,
             "#46039f"
            ],
            [
             0.2222222222222222,
             "#7201a8"
            ],
            [
             0.3333333333333333,
             "#9c179e"
            ],
            [
             0.4444444444444444,
             "#bd3786"
            ],
            [
             0.5555555555555556,
             "#d8576b"
            ],
            [
             0.6666666666666666,
             "#ed7953"
            ],
            [
             0.7777777777777778,
             "#fb9f3a"
            ],
            [
             0.8888888888888888,
             "#fdca26"
            ],
            [
             1,
             "#f0f921"
            ]
           ]
          },
          "colorway": [
           "#636efa",
           "#EF553B",
           "#00cc96",
           "#ab63fa",
           "#FFA15A",
           "#19d3f3",
           "#FF6692",
           "#B6E880",
           "#FF97FF",
           "#FECB52"
          ],
          "font": {
           "color": "#2a3f5f"
          },
          "geo": {
           "bgcolor": "white",
           "lakecolor": "white",
           "landcolor": "#E5ECF6",
           "showlakes": true,
           "showland": true,
           "subunitcolor": "white"
          },
          "hoverlabel": {
           "align": "left"
          },
          "hovermode": "closest",
          "mapbox": {
           "style": "light"
          },
          "paper_bgcolor": "white",
          "plot_bgcolor": "#E5ECF6",
          "polar": {
           "angularaxis": {
            "gridcolor": "white",
            "linecolor": "white",
            "ticks": ""
           },
           "bgcolor": "#E5ECF6",
           "radialaxis": {
            "gridcolor": "white",
            "linecolor": "white",
            "ticks": ""
           }
          },
          "scene": {
           "xaxis": {
            "backgroundcolor": "#E5ECF6",
            "gridcolor": "white",
            "gridwidth": 2,
            "linecolor": "white",
            "showbackground": true,
            "ticks": "",
            "zerolinecolor": "white"
           },
           "yaxis": {
            "backgroundcolor": "#E5ECF6",
            "gridcolor": "white",
            "gridwidth": 2,
            "linecolor": "white",
            "showbackground": true,
            "ticks": "",
            "zerolinecolor": "white"
           },
           "zaxis": {
            "backgroundcolor": "#E5ECF6",
            "gridcolor": "white",
            "gridwidth": 2,
            "linecolor": "white",
            "showbackground": true,
            "ticks": "",
            "zerolinecolor": "white"
           }
          },
          "shapedefaults": {
           "line": {
            "color": "#2a3f5f"
           }
          },
          "ternary": {
           "aaxis": {
            "gridcolor": "white",
            "linecolor": "white",
            "ticks": ""
           },
           "baxis": {
            "gridcolor": "white",
            "linecolor": "white",
            "ticks": ""
           },
           "bgcolor": "#E5ECF6",
           "caxis": {
            "gridcolor": "white",
            "linecolor": "white",
            "ticks": ""
           }
          },
          "title": {
           "x": 0.05
          },
          "xaxis": {
           "automargin": true,
           "gridcolor": "white",
           "linecolor": "white",
           "ticks": "",
           "title": {
            "standoff": 15
           },
           "zerolinecolor": "white",
           "zerolinewidth": 2
          },
          "yaxis": {
           "automargin": true,
           "gridcolor": "white",
           "linecolor": "white",
           "ticks": "",
           "title": {
            "standoff": 15
           },
           "zerolinecolor": "white",
           "zerolinewidth": 2
          }
         }
        },
        "title": {
         "text": "Total Outstanding berdasarkan persentase `Project`"
        },
        "width": 800
       }
      },
      "image/png": "[encoded data removed]",
      "text/html": [
       "<div>                            <div id=\"0475072d-4940-4c52-8994-28becdb1d8de\" class=\"plotly-graph-div\" style=\"height:600px; width:800px;\"></div>            <script type=\"text/javascript\">                require([\"plotly\"], function(Plotly) {                    window.PLOTLYENV=window.PLOTLYENV || {};                                    if (document.getElementById(\"0475072d-4940-4c52-8994-28becdb1d8de\")) {                    Plotly.newPlot(                        \"0475072d-4940-4c52-8994-28becdb1d8de\",                        [{\"domain\":{\"x\":[0.0,1.0],\"y\":[0.0,1.0]},\"hole\":0.5,\"hovertemplate\":\"Project=%{label}<br>OUTSTANDING=%{value}<extra></extra>\",\"labels\":[\"COD CNC\",\"COD CORPORATE\",\"COD ONGKIR\",\"COD RETAIL\",\"COD UPS\"],\"legendgroup\":\"\",\"name\":\"\",\"showlegend\":true,\"values\":[1.4676239924000001e-08,8.066573822285455e-08,1.92554892e-10,3.5895038490000003e-09,2.0559386199999998e-10],\"type\":\"pie\",\"textinfo\":\"percent+label\",\"textposition\":\"outside\"}],                        {\"template\":{\"data\":{\"histogram2dcontour\":[{\"type\":\"histogram2dcontour\",\"colorbar\":{\"outlinewidth\":0,\"ticks\":\"\"},\"colorscale\":[[0.0,\"#0d0887\"],[0.1111111111111111,\"#46039f\"],[0.2222222222222222,\"#7201a8\"],[0.3333333333333333,\"#9c179e\"],[0.4444444444444444,\"#bd3786\"],[0.5555555555555556,\"#d8576b\"],[0.6666666666666666,\"#ed7953\"],[0.7777777777777778,\"#fb9f3a\"],[0.8888888888888888,\"#fdca26\"],[1.0,\"#f0f921\"]]}],\"choropleth\":[{\"type\":\"choropleth\",\"colorbar\":{\"outlinewidth\":0,\"ticks\":\"\"}}],\"histogram2d\":[{\"type\":\"histogram2d\",\"colorbar\":{\"outlinewidth\":0,\"ticks\":\"\"},\"colorscale\":[[0.0,\"#0d0887\"],[0.1111111111111111,\"#46039f\"],[0.2222222222222222,\"#7201a8\"],[0.3333333333333333,\"#9c179e\"],[0.4444444444444444,\"#bd3786\"],[0.5555555555555556,\"#d8576b\"],[0.6666666666666666,\"#ed7953\"],[0.7777777777777778,\"#fb9f3a\"],[0.8888888888888888,\"#fdca26\"],[1.0,\"#f0f921\"]]}],\"heatmap\":[{\"type\":\"heatmap\",\"colorbar\":{\"outlinewidth\":0,\"ticks\":\"\"},\"colorscale\":[[0.0,\"#0d0887\"],[0.1111111111111111,\"#46039f\"],[0.2222222222222222,\"#7201a8\"],[0.3333333333333333,\"#9c179e\"],[0.4444444444444444,\"#bd3786\"],[0.5555555555555556,\"#d8576b\"],[0.6666666666666666,\"#ed7953\"],[0.7777777777777778,\"#fb9f3a\"],[0.8888888888888888,\"#fdca26\"],[1.0,\"#f0f921\"]]}],\"heatmapgl\":[{\"type\":\"heatmapgl\",\"colorbar\":{\"outlinewidth\":0,\"ticks\":\"\"},\"colorscale\":[[0.0,\"#0d0887\"],[0.1111111111111111,\"#46039f\"],[0.2222222222222222,\"#7201a8\"],[0.3333333333333333,\"#9c179e\"],[0.4444444444444444,\"#bd3786\"],[0.5555555555555556,\"#d8576b\"],[0.6666666666666666,\"#ed7953\"],[0.7777777777777778,\"#fb9f3a\"],[0.8888888888888888,\"#fdca26\"],[1.0,\"#f0f921\"]]}],\"contourcarpet\":[{\"type\":\"contourcarpet\",\"colorbar\":{\"outlinewidth\":0,\"ticks\":\"\"}}],\"contour\":[{\"type\":\"contour\",\"colorbar\":{\"outlinewidth\":0,\"ticks\":\"\"},\"colorscale\":[[0.0,\"#0d0887\"],[0.1111111111111111,\"#46039f\"],[0.2222222222222222,\"#7201a8\"],[0.3333333333333333,\"#9c179e\"],[0.4444444444444444,\"#bd3786\"],[0.5555555555555556,\"#d8576b\"],[0.6666666666666666,\"#ed7953\"],[0.7777777777777778,\"#fb9f3a\"],[0.8888888888888888,\"#fdca26\"],[1.0,\"#f0f921\"]]}],\"surface\":[{\"type\":\"surface\",\"colorbar\":{\"outlinewidth\":0,\"ticks\":\"\"},\"colorscale\":[[0.0,\"#0d0887\"],[0.1111111111111111,\"#46039f\"],[0.2222222222222222,\"#7201a8\"],[0.3333333333333333,\"#9c179e\"],[0.4444444444444444,\"#bd3786\"],[0.5555555555555556,\"#d8576b\"],[0.6666666666666666,\"#ed7953\"],[0.7777777777777778,\"#fb9f3a\"],[0.8888888888888888,\"#fdca26\"],[1.0,\"#f0f921\"]]}],\"mesh3d\":[{\"type\":\"mesh3d\",\"colorbar\":{\"outlinewidth\":0,\"ticks\":\"\"}}],\"scatter\":[{\"fillpattern\":{\"fillmode\":\"overlay\",\"size\":10,\"solidity\":0.2},\"type\":\"scatter\"}],\"parcoords\":[{\"type\":\"parcoords\",\"line\":{\"colorbar\":{\"outlinewidth\":0,\"ticks\":\"\"}}}],\"scatterpolargl\":[{\"type\":\"scatterpolargl\",\"marker\":{\"colorbar\":{\"outlinewidth\":0,\"ticks\":\"\"}}}],\"bar\":[{\"error_x\":{\"color\":\"#2a3f5f\"},\"error_y\":{\"color\":\"#2a3f5f\"},\"marker\":{\"line\":{\"color\":\"#E5ECF6\",\"width\":0.5},\"pattern\":{\"fillmode\":\"overlay\",\"size\":10,\"solidity\":0.2}},\"type\":\"bar\"}],\"scattergeo\":[{\"type\":\"scattergeo\",\"marker\":{\"colorbar\":{\"outlinewidth\":0,\"ticks\":\"\"}}}],\"scatterpolar\":[{\"type\":\"scatterpolar\",\"marker\":{\"colorbar\":{\"outlinewidth\":0,\"ticks\":\"\"}}}],\"histogram\":[{\"marker\":{\"pattern\":{\"fillmode\":\"overlay\",\"size\":10,\"solidity\":0.2}},\"type\":\"histogram\"}],\"scattergl\":[{\"type\":\"scattergl\",\"marker\":{\"colorbar\":{\"outlinewidth\":0,\"ticks\":\"\"}}}],\"scatter3d\":[{\"type\":\"scatter3d\",\"line\":{\"colorbar\":{\"outlinewidth\":0,\"ticks\":\"\"}},\"marker\":{\"colorbar\":{\"outlinewidth\":0,\"ticks\":\"\"}}}],\"scattermapbox\":[{\"type\":\"scattermapbox\",\"marker\":{\"colorbar\":{\"outlinewidth\":0,\"ticks\":\"\"}}}],\"scatterternary\":[{\"type\":\"scatterternary\",\"marker\":{\"colorbar\":{\"outlinewidth\":0,\"ticks\":\"\"}}}],\"scattercarpet\":[{\"type\":\"scattercarpet\",\"marker\":{\"colorbar\":{\"outlinewidth\":0,\"ticks\":\"\"}}}],\"carpet\":[{\"aaxis\":{\"endlinecolor\":\"#2a3f5f\",\"gridcolor\":\"white\",\"linecolor\":\"white\",\"minorgridcolor\":\"white\",\"startlinecolor\":\"#2a3f5f\"},\"baxis\":{\"endlinecolor\":\"#2a3f5f\",\"gridcolor\":\"white\",\"linecolor\":\"white\",\"minorgridcolor\":\"white\",\"startlinecolor\":\"#2a3f5f\"},\"type\":\"carpet\"}],\"table\":[{\"cells\":{\"fill\":{\"color\":\"#EBF0F8\"},\"line\":{\"color\":\"white\"}},\"header\":{\"fill\":{\"color\":\"#C8D4E3\"},\"line\":{\"color\":\"white\"}},\"type\":\"table\"}],\"barpolar\":[{\"marker\":{\"line\":{\"color\":\"#E5ECF6\",\"width\":0.5},\"pattern\":{\"fillmode\":\"overlay\",\"size\":10,\"solidity\":0.2}},\"type\":\"barpolar\"}],\"pie\":[{\"automargin\":true,\"type\":\"pie\"}]},\"layout\":{\"autotypenumbers\":\"strict\",\"colorway\":[\"#636efa\",\"#EF553B\",\"#00cc96\",\"#ab63fa\",\"#FFA15A\",\"#19d3f3\",\"#FF6692\",\"#B6E880\",\"#FF97FF\",\"#FECB52\"],\"font\":{\"color\":\"#2a3f5f\"},\"hovermode\":\"closest\",\"hoverlabel\":{\"align\":\"left\"},\"paper_bgcolor\":\"white\",\"plot_bgcolor\":\"#E5ECF6\",\"polar\":{\"bgcolor\":\"#E5ECF6\",\"angularaxis\":{\"gridcolor\":\"white\",\"linecolor\":\"white\",\"ticks\":\"\"},\"radialaxis\":{\"gridcolor\":\"white\",\"linecolor\":\"white\",\"ticks\":\"\"}},\"ternary\":{\"bgcolor\":\"#E5ECF6\",\"aaxis\":{\"gridcolor\":\"white\",\"linecolor\":\"white\",\"ticks\":\"\"},\"baxis\":{\"gridcolor\":\"white\",\"linecolor\":\"white\",\"ticks\":\"\"},\"caxis\":{\"gridcolor\":\"white\",\"linecolor\":\"white\",\"ticks\":\"\"}},\"coloraxis\":{\"colorbar\":{\"outlinewidth\":0,\"ticks\":\"\"}},\"colorscale\":{\"sequential\":[[0.0,\"#0d0887\"],[0.1111111111111111,\"#46039f\"],[0.2222222222222222,\"#7201a8\"],[0.3333333333333333,\"#9c179e\"],[0.4444444444444444,\"#bd3786\"],[0.5555555555555556,\"#d8576b\"],[0.6666666666666666,\"#ed7953\"],[0.7777777777777778,\"#fb9f3a\"],[0.8888888888888888,\"#fdca26\"],[1.0,\"#f0f921\"]],\"sequentialminus\":[[0.0,\"#0d0887\"],[0.1111111111111111,\"#46039f\"],[0.2222222222222222,\"#7201a8\"],[0.3333333333333333,\"#9c179e\"],[0.4444444444444444,\"#bd3786\"],[0.5555555555555556,\"#d8576b\"],[0.6666666666666666,\"#ed7953\"],[0.7777777777777778,\"#fb9f3a\"],[0.8888888888888888,\"#fdca26\"],[1.0,\"#f0f921\"]],\"diverging\":[[0,\"#8e0152\"],[0.1,\"#c51b7d\"],[0.2,\"#de77ae\"],[0.3,\"#f1b6da\"],[0.4,\"#fde0ef\"],[0.5,\"#f7f7f7\"],[0.6,\"#e6f5d0\"],[0.7,\"#b8e186\"],[0.8,\"#7fbc41\"],[0.9,\"#4d9221\"],[1,\"#276419\"]]},\"xaxis\":{\"gridcolor\":\"white\",\"linecolor\":\"white\",\"ticks\":\"\",\"title\":{\"standoff\":15},\"zerolinecolor\":\"white\",\"automargin\":true,\"zerolinewidth\":2},\"yaxis\":{\"gridcolor\":\"white\",\"linecolor\":\"white\",\"ticks\":\"\",\"title\":{\"standoff\":15},\"zerolinecolor\":\"white\",\"automargin\":true,\"zerolinewidth\":2},\"scene\":{\"xaxis\":{\"backgroundcolor\":\"#E5ECF6\",\"gridcolor\":\"white\",\"linecolor\":\"white\",\"showbackground\":true,\"ticks\":\"\",\"zerolinecolor\":\"white\",\"gridwidth\":2},\"yaxis\":{\"backgroundcolor\":\"#E5ECF6\",\"gridcolor\":\"white\",\"linecolor\":\"white\",\"showbackground\":true,\"ticks\":\"\",\"zerolinecolor\":\"white\",\"gridwidth\":2},\"zaxis\":{\"backgroundcolor\":\"#E5ECF6\",\"gridcolor\":\"white\",\"linecolor\":\"white\",\"showbackground\":true,\"ticks\":\"\",\"zerolinecolor\":\"white\",\"gridwidth\":2}},\"shapedefaults\":{\"line\":{\"color\":\"#2a3f5f\"}},\"annotationdefaults\":{\"arrowcolor\":\"#2a3f5f\",\"arrowhead\":0,\"arrowwidth\":1},\"geo\":{\"bgcolor\":\"white\",\"landcolor\":\"#E5ECF6\",\"subunitcolor\":\"white\",\"showland\":true,\"showlakes\":true,\"lakecolor\":\"white\"},\"title\":{\"x\":0.05},\"mapbox\":{\"style\":\"light\"}}},\"legend\":{\"tracegroupgap\":0},\"margin\":{\"t\":60},\"showlegend\":true,\"autosize\":false,\"width\":800,\"height\":600,\"title\":{\"text\":\"Total Outstanding berdasarkan persentase `Project`\"}},                        {\"responsive\": true}                    ).then(function(){\n",
       "                            \n",
       "var gd = document.getElementById('0475072d-4940-4c52-8994-28becdb1d8de');\n",
       "var x = new MutationObserver(function (mutations, observer) {{\n",
       "        var display = window.getComputedStyle(gd).display;\n",
       "        if (!display || display === 'none') {{\n",
       "            console.log([gd, 'removed!']);\n",
       "            Plotly.purge(gd);\n",
       "            observer.disconnect();\n",
       "        }}\n",
       "}});\n",
       "\n",
       "// Listen for the removal of the full notebook cells\n",
       "var notebookContainer = gd.closest('#notebook-container');\n",
       "if (notebookContainer) {{\n",
       "    x.observe(notebookContainer, {childList: true});\n",
       "}}\n",
       "\n",
       "// Listen for the clearing of the current output cell\n",
       "var outputEl = gd.closest('.output');\n",
       "if (outputEl) {{\n",
       "    x.observe(outputEl, {childList: true});\n",
       "}}\n",
       "\n",
       "                        })                };                });            </script>        </div>"
      ]
     },
     "metadata": {},
     "output_type": "display_data"
    }
   ],
   "source": [
    "# Tabel Pivot untuk menghitung jumlah omzet berdasarkan Region\n",
    "df=pd.pivot_table(df,index=['Project'], values=['OUTSTANDING'], aggfunc='sum')\n",
    "\n",
    "# Komfersi indeks menjadi Kolom\n",
    "df.reset_index(inplace=True)\n",
    "\n",
    "# Konversi Total omset menjadi per-miliar \n",
    "df[\"OUTSTANDING\"] = (df['OUTSTANDING']/1000000000)\n",
    "\n",
    "import plotly.express as px\n",
    "# membuat grafik lingkaran (pie-chart)\n",
    "fig = px.pie(df, values='OUTSTANDING', names='Project', hole=0.5)\n",
    "\n",
    "# Pengaturan detail grafik\n",
    "fig.update_layout(showlegend=True,\n",
    "                  autosize=False,\n",
    "                  width=800,\n",
    "                  height=600,\n",
    "                  title=\"Total Outstanding berdasarkan persentase `Project`\");\n",
    "\n",
    "fig.update_traces(textposition='outside', textinfo='percent+label');\n",
    "\n",
    "fig.show()\n"
   ]
  }
 ],
 "metadata": {
  "kernelspec": {
   "display_name": "Python 3 (ipykernel)",
   "language": "python",
   "name": "python3"
  },
  "language_info": {
   "codemirror_mode": {
    "name": "ipython",
    "version": 3
   },
   "file_extension": ".py",
   "mimetype": "text/x-python",
   "name": "python",
   "nbconvert_exporter": "python",
   "pygments_lexer": "ipython3",
   "version": "3.8.13"
  }
 },
 "nbformat": 4,
 "nbformat_minor": 5
}
