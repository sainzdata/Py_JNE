{
 "cells": [
  {
   "cell_type": "markdown",
   "id": "ac10b090-93dd-42eb-86db-521a441d9d93",
   "metadata": {},
   "source": [
    "# Mini Project\n",
    "\n",
    "Adapun beberapa hal yang dipelajari pada program pelatihan Data Analitics With Python pertemuan ke-4 ini adalah sebagai berikut:\n",
    "\n",
    "* Penggabungan data menggunakan 3 file dibawah ini: [(download data disini)](https://jne2-my.sharepoint.com/personal/ibnu_falah_jne_co_id/_layouts/15/onedrive.aspx?id=%2Fpersonal%2Fibnu%5Ffalah%5Fjne%5Fco%5Fid%2FDocuments%2FData%20for%20P%27%20Bakti&ga=1). \n",
    "    1. OTS ARAP UPDATE 30092022.XLSX; \n",
    "    2. OTS CURRENT 2022 UPDATE 30092022.XLSX; \n",
    "    3. OTS CURRENT 2022 UPDATE 30092022 PART 2.XLSX)\n",
    "* Pemerikasaan Data Duplikat (Nomor connote apakah ada yang double)\n",
    "* Pemerikasaan Anomaly.\n",
    "* Memeriksa Data ots yang nilai nya minus\n",
    "* Analisa nilai outstanding yang tinggi berdasarkan Regional – Cabang – Kurir.\n",
    "* Data outstanding diurutkan berdasarkan nama customer – Dest Runsheet\n",
    "* Outstanding berdasarkan Kurir / ID Kurir (data kurir dapat dilihat di file ID Kurir.XLSX)\n",
    "\n"
   ]
  },
  {
   "cell_type": "markdown",
   "id": "4458b8cb-c020-43a4-b7b0-6682d9d501cf",
   "metadata": {},
   "source": [
    "## Impor Data\n",
    "\n",
    "Dalam proses impor (baca) data dari Excel ke Python, beberapa hal yang harus diperhatikan adalah:\n",
    "\n",
    "1. Pastikan Notebook Python (Koding) anda berada dalam satu folder\n",
    "2. Buatlah folder baru untuk meyimpan data tersebut (opsional) \n",
    "3. Nama file excel tidak memuat spasi (gunakan underline `_` jika diperlukan). Dalam hal ini, penulis merubah nama variabel menjadi OTS1, OTS2, dan OTS3.\n",
    "4. impor packages/Library/Module yang diperlukan (dalam hal ini digunakan 'pandas')"
   ]
  },
  {
   "cell_type": "code",
   "execution_count": 34,
   "id": "a4f338e9-70f2-44ff-b8f8-fd8039d1e2ab",
   "metadata": {},
   "outputs": [],
   "source": [
    "import pandas as pd              # library untuk impor data\n",
    "f1 = pd.read_excel('data/Mini_Project/OTS1.xlsx') \n",
    "f2 = pd.read_excel('data/Mini_Project/OTS2.xlsx') \n",
    "f3 = pd.read_excel('data/Mini_Project/OTS3.xlsx') "
   ]
  },
  {
   "cell_type": "markdown",
   "id": "7a4abafb-bca1-4569-99ec-66f0b9797f2e",
   "metadata": {},
   "source": [
    "Berikutnya dilakukan pemerikasan struktur data dan informasi dasar pada dataset."
   ]
  },
  {
   "cell_type": "code",
   "execution_count": 39,
   "id": "9cfa2bd6-c765-4470-a6d2-2340f9fcae11",
   "metadata": {},
   "outputs": [
    {
     "name": "stdout",
     "output_type": "stream",
     "text": [
      "<class 'pandas.core.frame.DataFrame'>\n",
      "RangeIndex: 546785 entries, 0 to 546784\n",
      "Data columns (total 10 columns):\n",
      " #   Column       Non-Null Count   Dtype \n",
      "---  ------       --------------   ----- \n",
      " 0   Unnamed: 0   546785 non-null  object\n",
      " 1   Unnamed: 1   546785 non-null  object\n",
      " 2   Unnamed: 2   546785 non-null  object\n",
      " 3   Unnamed: 3   546785 non-null  object\n",
      " 4   68906809805  546785 non-null  object\n",
      " 5   Unnamed: 5   546785 non-null  object\n",
      " 6   Unnamed: 6   546785 non-null  object\n",
      " 7   Unnamed: 7   546785 non-null  object\n",
      " 8   Unnamed: 8   546785 non-null  object\n",
      " 9   68906264744  546785 non-null  object\n",
      "dtypes: object(10)\n",
      "memory usage: 41.7+ MB\n"
     ]
    }
   ],
   "source": [
    "f3.info()                        # print struktur dan informasi dasar"
   ]
  },
  {
   "cell_type": "markdown",
   "id": "55ef8c99-d11d-4f39-935c-a64d68a824a5",
   "metadata": {},
   "source": [
    "Berdasarkan pengamatan yang dilakukan pada ke-3 file dataset di atas, diperoleh beberapa catatan sebagai berikut:\n",
    "\n",
    "1. Struktur data belum jelas karena nama variabel (kolom) pada file excel tidak ada pada baris pertama\n",
    "2. Data pada `OTS1.xlsx` tidak dapat terbaca dengan baik di Python. Langkah penyelesaian permasalahan ini adalah dengan cara `Copy-Paste` file tersebut ke file excel yang baru dan replace (menimpa) file yang lama. \n",
    "3. Nama variabel (kolom) pada baris pertama belum sesuai (tidak sama).\n",
    "4. Banyak kolom tidak sama.\n",
    "\n",
    "**Catatan:** Jika tidak ingin menghapus baris pertama dari file Excel maka dapat dilakukan dengan parameter `skiprows=1`. Selain itu, anda juga dapat menggunakan parameter `header=2` untuk menunjukan nama variabel ada pada  baris ke-2. Terlebih daripada itu, jika anda ingin melewati baris pada indeks 0, 2 dan 5 dapat menggunakan `skiprows=[0,2,5]`"
   ]
  },
  {
   "cell_type": "code",
   "execution_count": null,
   "id": "d02684c0-36eb-4a6a-8a87-81df75cb496f",
   "metadata": {},
   "outputs": [],
   "source": [
    "import pandas as pd              # library untuk impor data\n",
    "f1 = pd.read_excel('data/Mini_Project/OTS1.xlsx',skiprows=1, usecols='A:I, K') \n",
    "f2 = pd.read_excel('data/Mini_Project/OTS2.xlsx',header=1) \n",
    "f3 = pd.read_excel('data/Mini_Project/OTS3.xlsx',header=1) "
   ]
  },
  {
   "cell_type": "markdown",
   "id": "40d1b587-f6da-435e-9d85-d371c0ccbc2b",
   "metadata": {},
   "source": [
    "## Konversi Format File\n",
    "\n",
    "Saat mengerjakan proyek analitik data dengan jumlah pengamatan yang banyak, proses menyimpan dan memuat kembali data ke dalam memori menjadi lebih lambat, dan setiap kali anda melakukan restart pada kernel akan membutuhkan waktu tunggu yang cukup lama. Sehingga, sangat disarankan untuk menyimpan data dengan format terbaik. Menurut **Ilia Zaitsev** di dalam artikelnya pada laman [Towards Data Science](https://towardsdatascience.com/the-best-format-to-save-pandas-data-414dca023e0d) file EXCEL atau CSV atau format teks biasa lainnya bukanlah pilihan yang baik. Ini terbukti dari proses loading data pada ke-3 file Excel diatas **membutuhkan kurang lebih 3 menit untuk ukuran file 64 Mb**. Sehingga, untuk mempercepat proses loading data ini maka dilakukan proses penyimpanan data dengan format `feather`."
   ]
  },
  {
   "cell_type": "code",
   "execution_count": 28,
   "id": "34c67eb4-feac-4013-a6a0-3dee791c7c64",
   "metadata": {},
   "outputs": [],
   "source": [
    "# jangan lupa `pip isntall pyarrow`\n",
    "\n",
    "f1.to_feather('data/Mini_Project/OTS1.ftr')                  # data frame f1 ke `OTS1.ftr`\n",
    "f2.to_feather('data/Mini_Project/OTS2.ftr')                  # data frame f2 ke `OTS2.ftr`\n",
    "f3.to_feather('data/Mini_Project/OTS2.ftr')                  # data frame f1 ke `OTS1.ftr`"
   ]
  },
  {
   "cell_type": "markdown",
   "id": "3773162e-6fa8-4cc3-9c47-2da8acbb8d6d",
   "metadata": {},
   "source": [
    "## Gabungkan Data\n",
    "\n",
    "Setelah meyimpanan data dengan format `feather`, selanjutnya dilakukan proses penggabungan data."
   ]
  },
  {
   "cell_type": "code",
   "execution_count": 40,
   "id": "0e3c7fc4-a593-4d75-a945-21e2c24fcc31",
   "metadata": {},
   "outputs": [
    {
     "name": "stdout",
     "output_type": "stream",
     "text": [
      "<class 'pandas.core.frame.DataFrame'>\n",
      "RangeIndex: 1312227 entries, 0 to 1312226\n",
      "Data columns (total 10 columns):\n",
      " #   Column         Non-Null Count    Dtype  \n",
      "---  ------         --------------    -----  \n",
      " 0   Connote No     1312227 non-null  object \n",
      " 1   Order Id       1211622 non-null  object \n",
      " 2   Origin         1312227 non-null  object \n",
      " 3   Dest Runsheet  1312227 non-null  object \n",
      " 4   Amount         1312227 non-null  int64  \n",
      " 5   Project        1312227 non-null  object \n",
      " 6   POD Status     1312227 non-null  object \n",
      " 7   Customer Name  1312227 non-null  object \n",
      " 8   Regional       1312227 non-null  object \n",
      " 9   OUTSTANDING    1312227 non-null  float64\n",
      "dtypes: float64(1), int64(1), object(8)\n",
      "memory usage: 100.1+ MB\n"
     ]
    }
   ],
   "source": [
    "import pandas as pd \n",
    "ftr1=pd.read_feather('data/Mini_Project/OTS1.ftr')           # impor data \n",
    "ftr2=pd.read_feather('data/Mini_Project/OTS2.ftr')           # impor data \n",
    "ftr3=pd.read_feather('data/Mini_Project/OTS2.ftr')           # impor data \n",
    "\n",
    "datagabung = pd.concat([ftr1,ftr2,ftr3],ignore_index=True)   # gabungkan semua data\n",
    "datagabung.info()                                            # informasi dasar "
   ]
  },
  {
   "cell_type": "markdown",
   "id": "12e17e8e-363c-4f9b-a556-cb33421460b1",
   "metadata": {},
   "source": [
    "## Deskripsi Data  \n",
    "\n",
    "Berikut ini adalah deskripsi dataset yang sedang digunakan:\n",
    "\n",
    "* `Connote` : No Nomor yang diberikan oleh Seller/Penjual berguna untuk melacak sejauh mana proses pengiriman\n",
    "* `Order Id` : No Resi Pengiriman          \n",
    "* `Origin` :  Asal barang yang akan dikirimkan           \n",
    "* `Dest Runsheet` : Tujuan pengiriman      \n",
    "* `Amount` : Biaya Pengiriman           \n",
    "* `Project` : Jenis Project          \n",
    "* `POD Status` :  Process On delivery Detail adalah Paket atau barang sedang atau baru saja dikirimkan oleh kurir.   \n",
    "* `Customer Name`: Nama Pelanggan       \n",
    "* `Regional` : Regional          \n",
    "* `Kategori` :  Kategori           \n",
    "* `OUTSTANDING` : Biaya pengiriman yang terverifikasi       "
   ]
  },
  {
   "cell_type": "markdown",
   "id": "1cf56af4-177e-4b99-b676-bf9f5ab92920",
   "metadata": {},
   "source": [
    "**Catatan:** Data gabungan tersebut disimpan dengan format `feather`, sehingga untuk selanjutnya data ini yang akan di impor pada saat melakukan analisis."
   ]
  },
  {
   "cell_type": "code",
   "execution_count": 41,
   "id": "df103783-90ee-4dd8-bc9b-dc4724b28fd4",
   "metadata": {},
   "outputs": [],
   "source": [
    "datagabung.to_feather('data/Mini_Project/datagabung.ftr')    # data frame f1 ke `OTS1.ftr`"
   ]
  },
  {
   "cell_type": "markdown",
   "id": "41afcdcc-cd99-4c3c-badc-d5d705b26366",
   "metadata": {},
   "source": [
    "### Quiz 1\n",
    "\n",
    "Lakukan proses impor data dan memeriksa struktur data  dengan format `feather`!"
   ]
  },
  {
   "cell_type": "markdown",
   "id": "414389a4-8960-4927-9f5f-cc0118461a95",
   "metadata": {},
   "source": []
  },
  {
   "cell_type": "code",
   "execution_count": 44,
   "id": "e59b37ac-0cd1-45a5-9bf2-a381c4712be5",
   "metadata": {},
   "outputs": [
    {
     "data": {
      "text/plain": [
       "Connote No            0\n",
       "Order Id         100605\n",
       "Origin                0\n",
       "Dest Runsheet         0\n",
       "Amount                0\n",
       "Project               0\n",
       "POD Status            0\n",
       "Customer Name         0\n",
       "Regional              0\n",
       "OUTSTANDING           0\n",
       "dtype: int64"
      ]
     },
     "execution_count": 44,
     "metadata": {},
     "output_type": "execute_result"
    }
   ],
   "source": [
    "datagabung[datagabung.isna().any(axis=1)]  \n",
    "datagabung.isna().sum()                 # menghitung data yang hilang disetiap kolom"
   ]
  },
  {
   "cell_type": "code",
   "execution_count": null,
   "id": "4d3b2cf6-a1c4-4758-8e80-fc2d0e0e94bb",
   "metadata": {},
   "outputs": [],
   "source": []
  },
  {
   "cell_type": "code",
   "execution_count": null,
   "id": "11c364c9-37d5-4164-a384-f9a25ec7a33b",
   "metadata": {},
   "outputs": [],
   "source": [
    "f4 = pd.read_excel('data/Mini_Project/ID_Kurir.xlsx')        # ~~~~~~~~~~~~~~~~ ID Kurir"
   ]
  }
 ],
 "metadata": {
  "kernelspec": {
   "display_name": "Python 3 (ipykernel)",
   "language": "python",
   "name": "python3"
  },
  "language_info": {
   "codemirror_mode": {
    "name": "ipython",
    "version": 3
   },
   "file_extension": ".py",
   "mimetype": "text/x-python",
   "name": "python",
   "nbconvert_exporter": "python",
   "pygments_lexer": "ipython3",
   "version": "3.8.13"
  }
 },
 "nbformat": 4,
 "nbformat_minor": 5
}
